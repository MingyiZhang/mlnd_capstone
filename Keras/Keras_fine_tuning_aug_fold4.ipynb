{
 "cells": [
  {
   "cell_type": "markdown",
   "metadata": {},
   "source": [
    "### Load modules"
   ]
  },
  {
   "cell_type": "code",
   "execution_count": 1,
   "metadata": {},
   "outputs": [
    {
     "name": "stderr",
     "output_type": "stream",
     "text": [
      "Using TensorFlow backend.\n"
     ]
    }
   ],
   "source": [
    "from keras.models import *\n",
    "from keras.layers import *\n",
    "from keras.applications import *\n",
    "from keras.preprocessing.image import *"
   ]
  },
  {
   "cell_type": "code",
   "execution_count": 2,
   "metadata": {
    "collapsed": true
   },
   "outputs": [],
   "source": [
    "import os\n",
    "import numpy as np\n",
    "import pandas as pd\n",
    "\n",
    "from sklearn.utils import shuffle\n",
    "from sklearn.model_selection import KFold"
   ]
  },
  {
   "cell_type": "code",
   "execution_count": 3,
   "metadata": {
    "collapsed": true
   },
   "outputs": [],
   "source": [
    "import h5py"
   ]
  },
  {
   "cell_type": "markdown",
   "metadata": {},
   "source": [
    "### Load train image list"
   ]
  },
  {
   "cell_type": "code",
   "execution_count": 19,
   "metadata": {
    "collapsed": true
   },
   "outputs": [],
   "source": [
    "df = pd.read_csv('driver_imgs_list.csv')\n",
    "# drivers' names\n",
    "subjects = np.unique(df['subject'])\n",
    "# classes\n",
    "classnames = np.unique(df['classname'])"
   ]
  },
  {
   "cell_type": "markdown",
   "metadata": {},
   "source": [
    "### 5-fold train-val split in terms of drivers: "
   ]
  },
  {
   "cell_type": "code",
   "execution_count": 20,
   "metadata": {
    "collapsed": true
   },
   "outputs": [],
   "source": [
    "kf = KFold(n_splits=5, random_state=42, shuffle=True)\n",
    "subjects_t = []\n",
    "subjects_v = []\n",
    "for sub_t, sub_v in kf.split(subjects):\n",
    "    subjects_t.append(list(subjects[sub_t]))\n",
    "    subjects_v.append(list(subjects[sub_v]))"
   ]
  },
  {
   "cell_type": "markdown",
   "metadata": {},
   "source": [
    "split the train image list"
   ]
  },
  {
   "cell_type": "code",
   "execution_count": 21,
   "metadata": {
    "collapsed": true
   },
   "outputs": [],
   "source": [
    "def split_list(subjects_t, subjects_v):\n",
    "    df_t = df.loc[df.subject.isin(subjects_t)]\n",
    "    df_v = df.loc[df.subject.isin(subjects_v)]\n",
    "    return df_t, df_v"
   ]
  },
  {
   "cell_type": "markdown",
   "metadata": {},
   "source": [
    "### original dataset dir."
   ]
  },
  {
   "cell_type": "code",
   "execution_count": 9,
   "metadata": {
    "collapsed": true
   },
   "outputs": [],
   "source": [
    "dataset_dir = '/dataset_dir'\n",
    "# dataset_dir = '../../dataset_resized'\n",
    "\n",
    "train_raw_dir = dataset_dir + '/train'\n",
    "test_dir = dataset_dir + '/test'"
   ]
  },
  {
   "cell_type": "markdown",
   "metadata": {},
   "source": [
    "### make dirs of train and validation"
   ]
  },
  {
   "cell_type": "code",
   "execution_count": 8,
   "metadata": {
    "collapsed": true
   },
   "outputs": [],
   "source": [
    "import shutil\n",
    "from shutil import *"
   ]
  },
  {
   "cell_type": "code",
   "execution_count": 9,
   "metadata": {
    "collapsed": true
   },
   "outputs": [],
   "source": [
    "from tqdm import tqdm"
   ]
  },
  {
   "cell_type": "code",
   "execution_count": 10,
   "metadata": {
    "collapsed": true
   },
   "outputs": [],
   "source": [
    "def mkdir_train_val(fold):\n",
    "    if 'train'+str(fold) in os.listdir():\n",
    "        shutil.rmtree('train'+str(fold))\n",
    "    if 'validation'+str(fold) in os.listdir():\n",
    "        shutil.rmtree('validation'+str(fold))\n",
    "    for split_name in ['train', 'validation']:\n",
    "        for cls in classnames:\n",
    "            os.makedirs(split_name+str(fold) + '/' + cls)"
   ]
  },
  {
   "cell_type": "code",
   "execution_count": 11,
   "metadata": {
    "collapsed": true
   },
   "outputs": [],
   "source": [
    "def symlink_train_val(df_t, df_v, fold, train_dir):\n",
    "    mkdir_train_val(fold)\n",
    "    for i in tqdm(range(len(df_t))):\n",
    "        cls = df_t.iloc[i]['classname']\n",
    "        img = df_t.iloc[i]['img']\n",
    "        os.symlink(train_dir+'/'+cls+'/'+img, 'train'+str(fold)+'/'+cls+'/'+img)\n",
    "    for i in tqdm(range(len(df_v))):\n",
    "        cls = df_v.iloc[i]['classname']\n",
    "        img = df_v.iloc[i]['img']\n",
    "        os.symlink(train_dir+'/'+cls+'/'+img, 'validation'+str(fold)+'/'+cls+'/'+img)"
   ]
  },
  {
   "cell_type": "code",
   "execution_count": 12,
   "metadata": {
    "collapsed": true
   },
   "outputs": [],
   "source": [
    "def copy_train_val(df_t, df_v, fold, train_dir):\n",
    "    mkdir_train_val(fold)\n",
    "    for i in tqdm(range(len(df_t))):\n",
    "        cls = df_t.iloc[i]['classname']\n",
    "        img = df_t.iloc[i]['img']\n",
    "        copyfile(train_dir+'/'+cls+'/'+img, 'train'+str(fold)+'/'+cls+'/'+img)\n",
    "    for i in tqdm(range(len(df_v))):\n",
    "        cls = df_v.iloc[i]['classname']\n",
    "        img = df_v.iloc[i]['img']\n",
    "        copyfile(train_dir+'/'+cls+'/'+img, 'validation'+str(fold)+'/'+cls+'/'+img)"
   ]
  },
  {
   "cell_type": "code",
   "execution_count": 13,
   "metadata": {},
   "outputs": [
    {
     "name": "stderr",
     "output_type": "stream",
     "text": [
      "100%|██████████| 17685/17685 [02:36<00:00, 113.25it/s]\n",
      "100%|██████████| 4739/4739 [00:39<00:00, 120.25it/s]\n"
     ]
    }
   ],
   "source": [
    "for fold in range(4,5):\n",
    "    df_t, df_v = split_list(subjects_t[fold], subjects_v[fold])\n",
    "    symlink_train_val(df_t, df_v, fold, train_raw_dir)"
   ]
  },
  {
   "cell_type": "code",
   "execution_count": 14,
   "metadata": {
    "collapsed": true
   },
   "outputs": [],
   "source": [
    "train_dir = 'train4'\n",
    "val_dir = 'validation4'"
   ]
  },
  {
   "cell_type": "markdown",
   "metadata": {},
   "source": [
    "### preprocessing images"
   ]
  },
  {
   "cell_type": "code",
   "execution_count": 4,
   "metadata": {
    "collapsed": true
   },
   "outputs": [],
   "source": [
    "# preprocess function of VGG and ResNet50\n",
    "def preprocess_fn(x):\n",
    "    # RGB >> BGR\n",
    "    x = img_to_array(x)\n",
    "    x = x[:, :, ::-1]\n",
    "    # Zero-center by mean pixel\n",
    "    x[:, :, 0] -= 103.939\n",
    "    x[:, :, 1] -= 116.779\n",
    "    x[:, :, 2] -= 123.68\n",
    "    return x"
   ]
  },
  {
   "cell_type": "code",
   "execution_count": 5,
   "metadata": {
    "collapsed": true
   },
   "outputs": [],
   "source": [
    "# default image size of VGG and ResNet50\n",
    "img_width, img_height = 224, 224"
   ]
  },
  {
   "cell_type": "code",
   "execution_count": 6,
   "metadata": {
    "collapsed": true
   },
   "outputs": [],
   "source": [
    "batch_size = 32"
   ]
  },
  {
   "cell_type": "code",
   "execution_count": 7,
   "metadata": {
    "collapsed": true
   },
   "outputs": [],
   "source": [
    "data_gen = ImageDataGenerator(preprocessing_function=preprocess_fn)"
   ]
  },
  {
   "cell_type": "markdown",
   "metadata": {},
   "source": [
    "original generator"
   ]
  },
  {
   "cell_type": "code",
   "execution_count": 22,
   "metadata": {
    "scrolled": true
   },
   "outputs": [
    {
     "name": "stdout",
     "output_type": "stream",
     "text": [
      "Found 17446 images belonging to 10 classes.\n"
     ]
    }
   ],
   "source": [
    "train_generator = data_gen.flow_from_directory(train_dir, \n",
    "                                               target_size=(img_height, img_width), \n",
    "                                               class_mode='categorical',\n",
    "                                               batch_size=batch_size)"
   ]
  },
  {
   "cell_type": "code",
   "execution_count": 19,
   "metadata": {},
   "outputs": [
    {
     "name": "stdout",
     "output_type": "stream",
     "text": [
      "Found 4739 images belonging to 10 classes.\n"
     ]
    }
   ],
   "source": [
    "val_generator = data_gen.flow_from_directory(val_dir, \n",
    "                                             target_size=(img_height, img_width), \n",
    "                                             class_mode='categorical',\n",
    "                                             batch_size=batch_size)"
   ]
  },
  {
   "cell_type": "code",
   "execution_count": 10,
   "metadata": {},
   "outputs": [
    {
     "name": "stdout",
     "output_type": "stream",
     "text": [
      "Found 79726 images belonging to 1 classes.\n"
     ]
    }
   ],
   "source": [
    "test_generator = data_gen.flow_from_directory(test_dir, \n",
    "                                              target_size=(img_height, img_width), \n",
    "                                              class_mode=None,\n",
    "                                              shuffle=False,\n",
    "                                              batch_size=batch_size)"
   ]
  },
  {
   "cell_type": "markdown",
   "metadata": {},
   "source": [
    "transfer generator"
   ]
  },
  {
   "cell_type": "code",
   "execution_count": null,
   "metadata": {
    "collapsed": true
   },
   "outputs": [],
   "source": [
    "train_tf_generator = data_gen.flow_from_directory(train_dir, \n",
    "                                                  target_size=(img_height, img_width), \n",
    "                                                  class_mode='categorical',\n",
    "                                                  shuffle=False,\n",
    "                                                  batch_size=batch_size)"
   ]
  },
  {
   "cell_type": "code",
   "execution_count": null,
   "metadata": {
    "collapsed": true
   },
   "outputs": [],
   "source": [
    "val_tf_generator = data_gen.flow_from_directory(val_dir,\n",
    "                                                target_size=(img_height, img_width), \n",
    "                                                class_mode='categorical',\n",
    "                                                shuffle=False,\n",
    "                                                batch_size=batch_size)"
   ]
  },
  {
   "cell_type": "markdown",
   "metadata": {},
   "source": [
    "augment generator"
   ]
  },
  {
   "cell_type": "code",
   "execution_count": 20,
   "metadata": {
    "collapsed": true
   },
   "outputs": [],
   "source": [
    "data_gen_aug = ImageDataGenerator(rotation_range=30.,\n",
    "                                  width_shift_range=0.1,\n",
    "                                  height_shift_range=0.1,\n",
    "                                  preprocessing_function=preprocess_fn)"
   ]
  },
  {
   "cell_type": "code",
   "execution_count": 21,
   "metadata": {},
   "outputs": [
    {
     "name": "stdout",
     "output_type": "stream",
     "text": [
      "Found 17685 images belonging to 10 classes.\n"
     ]
    }
   ],
   "source": [
    "train_aug_generator = data_gen_aug.flow_from_directory(train_dir, \n",
    "                                                       target_size=(img_height, img_width), \n",
    "                                                       class_mode='categorical',\n",
    "                                                       batch_size=batch_size)"
   ]
  },
  {
   "cell_type": "code",
   "execution_count": 42,
   "metadata": {},
   "outputs": [
    {
     "name": "stdout",
     "output_type": "stream",
     "text": [
      "Found 4978 images belonging to 10 classes.\n"
     ]
    }
   ],
   "source": [
    "val_aug_generator = data_gen_aug.flow_from_directory(val_dir, \n",
    "                                                     target_size=(img_height, img_width), \n",
    "                                                     class_mode='categorical',\n",
    "                                                     batch_size=batch_size)"
   ]
  },
  {
   "cell_type": "code",
   "execution_count": 44,
   "metadata": {},
   "outputs": [
    {
     "name": "stdout",
     "output_type": "stream",
     "text": [
      "Found 79726 images belonging to 1 classes.\n"
     ]
    }
   ],
   "source": [
    "test_aug_generator = data_gen_aug.flow_from_directory(test_dir, \n",
    "                                                      target_size=(img_height, img_width), \n",
    "                                                      class_mode=None,\n",
    "                                                      shuffle=False,\n",
    "                                                      batch_size=batch_size)"
   ]
  },
  {
   "cell_type": "markdown",
   "metadata": {},
   "source": [
    "### Fine-tuning VGG16"
   ]
  },
  {
   "cell_type": "code",
   "execution_count": 11,
   "metadata": {
    "collapsed": true
   },
   "outputs": [],
   "source": [
    "from keras.optimizers import *\n",
    "from keras.callbacks import *"
   ]
  },
  {
   "cell_type": "code",
   "execution_count": 12,
   "metadata": {
    "collapsed": true
   },
   "outputs": [],
   "source": [
    "adam = Adam(lr=1e-4, beta_1=0.9, beta_2=0.999, epsilon=1e-08, decay=1e-6)\n",
    "sgd = SGD(lr=1e-4, decay=1e-6, momentum=0.9, nesterov=True)"
   ]
  },
  {
   "cell_type": "code",
   "execution_count": 13,
   "metadata": {
    "collapsed": true
   },
   "outputs": [],
   "source": [
    "def model_build(MODEL, optimizer, layer_num_fix, top_dropout=False):\n",
    "    base_model = MODEL(weights='imagenet', include_top=True)\n",
    "    if top_dropout:\n",
    "        x = Dropout(0.4, name='top_dropout')(base_model.layers[-2].output)\n",
    "        x = Dense(10, activation='softmax', name='top_prediction')(x)\n",
    "    else:\n",
    "        x = Dense(10, activation='softmax', name='top_prediction')(base_model.layers[-2].output)\n",
    "        \n",
    "    model_ft = Model(base_model.input, x, name=MODEL.__name__)\n",
    "    model_ft.compile(optimizer=optimizer, \n",
    "                     loss='categorical_crossentropy', \n",
    "                     metrics=['accuracy'])\n",
    "    for layer in model_ft.layers[:layer_num_fix]:\n",
    "        layer.trainable = False\n",
    "    return model_ft"
   ]
  },
  {
   "cell_type": "code",
   "execution_count": 14,
   "metadata": {
    "collapsed": true
   },
   "outputs": [],
   "source": [
    "model_vgg16_ft = model_build(VGG16, adam, 10, False)"
   ]
  },
  {
   "cell_type": "code",
   "execution_count": 29,
   "metadata": {
    "collapsed": true,
    "scrolled": true
   },
   "outputs": [],
   "source": [
    "tensorboard_cb = TensorBoard(log_dir='log/vgg16', histogram_freq=0, batch_size=batch_size, write_graph=True, write_images=True)\n",
    "ckpt_cb = ModelCheckpoint('vgg16_ft4_aug_weights.{epoch:02d}-{val_loss:.3f}.hdf5', monitor='val_loss', verbose=1, save_best_only=True)"
   ]
  },
  {
   "cell_type": "code",
   "execution_count": null,
   "metadata": {
    "collapsed": true
   },
   "outputs": [],
   "source": [
    "num_epochs = 50"
   ]
  },
  {
   "cell_type": "code",
   "execution_count": null,
   "metadata": {
    "scrolled": false
   },
   "outputs": [
    {
     "name": "stdout",
     "output_type": "stream",
     "text": [
      "Epoch 1/50\n",
      "49/50 [============================>.] - ETA: 2s - loss: 2.5092 - acc: 0.1059Epoch 00000: val_loss improved from inf to 2.31011, saving model to vgg16_ft4_aug_weights.00-2.310.hdf5\n",
      "50/50 [==============================] - 218s - loss: 2.5061 - acc: 0.1044 - val_loss: 2.3101 - val_acc: 0.1042\n",
      "Epoch 2/50\n",
      "49/50 [============================>.] - ETA: 1s - loss: 2.3040 - acc: 0.1237Epoch 00001: val_loss improved from 2.31011 to 2.26975, saving model to vgg16_ft4_aug_weights.01-2.270.hdf5\n",
      "50/50 [==============================] - 191s - loss: 2.3032 - acc: 0.1225 - val_loss: 2.2698 - val_acc: 0.1618\n",
      "Epoch 3/50\n",
      "49/50 [============================>.] - ETA: 1s - loss: 2.2646 - acc: 0.1422Epoch 00002: val_loss improved from 2.26975 to 2.10933, saving model to vgg16_ft4_aug_weights.02-2.109.hdf5\n",
      "50/50 [==============================] - 193s - loss: 2.2610 - acc: 0.1450 - val_loss: 2.1093 - val_acc: 0.2271\n",
      "Epoch 4/50\n",
      "49/50 [============================>.] - ETA: 1s - loss: 1.9165 - acc: 0.2570Epoch 00003: val_loss improved from 2.10933 to 1.72715, saving model to vgg16_ft4_aug_weights.03-1.727.hdf5\n",
      "50/50 [==============================] - 195s - loss: 1.9141 - acc: 0.2575 - val_loss: 1.7272 - val_acc: 0.3440\n",
      "Epoch 5/50\n",
      "49/50 [============================>.] - ETA: 1s - loss: 1.5822 - acc: 0.3954Epoch 00004: val_loss improved from 1.72715 to 1.54054, saving model to vgg16_ft4_aug_weights.04-1.541.hdf5\n",
      "50/50 [==============================] - 193s - loss: 1.5865 - acc: 0.3956 - val_loss: 1.5405 - val_acc: 0.3760\n",
      "Epoch 6/50\n",
      "49/50 [============================>.] - ETA: 1s - loss: 1.3747 - acc: 0.4624Epoch 00005: val_loss improved from 1.54054 to 1.18581, saving model to vgg16_ft4_aug_weights.05-1.186.hdf5\n",
      "50/50 [==============================] - 193s - loss: 1.3754 - acc: 0.4619 - val_loss: 1.1858 - val_acc: 0.4752\n",
      "Epoch 7/50\n",
      "49/50 [============================>.] - ETA: 1s - loss: 1.2141 - acc: 0.5096Epoch 00006: val_loss did not improve\n",
      "50/50 [==============================] - 181s - loss: 1.2125 - acc: 0.5112 - val_loss: 1.2809 - val_acc: 0.5664\n",
      "Epoch 8/50\n",
      "49/50 [============================>.] - ETA: 1s - loss: 1.0338 - acc: 0.5912Epoch 00007: val_loss improved from 1.18581 to 0.96024, saving model to vgg16_ft4_aug_weights.07-0.960.hdf5\n",
      "50/50 [==============================] - 193s - loss: 1.0276 - acc: 0.5938 - val_loss: 0.9602 - val_acc: 0.6204\n",
      "Epoch 9/50\n",
      "49/50 [============================>.] - ETA: 1s - loss: 0.8430 - acc: 0.6792Epoch 00008: val_loss did not improve\n",
      "50/50 [==============================] - 181s - loss: 0.8481 - acc: 0.6800 - val_loss: 1.1383 - val_acc: 0.5997\n",
      "Epoch 10/50\n",
      "49/50 [============================>.] - ETA: 1s - loss: 0.7528 - acc: 0.7270Epoch 00009: val_loss improved from 0.96024 to 0.50958, saving model to vgg16_ft4_aug_weights.09-0.510.hdf5\n",
      "50/50 [==============================] - 201s - loss: 0.7492 - acc: 0.7281 - val_loss: 0.5096 - val_acc: 0.8244\n",
      "Epoch 11/50\n",
      "49/50 [============================>.] - ETA: 1s - loss: 0.5391 - acc: 0.8291Epoch 00010: val_loss improved from 0.50958 to 0.38007, saving model to vgg16_ft4_aug_weights.10-0.380.hdf5\n",
      "50/50 [==============================] - 193s - loss: 0.5396 - acc: 0.8306 - val_loss: 0.3801 - val_acc: 0.8464\n",
      "Epoch 12/50\n",
      "49/50 [============================>.] - ETA: 2s - loss: 0.4391 - acc: 0.8530Epoch 00011: val_loss did not improve\n",
      "50/50 [==============================] - 187s - loss: 0.4324 - acc: 0.8553 - val_loss: 0.5681 - val_acc: 0.8008\n",
      "Epoch 13/50\n",
      "49/50 [============================>.] - ETA: 1s - loss: 0.3410 - acc: 0.8935Epoch 00012: val_loss did not improve\n",
      "50/50 [==============================] - 181s - loss: 0.3393 - acc: 0.8937 - val_loss: 0.4246 - val_acc: 0.8508\n",
      "Epoch 14/50\n",
      "49/50 [============================>.] - ETA: 1s - loss: 0.2962 - acc: 0.9145Epoch 00013: val_loss did not improve\n",
      "50/50 [==============================] - 181s - loss: 0.2990 - acc: 0.9144 - val_loss: 0.4636 - val_acc: 0.8447\n",
      "Epoch 15/50\n",
      "49/50 [============================>.] - ETA: 1s - loss: 0.3197 - acc: 0.9024Epoch 00014: val_loss did not improve\n",
      "50/50 [==============================] - 181s - loss: 0.3194 - acc: 0.9025 - val_loss: 0.3835 - val_acc: 0.8696\n",
      "Epoch 16/50\n",
      "49/50 [============================>.] - ETA: 1s - loss: 0.2510 - acc: 0.9228Epoch 00015: val_loss improved from 0.38007 to 0.24101, saving model to vgg16_ft4_aug_weights.15-0.241.hdf5\n",
      "50/50 [==============================] - 192s - loss: 0.2505 - acc: 0.9237 - val_loss: 0.2410 - val_acc: 0.9196\n",
      "Epoch 17/50\n",
      "49/50 [============================>.] - ETA: 1s - loss: 0.2092 - acc: 0.9337Epoch 00016: val_loss did not improve\n",
      "50/50 [==============================] - 181s - loss: 0.2060 - acc: 0.9350 - val_loss: 0.5365 - val_acc: 0.8574\n",
      "Epoch 18/50\n",
      "49/50 [============================>.] - ETA: 1s - loss: 0.2065 - acc: 0.9324Epoch 00017: val_loss did not improve\n",
      "50/50 [==============================] - 181s - loss: 0.2101 - acc: 0.9319 - val_loss: 0.3099 - val_acc: 0.8922\n",
      "Epoch 19/50\n",
      "49/50 [============================>.] - ETA: 1s - loss: 0.1891 - acc: 0.9420Epoch 00018: val_loss did not improve\n",
      "50/50 [==============================] - 181s - loss: 0.1877 - acc: 0.9425 - val_loss: 0.3817 - val_acc: 0.8683\n",
      "Epoch 20/50\n",
      "49/50 [============================>.] - ETA: 1s - loss: 0.1972 - acc: 0.9445Epoch 00019: val_loss did not improve\n",
      "50/50 [==============================] - 181s - loss: 0.1952 - acc: 0.9450 - val_loss: 0.7856 - val_acc: 0.7837\n",
      "Epoch 21/50\n",
      "49/50 [============================>.] - ETA: 1s - loss: 0.1944 - acc: 0.9464Epoch 00020: val_loss did not improve\n",
      "50/50 [==============================] - 181s - loss: 0.1924 - acc: 0.9469 - val_loss: 0.6159 - val_acc: 0.8468\n",
      "Epoch 22/50\n",
      "49/50 [============================>.] - ETA: 1s - loss: 0.2246 - acc: 0.9311Epoch 00021: val_loss did not improve\n",
      "50/50 [==============================] - 181s - loss: 0.2298 - acc: 0.9300 - val_loss: 0.6770 - val_acc: 0.8057\n",
      "Epoch 23/50\n",
      "49/50 [============================>.] - ETA: 1s - loss: 0.1592 - acc: 0.9506Epoch 00022: val_loss did not improve\n",
      "50/50 [==============================] - 181s - loss: 0.1596 - acc: 0.9503 - val_loss: 0.3419 - val_acc: 0.8854\n",
      "Epoch 24/50\n",
      "49/50 [============================>.] - ETA: 1s - loss: 0.1092 - acc: 0.9668Epoch 00023: val_loss did not improve\n",
      "50/50 [==============================] - 181s - loss: 0.1077 - acc: 0.9675 - val_loss: 0.7120 - val_acc: 0.7907\n",
      "Epoch 25/50\n",
      "49/50 [============================>.] - ETA: 1s - loss: 0.1339 - acc: 0.9668Epoch 00024: val_loss did not improve\n",
      "50/50 [==============================] - 181s - loss: 0.1315 - acc: 0.9675 - val_loss: 0.4248 - val_acc: 0.8576\n",
      "Epoch 26/50\n",
      "49/50 [============================>.] - ETA: 1s - loss: 0.1137 - acc: 0.9630Epoch 00025: val_loss did not improve\n",
      "50/50 [==============================] - 181s - loss: 0.1123 - acc: 0.9637 - val_loss: 0.5033 - val_acc: 0.8236\n",
      "Epoch 27/50\n",
      "49/50 [============================>.] - ETA: 1s - loss: 0.1518 - acc: 0.9611Epoch 00026: val_loss did not improve\n",
      "50/50 [==============================] - 179s - loss: 0.1530 - acc: 0.9613 - val_loss: 0.4080 - val_acc: 0.8369\n",
      "Epoch 28/50\n",
      "49/50 [============================>.] - ETA: 1s - loss: 0.1110 - acc: 0.9700Epoch 00027: val_loss did not improve\n",
      "50/50 [==============================] - 181s - loss: 0.1088 - acc: 0.9706 - val_loss: 0.5210 - val_acc: 0.8590\n",
      "Epoch 29/50\n",
      "49/50 [============================>.] - ETA: 1s - loss: 0.1239 - acc: 0.9585Epoch 00028: val_loss did not improve\n",
      "50/50 [==============================] - 181s - loss: 0.1219 - acc: 0.9594 - val_loss: 0.4295 - val_acc: 0.8728\n",
      "Epoch 30/50\n",
      "49/50 [============================>.] - ETA: 1s - loss: 0.1446 - acc: 0.9566Epoch 00029: val_loss did not improve\n",
      "50/50 [==============================] - 181s - loss: 0.1429 - acc: 0.9562 - val_loss: 0.5354 - val_acc: 0.8322\n",
      "Epoch 31/50\n",
      "49/50 [============================>.] - ETA: 1s - loss: 0.1275 - acc: 0.9605Epoch 00030: val_loss did not improve\n",
      "50/50 [==============================] - 181s - loss: 0.1303 - acc: 0.9600 - val_loss: 0.4303 - val_acc: 0.8472\n",
      "Epoch 32/50\n",
      "49/50 [============================>.] - ETA: 1s - loss: 0.1042 - acc: 0.9675Epoch 00031: val_loss did not improve\n"
     ]
    },
    {
     "name": "stdout",
     "output_type": "stream",
     "text": [
      "50/50 [==============================] - 181s - loss: 0.1034 - acc: 0.9675 - val_loss: 0.3990 - val_acc: 0.8761\n",
      "Epoch 33/50\n",
      "49/50 [============================>.] - ETA: 1s - loss: 0.1086 - acc: 0.9675Epoch 00032: val_loss did not improve\n",
      "50/50 [==============================] - 181s - loss: 0.1084 - acc: 0.9669 - val_loss: 0.6300 - val_acc: 0.8447\n",
      "Epoch 34/50\n",
      "49/50 [============================>.] - ETA: 1s - loss: 0.1177 - acc: 0.9649Epoch 00033: val_loss did not improve\n",
      "50/50 [==============================] - 181s - loss: 0.1199 - acc: 0.9637 - val_loss: 0.3719 - val_acc: 0.8848\n",
      "Epoch 35/50\n",
      "49/50 [============================>.] - ETA: 1s - loss: 0.0882 - acc: 0.9751Epoch 00034: val_loss did not improve\n",
      "50/50 [==============================] - 181s - loss: 0.0919 - acc: 0.9750 - val_loss: 0.4039 - val_acc: 0.8778\n",
      "Epoch 36/50\n",
      "49/50 [============================>.] - ETA: 1s - loss: 0.0828 - acc: 0.9828Epoch 00035: val_loss did not improve\n",
      "50/50 [==============================] - 179s - loss: 0.0815 - acc: 0.9831 - val_loss: 0.5779 - val_acc: 0.8061\n",
      "Epoch 37/50\n",
      "49/50 [============================>.] - ETA: 1s - loss: 0.0710 - acc: 0.9796Epoch 00036: val_loss did not improve\n",
      "50/50 [==============================] - 181s - loss: 0.0716 - acc: 0.9788 - val_loss: 0.3626 - val_acc: 0.8890\n",
      "Epoch 38/50\n",
      "49/50 [============================>.] - ETA: 1s - loss: 0.0761 - acc: 0.9790"
     ]
    },
    {
     "ename": "KeyboardInterrupt",
     "evalue": "",
     "output_type": "error",
     "traceback": [
      "\u001b[0;31m---------------------------------------------------------------------------\u001b[0m",
      "\u001b[0;31mKeyboardInterrupt\u001b[0m                         Traceback (most recent call last)",
      "\u001b[0;32m<ipython-input-31-acfb42ff879b>\u001b[0m in \u001b[0;36m<module>\u001b[0;34m()\u001b[0m\n\u001b[1;32m      4\u001b[0m                              \u001b[0mvalidation_data\u001b[0m\u001b[0;34m=\u001b[0m\u001b[0mval_generator\u001b[0m\u001b[0;34m,\u001b[0m\u001b[0;34m\u001b[0m\u001b[0m\n\u001b[1;32m      5\u001b[0m                              \u001b[0mvalidation_steps\u001b[0m\u001b[0;34m=\u001b[0m\u001b[0mval_generator\u001b[0m\u001b[0;34m.\u001b[0m\u001b[0msamples\u001b[0m\u001b[0;34m//\u001b[0m\u001b[0mbatch_size\u001b[0m\u001b[0;34m+\u001b[0m\u001b[0;36m1\u001b[0m\u001b[0;34m,\u001b[0m\u001b[0;34m\u001b[0m\u001b[0m\n\u001b[0;32m----> 6\u001b[0;31m                              callbacks=[tensorboard_cb, ckpt_cb])\n\u001b[0m",
      "\u001b[0;32m/usr/local/lib/python3.5/site-packages/keras/legacy/interfaces.py\u001b[0m in \u001b[0;36mwrapper\u001b[0;34m(*args, **kwargs)\u001b[0m\n\u001b[1;32m     85\u001b[0m                 warnings.warn('Update your `' + object_name +\n\u001b[1;32m     86\u001b[0m                               '` call to the Keras 2 API: ' + signature, stacklevel=2)\n\u001b[0;32m---> 87\u001b[0;31m             \u001b[0;32mreturn\u001b[0m \u001b[0mfunc\u001b[0m\u001b[0;34m(\u001b[0m\u001b[0;34m*\u001b[0m\u001b[0margs\u001b[0m\u001b[0;34m,\u001b[0m \u001b[0;34m**\u001b[0m\u001b[0mkwargs\u001b[0m\u001b[0;34m)\u001b[0m\u001b[0;34m\u001b[0m\u001b[0m\n\u001b[0m\u001b[1;32m     88\u001b[0m         \u001b[0mwrapper\u001b[0m\u001b[0;34m.\u001b[0m\u001b[0m_original_function\u001b[0m \u001b[0;34m=\u001b[0m \u001b[0mfunc\u001b[0m\u001b[0;34m\u001b[0m\u001b[0m\n\u001b[1;32m     89\u001b[0m         \u001b[0;32mreturn\u001b[0m \u001b[0mwrapper\u001b[0m\u001b[0;34m\u001b[0m\u001b[0m\n",
      "\u001b[0;32m/usr/local/lib/python3.5/site-packages/keras/engine/training.py\u001b[0m in \u001b[0;36mfit_generator\u001b[0;34m(self, generator, steps_per_epoch, epochs, verbose, callbacks, validation_data, validation_steps, class_weight, max_queue_size, workers, use_multiprocessing, initial_epoch)\u001b[0m\n\u001b[1;32m   1860\u001b[0m                                 \u001b[0mmax_queue_size\u001b[0m\u001b[0;34m=\u001b[0m\u001b[0mmax_queue_size\u001b[0m\u001b[0;34m,\u001b[0m\u001b[0;34m\u001b[0m\u001b[0m\n\u001b[1;32m   1861\u001b[0m                                 \u001b[0mworkers\u001b[0m\u001b[0;34m=\u001b[0m\u001b[0mworkers\u001b[0m\u001b[0;34m,\u001b[0m\u001b[0;34m\u001b[0m\u001b[0m\n\u001b[0;32m-> 1862\u001b[0;31m                                 use_multiprocessing=use_multiprocessing)\n\u001b[0m\u001b[1;32m   1863\u001b[0m                         \u001b[0;32melse\u001b[0m\u001b[0;34m:\u001b[0m\u001b[0;34m\u001b[0m\u001b[0m\n\u001b[1;32m   1864\u001b[0m                             \u001b[0;31m# No need for try/except because\u001b[0m\u001b[0;34m\u001b[0m\u001b[0;34m\u001b[0m\u001b[0m\n",
      "\u001b[0;32m/usr/local/lib/python3.5/site-packages/keras/legacy/interfaces.py\u001b[0m in \u001b[0;36mwrapper\u001b[0;34m(*args, **kwargs)\u001b[0m\n\u001b[1;32m     85\u001b[0m                 warnings.warn('Update your `' + object_name +\n\u001b[1;32m     86\u001b[0m                               '` call to the Keras 2 API: ' + signature, stacklevel=2)\n\u001b[0;32m---> 87\u001b[0;31m             \u001b[0;32mreturn\u001b[0m \u001b[0mfunc\u001b[0m\u001b[0;34m(\u001b[0m\u001b[0;34m*\u001b[0m\u001b[0margs\u001b[0m\u001b[0;34m,\u001b[0m \u001b[0;34m**\u001b[0m\u001b[0mkwargs\u001b[0m\u001b[0;34m)\u001b[0m\u001b[0;34m\u001b[0m\u001b[0m\n\u001b[0m\u001b[1;32m     88\u001b[0m         \u001b[0mwrapper\u001b[0m\u001b[0;34m.\u001b[0m\u001b[0m_original_function\u001b[0m \u001b[0;34m=\u001b[0m \u001b[0mfunc\u001b[0m\u001b[0;34m\u001b[0m\u001b[0m\n\u001b[1;32m     89\u001b[0m         \u001b[0;32mreturn\u001b[0m \u001b[0mwrapper\u001b[0m\u001b[0;34m\u001b[0m\u001b[0m\n",
      "\u001b[0;32m/usr/local/lib/python3.5/site-packages/keras/engine/training.py\u001b[0m in \u001b[0;36mevaluate_generator\u001b[0;34m(self, generator, steps, max_queue_size, workers, use_multiprocessing)\u001b[0m\n\u001b[1;32m   1969\u001b[0m                                      \u001b[0;34m'or (x, y). Found: '\u001b[0m \u001b[0;34m+\u001b[0m\u001b[0;34m\u001b[0m\u001b[0m\n\u001b[1;32m   1970\u001b[0m                                      str(generator_output))\n\u001b[0;32m-> 1971\u001b[0;31m                 \u001b[0mouts\u001b[0m \u001b[0;34m=\u001b[0m \u001b[0mself\u001b[0m\u001b[0;34m.\u001b[0m\u001b[0mtest_on_batch\u001b[0m\u001b[0;34m(\u001b[0m\u001b[0mx\u001b[0m\u001b[0;34m,\u001b[0m \u001b[0my\u001b[0m\u001b[0;34m,\u001b[0m \u001b[0msample_weight\u001b[0m\u001b[0;34m=\u001b[0m\u001b[0msample_weight\u001b[0m\u001b[0;34m)\u001b[0m\u001b[0;34m\u001b[0m\u001b[0m\n\u001b[0m\u001b[1;32m   1972\u001b[0m \u001b[0;34m\u001b[0m\u001b[0m\n\u001b[1;32m   1973\u001b[0m                 \u001b[0;32mif\u001b[0m \u001b[0misinstance\u001b[0m\u001b[0;34m(\u001b[0m\u001b[0mx\u001b[0m\u001b[0;34m,\u001b[0m \u001b[0mlist\u001b[0m\u001b[0;34m)\u001b[0m\u001b[0;34m:\u001b[0m\u001b[0;34m\u001b[0m\u001b[0m\n",
      "\u001b[0;32m/usr/local/lib/python3.5/site-packages/keras/engine/training.py\u001b[0m in \u001b[0;36mtest_on_batch\u001b[0;34m(self, x, y, sample_weight)\u001b[0m\n\u001b[1;32m   1605\u001b[0m             \u001b[0mins\u001b[0m \u001b[0;34m=\u001b[0m \u001b[0mx\u001b[0m \u001b[0;34m+\u001b[0m \u001b[0my\u001b[0m \u001b[0;34m+\u001b[0m \u001b[0msample_weights\u001b[0m\u001b[0;34m\u001b[0m\u001b[0m\n\u001b[1;32m   1606\u001b[0m         \u001b[0mself\u001b[0m\u001b[0;34m.\u001b[0m\u001b[0m_make_test_function\u001b[0m\u001b[0;34m(\u001b[0m\u001b[0;34m)\u001b[0m\u001b[0;34m\u001b[0m\u001b[0m\n\u001b[0;32m-> 1607\u001b[0;31m         \u001b[0moutputs\u001b[0m \u001b[0;34m=\u001b[0m \u001b[0mself\u001b[0m\u001b[0;34m.\u001b[0m\u001b[0mtest_function\u001b[0m\u001b[0;34m(\u001b[0m\u001b[0mins\u001b[0m\u001b[0;34m)\u001b[0m\u001b[0;34m\u001b[0m\u001b[0m\n\u001b[0m\u001b[1;32m   1608\u001b[0m         \u001b[0;32mif\u001b[0m \u001b[0mlen\u001b[0m\u001b[0;34m(\u001b[0m\u001b[0moutputs\u001b[0m\u001b[0;34m)\u001b[0m \u001b[0;34m==\u001b[0m \u001b[0;36m1\u001b[0m\u001b[0;34m:\u001b[0m\u001b[0;34m\u001b[0m\u001b[0m\n\u001b[1;32m   1609\u001b[0m             \u001b[0;32mreturn\u001b[0m \u001b[0moutputs\u001b[0m\u001b[0;34m[\u001b[0m\u001b[0;36m0\u001b[0m\u001b[0;34m]\u001b[0m\u001b[0;34m\u001b[0m\u001b[0m\n",
      "\u001b[0;32m/usr/local/lib/python3.5/site-packages/keras/backend/tensorflow_backend.py\u001b[0m in \u001b[0;36m__call__\u001b[0;34m(self, inputs)\u001b[0m\n\u001b[1;32m   2266\u001b[0m         updated = session.run(self.outputs + [self.updates_op],\n\u001b[1;32m   2267\u001b[0m                               \u001b[0mfeed_dict\u001b[0m\u001b[0;34m=\u001b[0m\u001b[0mfeed_dict\u001b[0m\u001b[0;34m,\u001b[0m\u001b[0;34m\u001b[0m\u001b[0m\n\u001b[0;32m-> 2268\u001b[0;31m                               **self.session_kwargs)\n\u001b[0m\u001b[1;32m   2269\u001b[0m         \u001b[0;32mreturn\u001b[0m \u001b[0mupdated\u001b[0m\u001b[0;34m[\u001b[0m\u001b[0;34m:\u001b[0m\u001b[0mlen\u001b[0m\u001b[0;34m(\u001b[0m\u001b[0mself\u001b[0m\u001b[0;34m.\u001b[0m\u001b[0moutputs\u001b[0m\u001b[0;34m)\u001b[0m\u001b[0;34m]\u001b[0m\u001b[0;34m\u001b[0m\u001b[0m\n\u001b[1;32m   2270\u001b[0m \u001b[0;34m\u001b[0m\u001b[0m\n",
      "\u001b[0;32m/usr/local/lib/python3.5/site-packages/tensorflow/python/client/session.py\u001b[0m in \u001b[0;36mrun\u001b[0;34m(self, fetches, feed_dict, options, run_metadata)\u001b[0m\n\u001b[1;32m    776\u001b[0m     \u001b[0;32mtry\u001b[0m\u001b[0;34m:\u001b[0m\u001b[0;34m\u001b[0m\u001b[0m\n\u001b[1;32m    777\u001b[0m       result = self._run(None, fetches, feed_dict, options_ptr,\n\u001b[0;32m--> 778\u001b[0;31m                          run_metadata_ptr)\n\u001b[0m\u001b[1;32m    779\u001b[0m       \u001b[0;32mif\u001b[0m \u001b[0mrun_metadata\u001b[0m\u001b[0;34m:\u001b[0m\u001b[0;34m\u001b[0m\u001b[0m\n\u001b[1;32m    780\u001b[0m         \u001b[0mproto_data\u001b[0m \u001b[0;34m=\u001b[0m \u001b[0mtf_session\u001b[0m\u001b[0;34m.\u001b[0m\u001b[0mTF_GetBuffer\u001b[0m\u001b[0;34m(\u001b[0m\u001b[0mrun_metadata_ptr\u001b[0m\u001b[0;34m)\u001b[0m\u001b[0;34m\u001b[0m\u001b[0m\n",
      "\u001b[0;32m/usr/local/lib/python3.5/site-packages/tensorflow/python/client/session.py\u001b[0m in \u001b[0;36m_run\u001b[0;34m(self, handle, fetches, feed_dict, options, run_metadata)\u001b[0m\n\u001b[1;32m    980\u001b[0m     \u001b[0;32mif\u001b[0m \u001b[0mfinal_fetches\u001b[0m \u001b[0;32mor\u001b[0m \u001b[0mfinal_targets\u001b[0m\u001b[0;34m:\u001b[0m\u001b[0;34m\u001b[0m\u001b[0m\n\u001b[1;32m    981\u001b[0m       results = self._do_run(handle, final_targets, final_fetches,\n\u001b[0;32m--> 982\u001b[0;31m                              feed_dict_string, options, run_metadata)\n\u001b[0m\u001b[1;32m    983\u001b[0m     \u001b[0;32melse\u001b[0m\u001b[0;34m:\u001b[0m\u001b[0;34m\u001b[0m\u001b[0m\n\u001b[1;32m    984\u001b[0m       \u001b[0mresults\u001b[0m \u001b[0;34m=\u001b[0m \u001b[0;34m[\u001b[0m\u001b[0;34m]\u001b[0m\u001b[0;34m\u001b[0m\u001b[0m\n",
      "\u001b[0;32m/usr/local/lib/python3.5/site-packages/tensorflow/python/client/session.py\u001b[0m in \u001b[0;36m_do_run\u001b[0;34m(self, handle, target_list, fetch_list, feed_dict, options, run_metadata)\u001b[0m\n\u001b[1;32m   1030\u001b[0m     \u001b[0;32mif\u001b[0m \u001b[0mhandle\u001b[0m \u001b[0;32mis\u001b[0m \u001b[0;32mNone\u001b[0m\u001b[0;34m:\u001b[0m\u001b[0;34m\u001b[0m\u001b[0m\n\u001b[1;32m   1031\u001b[0m       return self._do_call(_run_fn, self._session, feed_dict, fetch_list,\n\u001b[0;32m-> 1032\u001b[0;31m                            target_list, options, run_metadata)\n\u001b[0m\u001b[1;32m   1033\u001b[0m     \u001b[0;32melse\u001b[0m\u001b[0;34m:\u001b[0m\u001b[0;34m\u001b[0m\u001b[0m\n\u001b[1;32m   1034\u001b[0m       return self._do_call(_prun_fn, self._session, handle, feed_dict,\n",
      "\u001b[0;32m/usr/local/lib/python3.5/site-packages/tensorflow/python/client/session.py\u001b[0m in \u001b[0;36m_do_call\u001b[0;34m(self, fn, *args)\u001b[0m\n\u001b[1;32m   1037\u001b[0m   \u001b[0;32mdef\u001b[0m \u001b[0m_do_call\u001b[0m\u001b[0;34m(\u001b[0m\u001b[0mself\u001b[0m\u001b[0;34m,\u001b[0m \u001b[0mfn\u001b[0m\u001b[0;34m,\u001b[0m \u001b[0;34m*\u001b[0m\u001b[0margs\u001b[0m\u001b[0;34m)\u001b[0m\u001b[0;34m:\u001b[0m\u001b[0;34m\u001b[0m\u001b[0m\n\u001b[1;32m   1038\u001b[0m     \u001b[0;32mtry\u001b[0m\u001b[0;34m:\u001b[0m\u001b[0;34m\u001b[0m\u001b[0m\n\u001b[0;32m-> 1039\u001b[0;31m       \u001b[0;32mreturn\u001b[0m \u001b[0mfn\u001b[0m\u001b[0;34m(\u001b[0m\u001b[0;34m*\u001b[0m\u001b[0margs\u001b[0m\u001b[0;34m)\u001b[0m\u001b[0;34m\u001b[0m\u001b[0m\n\u001b[0m\u001b[1;32m   1040\u001b[0m     \u001b[0;32mexcept\u001b[0m \u001b[0merrors\u001b[0m\u001b[0;34m.\u001b[0m\u001b[0mOpError\u001b[0m \u001b[0;32mas\u001b[0m \u001b[0me\u001b[0m\u001b[0;34m:\u001b[0m\u001b[0;34m\u001b[0m\u001b[0m\n\u001b[1;32m   1041\u001b[0m       \u001b[0mmessage\u001b[0m \u001b[0;34m=\u001b[0m \u001b[0mcompat\u001b[0m\u001b[0;34m.\u001b[0m\u001b[0mas_text\u001b[0m\u001b[0;34m(\u001b[0m\u001b[0me\u001b[0m\u001b[0;34m.\u001b[0m\u001b[0mmessage\u001b[0m\u001b[0;34m)\u001b[0m\u001b[0;34m\u001b[0m\u001b[0m\n",
      "\u001b[0;32m/usr/local/lib/python3.5/site-packages/tensorflow/python/client/session.py\u001b[0m in \u001b[0;36m_run_fn\u001b[0;34m(session, feed_dict, fetch_list, target_list, options, run_metadata)\u001b[0m\n\u001b[1;32m   1019\u001b[0m         return tf_session.TF_Run(session, options,\n\u001b[1;32m   1020\u001b[0m                                  \u001b[0mfeed_dict\u001b[0m\u001b[0;34m,\u001b[0m \u001b[0mfetch_list\u001b[0m\u001b[0;34m,\u001b[0m \u001b[0mtarget_list\u001b[0m\u001b[0;34m,\u001b[0m\u001b[0;34m\u001b[0m\u001b[0m\n\u001b[0;32m-> 1021\u001b[0;31m                                  status, run_metadata)\n\u001b[0m\u001b[1;32m   1022\u001b[0m \u001b[0;34m\u001b[0m\u001b[0m\n\u001b[1;32m   1023\u001b[0m     \u001b[0;32mdef\u001b[0m \u001b[0m_prun_fn\u001b[0m\u001b[0;34m(\u001b[0m\u001b[0msession\u001b[0m\u001b[0;34m,\u001b[0m \u001b[0mhandle\u001b[0m\u001b[0;34m,\u001b[0m \u001b[0mfeed_dict\u001b[0m\u001b[0;34m,\u001b[0m \u001b[0mfetch_list\u001b[0m\u001b[0;34m)\u001b[0m\u001b[0;34m:\u001b[0m\u001b[0;34m\u001b[0m\u001b[0m\n",
      "\u001b[0;31mKeyboardInterrupt\u001b[0m: "
     ]
    }
   ],
   "source": [
    "model_vgg16_ft.fit_generator(train_aug_generator, \n",
    "                             50,\n",
    "                             num_epochs, \n",
    "                             validation_data=val_generator, \n",
    "                             validation_steps=val_generator.samples//batch_size+1,\n",
    "                             callbacks=[tensorboard_cb, ckpt_cb])"
   ]
  },
  {
   "cell_type": "code",
   "execution_count": 21,
   "metadata": {
    "collapsed": true
   },
   "outputs": [],
   "source": [
    "model_vgg16_ft.load_weights('vgg16_ft4_aug_weights.15-0.241.hdf5')"
   ]
  },
  {
   "cell_type": "code",
   "execution_count": 17,
   "metadata": {
    "collapsed": true
   },
   "outputs": [],
   "source": [
    "def write_predicts_gen(test_gen, batch_size, sub_fname):\n",
    "    y_pred = model_vgg16_ft.predict_generator(test_gen, \n",
    "                                              test_gen.samples//batch_size+1, \n",
    "                                              verbose=1)\n",
    "\n",
    "    y_pred_df = pd.DataFrame(y_pred, columns=classnames)\n",
    "    \n",
    "    img_name = []\n",
    "    for i, fname in enumerate(test_gen.filenames):\n",
    "        img_name.append(os.path.basename(fname))\n",
    "\n",
    "    img_name_df = pd.DataFrame(img_name, columns=['img'])\n",
    "    predictions = pd.concat([img_name_df, y_pred_df], axis=1)\n",
    "    print(predictions.shape)\n",
    "    predictions.to_csv(sub_fname, index=False)\n",
    "    print('submission file {} is ready.'.format(sub_fname))"
   ]
  },
  {
   "cell_type": "code",
   "execution_count": null,
   "metadata": {
    "scrolled": true
   },
   "outputs": [
    {
     "name": "stdout",
     "output_type": "stream",
     "text": [
      "2492/2492 [==============================] - 1473s  \n",
      "(79726, 11)\n",
      "submission file submission_vgg16_ft4_aug.csv is ready.\n"
     ]
    }
   ],
   "source": [
    "write_predicts_gen(test_generator, batch_size, 'submission_vgg16_ft4_aug.csv')"
   ]
  },
  {
   "cell_type": "code",
   "execution_count": 15,
   "metadata": {
    "collapsed": true
   },
   "outputs": [],
   "source": [
    "model_vgg16_ft.load_weights('vgg16_ft4_aug_weights.10-0.380.hdf5')"
   ]
  },
  {
   "cell_type": "code",
   "execution_count": null,
   "metadata": {},
   "outputs": [
    {
     "name": "stdout",
     "output_type": "stream",
     "text": [
      "1735/2492 [===================>..........] - ETA: 425s"
     ]
    }
   ],
   "source": [
    "write_predicts_gen(test_generator, batch_size, 'submission_vgg16_ft4_aug_0.380.csv')"
   ]
  },
  {
   "cell_type": "code",
   "execution_count": null,
   "metadata": {
    "collapsed": true
   },
   "outputs": [],
   "source": []
  }
 ],
 "metadata": {
  "kernelspec": {
   "display_name": "Python 3",
   "language": "python",
   "name": "python3"
  },
  "language_info": {
   "codemirror_mode": {
    "name": "ipython",
    "version": 3
   },
   "file_extension": ".py",
   "mimetype": "text/x-python",
   "name": "python",
   "nbconvert_exporter": "python",
   "pygments_lexer": "ipython3",
   "version": "3.6.2"
  }
 },
 "nbformat": 4,
 "nbformat_minor": 2
}
