{
 "cells": [
  {
   "cell_type": "markdown",
   "metadata": {},
   "source": [
    "### Load modules"
   ]
  },
  {
   "cell_type": "code",
   "execution_count": 1,
   "metadata": {},
   "outputs": [
    {
     "name": "stderr",
     "output_type": "stream",
     "text": [
      "Using TensorFlow backend.\n"
     ]
    }
   ],
   "source": [
    "from keras.models import *\n",
    "from keras.layers import *\n",
    "from keras.applications import *\n",
    "from keras.preprocessing.image import *"
   ]
  },
  {
   "cell_type": "code",
   "execution_count": 2,
   "metadata": {
    "collapsed": true
   },
   "outputs": [],
   "source": [
    "import os\n",
    "import numpy as np\n",
    "import pandas as pd\n",
    "\n",
    "from sklearn.utils import shuffle\n",
    "from sklearn.model_selection import KFold"
   ]
  },
  {
   "cell_type": "code",
   "execution_count": 3,
   "metadata": {
    "collapsed": true
   },
   "outputs": [],
   "source": [
    "import h5py"
   ]
  },
  {
   "cell_type": "markdown",
   "metadata": {},
   "source": [
    "### Load train image list"
   ]
  },
  {
   "cell_type": "code",
   "execution_count": 4,
   "metadata": {
    "collapsed": true
   },
   "outputs": [],
   "source": [
    "df = pd.read_csv('driver_imgs_list.csv')\n",
    "# drivers' names\n",
    "subjects = np.unique(df['subject'])\n",
    "# classes\n",
    "classnames = np.unique(df['classname'])"
   ]
  },
  {
   "cell_type": "markdown",
   "metadata": {},
   "source": [
    "### 5-fold train-val split in terms of drivers: "
   ]
  },
  {
   "cell_type": "code",
   "execution_count": 5,
   "metadata": {
    "collapsed": true
   },
   "outputs": [],
   "source": [
    "kf = KFold(n_splits=5, random_state=42, shuffle=True)\n",
    "subjects_t = []\n",
    "subjects_v = []\n",
    "for sub_t, sub_v in kf.split(subjects):\n",
    "    subjects_t.append(list(subjects[sub_t]))\n",
    "    subjects_v.append(list(subjects[sub_v]))"
   ]
  },
  {
   "cell_type": "markdown",
   "metadata": {},
   "source": [
    "split the train image list"
   ]
  },
  {
   "cell_type": "code",
   "execution_count": 6,
   "metadata": {
    "collapsed": true
   },
   "outputs": [],
   "source": [
    "def split_list(subjects_t, subjects_v):\n",
    "    df_t = df.loc[df.subject.isin(subjects_t)]\n",
    "    df_v = df.loc[df.subject.isin(subjects_v)]\n",
    "    return df_t, df_v"
   ]
  },
  {
   "cell_type": "markdown",
   "metadata": {},
   "source": [
    "### original dataset dir."
   ]
  },
  {
   "cell_type": "code",
   "execution_count": 7,
   "metadata": {
    "collapsed": true
   },
   "outputs": [],
   "source": [
    "dataset_dir = '/dataset_dir'\n",
    "# dataset_dir = '../../dataset_resized'\n",
    "\n",
    "train_raw_dir = dataset_dir + '/train'\n",
    "test_dir = dataset_dir + '/test'"
   ]
  },
  {
   "cell_type": "markdown",
   "metadata": {},
   "source": [
    "### make dirs of train and validation"
   ]
  },
  {
   "cell_type": "code",
   "execution_count": 8,
   "metadata": {
    "collapsed": true
   },
   "outputs": [],
   "source": [
    "import shutil\n",
    "from shutil import *"
   ]
  },
  {
   "cell_type": "code",
   "execution_count": 9,
   "metadata": {
    "collapsed": true
   },
   "outputs": [],
   "source": [
    "from tqdm import tqdm"
   ]
  },
  {
   "cell_type": "code",
   "execution_count": 10,
   "metadata": {
    "collapsed": true
   },
   "outputs": [],
   "source": [
    "def mkdir_train_val(fold):\n",
    "    if 'train'+str(fold) in os.listdir():\n",
    "        shutil.rmtree('train'+str(fold))\n",
    "    if 'validation'+str(fold) in os.listdir():\n",
    "        shutil.rmtree('validation'+str(fold))\n",
    "    for split_name in ['train', 'validation']:\n",
    "        for cls in classnames:\n",
    "            os.makedirs(split_name+str(fold) + '/' + cls)"
   ]
  },
  {
   "cell_type": "code",
   "execution_count": 11,
   "metadata": {
    "collapsed": true
   },
   "outputs": [],
   "source": [
    "def symlink_train_val(df_t, df_v, fold, train_dir):\n",
    "    mkdir_train_val(fold)\n",
    "    for i in tqdm(range(len(df_t))):\n",
    "        cls = df_t.iloc[i]['classname']\n",
    "        img = df_t.iloc[i]['img']\n",
    "        os.symlink(train_dir+'/'+cls+'/'+img, 'train'+str(fold)+'/'+cls+'/'+img)\n",
    "    for i in tqdm(range(len(df_v))):\n",
    "        cls = df_v.iloc[i]['classname']\n",
    "        img = df_v.iloc[i]['img']\n",
    "        os.symlink(train_dir+'/'+cls+'/'+img, 'validation'+str(fold)+'/'+cls+'/'+img)"
   ]
  },
  {
   "cell_type": "code",
   "execution_count": 12,
   "metadata": {
    "collapsed": true
   },
   "outputs": [],
   "source": [
    "def copy_train_val(df_t, df_v, fold, train_dir):\n",
    "    mkdir_train_val(fold)\n",
    "    for i in tqdm(range(len(df_t))):\n",
    "        cls = df_t.iloc[i]['classname']\n",
    "        img = df_t.iloc[i]['img']\n",
    "        copyfile(train_dir+'/'+cls+'/'+img, 'train'+str(fold)+'/'+cls+'/'+img)\n",
    "    for i in tqdm(range(len(df_v))):\n",
    "        cls = df_v.iloc[i]['classname']\n",
    "        img = df_v.iloc[i]['img']\n",
    "        copyfile(train_dir+'/'+cls+'/'+img, 'validation'+str(fold)+'/'+cls+'/'+img)"
   ]
  },
  {
   "cell_type": "code",
   "execution_count": 13,
   "metadata": {},
   "outputs": [
    {
     "name": "stderr",
     "output_type": "stream",
     "text": [
      "100%|██████████| 18049/18049 [02:44<00:00, 109.93it/s]\n",
      "100%|██████████| 4375/4375 [00:38<00:00, 112.18it/s]\n"
     ]
    }
   ],
   "source": [
    "for fold in range(2,3):\n",
    "    df_t, df_v = split_list(subjects_t[fold], subjects_v[fold])\n",
    "    symlink_train_val(df_t, df_v, fold, train_raw_dir)"
   ]
  },
  {
   "cell_type": "code",
   "execution_count": 19,
   "metadata": {
    "collapsed": true
   },
   "outputs": [],
   "source": [
    "train_dir = 'train2'\n",
    "val_dir = 'validation2'"
   ]
  },
  {
   "cell_type": "markdown",
   "metadata": {},
   "source": [
    "### preprocessing images"
   ]
  },
  {
   "cell_type": "code",
   "execution_count": 20,
   "metadata": {
    "collapsed": true
   },
   "outputs": [],
   "source": [
    "# preprocess function of VGG and ResNet50\n",
    "def preprocess_fn(x):\n",
    "    # RGB >> BGR\n",
    "    x = img_to_array(x)\n",
    "    x = x[:, :, ::-1]\n",
    "    # Zero-center by mean pixel\n",
    "    x[:, :, 0] -= 103.939\n",
    "    x[:, :, 1] -= 116.779\n",
    "    x[:, :, 2] -= 123.68\n",
    "    return x"
   ]
  },
  {
   "cell_type": "code",
   "execution_count": 21,
   "metadata": {
    "collapsed": true
   },
   "outputs": [],
   "source": [
    "# default image size of VGG and ResNet50\n",
    "img_width, img_height = 224, 224"
   ]
  },
  {
   "cell_type": "code",
   "execution_count": 22,
   "metadata": {
    "collapsed": true
   },
   "outputs": [],
   "source": [
    "batch_size = 32"
   ]
  },
  {
   "cell_type": "code",
   "execution_count": 23,
   "metadata": {
    "collapsed": true
   },
   "outputs": [],
   "source": [
    "data_gen = ImageDataGenerator(preprocessing_function=preprocess_fn)"
   ]
  },
  {
   "cell_type": "markdown",
   "metadata": {},
   "source": [
    "original generator"
   ]
  },
  {
   "cell_type": "code",
   "execution_count": 22,
   "metadata": {
    "scrolled": true
   },
   "outputs": [
    {
     "name": "stdout",
     "output_type": "stream",
     "text": [
      "Found 17446 images belonging to 10 classes.\n"
     ]
    }
   ],
   "source": [
    "train_generator = data_gen.flow_from_directory(train_dir, \n",
    "                                               target_size=(img_height, img_width), \n",
    "                                               class_mode='categorical',\n",
    "                                               batch_size=batch_size)"
   ]
  },
  {
   "cell_type": "code",
   "execution_count": 24,
   "metadata": {},
   "outputs": [
    {
     "name": "stdout",
     "output_type": "stream",
     "text": [
      "Found 4375 images belonging to 10 classes.\n"
     ]
    }
   ],
   "source": [
    "val_generator = data_gen.flow_from_directory(val_dir, \n",
    "                                             target_size=(img_height, img_width), \n",
    "                                             class_mode='categorical',\n",
    "                                             batch_size=batch_size)"
   ]
  },
  {
   "cell_type": "code",
   "execution_count": 37,
   "metadata": {},
   "outputs": [
    {
     "name": "stdout",
     "output_type": "stream",
     "text": [
      "Found 79726 images belonging to 1 classes.\n"
     ]
    }
   ],
   "source": [
    "test_generator = data_gen.flow_from_directory(test_dir, \n",
    "                                              target_size=(img_height, img_width), \n",
    "                                              class_mode=None,\n",
    "                                              shuffle=False,\n",
    "                                              batch_size=batch_size)"
   ]
  },
  {
   "cell_type": "markdown",
   "metadata": {},
   "source": [
    "transfer generator"
   ]
  },
  {
   "cell_type": "code",
   "execution_count": null,
   "metadata": {
    "collapsed": true
   },
   "outputs": [],
   "source": [
    "train_tf_generator = data_gen.flow_from_directory(train_dir, \n",
    "                                                  target_size=(img_height, img_width), \n",
    "                                                  class_mode='categorical',\n",
    "                                                  shuffle=False,\n",
    "                                                  batch_size=batch_size)"
   ]
  },
  {
   "cell_type": "code",
   "execution_count": null,
   "metadata": {
    "collapsed": true
   },
   "outputs": [],
   "source": [
    "val_tf_generator = data_gen.flow_from_directory(val_dir,\n",
    "                                                target_size=(img_height, img_width), \n",
    "                                                class_mode='categorical',\n",
    "                                                shuffle=False,\n",
    "                                                batch_size=batch_size)"
   ]
  },
  {
   "cell_type": "markdown",
   "metadata": {},
   "source": [
    "augment generator"
   ]
  },
  {
   "cell_type": "code",
   "execution_count": 25,
   "metadata": {
    "collapsed": true
   },
   "outputs": [],
   "source": [
    "data_gen_aug = ImageDataGenerator(rotation_range=30.,\n",
    "                                  width_shift_range=0.1,\n",
    "                                  height_shift_range=0.1,\n",
    "                                  preprocessing_function=preprocess_fn)"
   ]
  },
  {
   "cell_type": "code",
   "execution_count": 26,
   "metadata": {},
   "outputs": [
    {
     "name": "stdout",
     "output_type": "stream",
     "text": [
      "Found 18049 images belonging to 10 classes.\n"
     ]
    }
   ],
   "source": [
    "train_aug_generator = data_gen_aug.flow_from_directory(train_dir, \n",
    "                                                       target_size=(img_height, img_width), \n",
    "                                                       class_mode='categorical',\n",
    "                                                       batch_size=batch_size)"
   ]
  },
  {
   "cell_type": "code",
   "execution_count": 42,
   "metadata": {},
   "outputs": [
    {
     "name": "stdout",
     "output_type": "stream",
     "text": [
      "Found 4978 images belonging to 10 classes.\n"
     ]
    }
   ],
   "source": [
    "val_aug_generator = data_gen_aug.flow_from_directory(val_dir, \n",
    "                                                     target_size=(img_height, img_width), \n",
    "                                                     class_mode='categorical',\n",
    "                                                     batch_size=batch_size)"
   ]
  },
  {
   "cell_type": "code",
   "execution_count": 44,
   "metadata": {},
   "outputs": [
    {
     "name": "stdout",
     "output_type": "stream",
     "text": [
      "Found 79726 images belonging to 1 classes.\n"
     ]
    }
   ],
   "source": [
    "test_aug_generator = data_gen_aug.flow_from_directory(test_dir, \n",
    "                                                      target_size=(img_height, img_width), \n",
    "                                                      class_mode=None,\n",
    "                                                      shuffle=False,\n",
    "                                                      batch_size=batch_size)"
   ]
  },
  {
   "cell_type": "markdown",
   "metadata": {},
   "source": [
    "### Fine-tuning VGG16"
   ]
  },
  {
   "cell_type": "code",
   "execution_count": 27,
   "metadata": {
    "collapsed": true
   },
   "outputs": [],
   "source": [
    "from keras.optimizers import *\n",
    "from keras.callbacks import *"
   ]
  },
  {
   "cell_type": "code",
   "execution_count": 28,
   "metadata": {
    "collapsed": true
   },
   "outputs": [],
   "source": [
    "adam = Adam(lr=1e-4, beta_1=0.9, beta_2=0.999, epsilon=1e-08, decay=1e-6)\n",
    "sgd = SGD(lr=1e-4, decay=1e-6, momentum=0.9, nesterov=True)"
   ]
  },
  {
   "cell_type": "code",
   "execution_count": 29,
   "metadata": {
    "collapsed": true
   },
   "outputs": [],
   "source": [
    "def model_build(MODEL, optimizer, layer_num_fix, top_dropout=False):\n",
    "    base_model = MODEL(weights='imagenet', include_top=True)\n",
    "    if top_dropout:\n",
    "        x = Dropout(0.4, name='top_dropout')(base_model.layers[-2].output)\n",
    "        x = Dense(10, activation='softmax', name='top_prediction')(x)\n",
    "    else:\n",
    "        x = Dense(10, activation='softmax', name='top_prediction')(base_model.layers[-2].output)\n",
    "        \n",
    "    model_ft = Model(base_model.input, x, name=MODEL.__name__)\n",
    "    model_ft.compile(optimizer=optimizer, \n",
    "                     loss='categorical_crossentropy', \n",
    "                     metrics=['accuracy'])\n",
    "    for layer in model_ft.layers[:layer_num_fix]:\n",
    "        layer.trainable = False\n",
    "    return model_ft"
   ]
  },
  {
   "cell_type": "code",
   "execution_count": 30,
   "metadata": {},
   "outputs": [
    {
     "name": "stdout",
     "output_type": "stream",
     "text": [
      "Downloading data from https://github.com/fchollet/deep-learning-models/releases/download/v0.1/vgg16_weights_tf_dim_ordering_tf_kernels.h5\n",
      "552861696/553467096 [============================>.] - ETA: 0s"
     ]
    }
   ],
   "source": [
    "model_vgg16_ft = model_build(VGG16, adam, 10, False)"
   ]
  },
  {
   "cell_type": "code",
   "execution_count": 31,
   "metadata": {
    "collapsed": true,
    "scrolled": true
   },
   "outputs": [],
   "source": [
    "tensorboard_cb = TensorBoard(log_dir='log/vgg16', histogram_freq=0, batch_size=batch_size, write_graph=True, write_images=True)\n",
    "ckpt_cb = ModelCheckpoint('vgg16_ft2_aug_weights.{epoch:02d}-{val_loss:.3f}.hdf5', monitor='val_loss', verbose=1, save_best_only=True)"
   ]
  },
  {
   "cell_type": "code",
   "execution_count": 32,
   "metadata": {
    "collapsed": true
   },
   "outputs": [],
   "source": [
    "num_epochs = 50"
   ]
  },
  {
   "cell_type": "code",
   "execution_count": 33,
   "metadata": {
    "scrolled": false
   },
   "outputs": [
    {
     "name": "stdout",
     "output_type": "stream",
     "text": [
      "Epoch 1/50\n",
      "49/50 [============================>.] - ETA: 2s - loss: 2.5162 - acc: 0.1288Epoch 00000: val_loss improved from inf to 2.35261, saving model to vgg16_ft2_aug_weights.00-2.353.hdf5\n",
      "50/50 [==============================] - 214s - loss: 2.5159 - acc: 0.1263 - val_loss: 2.3526 - val_acc: 0.1067\n",
      "Epoch 2/50\n",
      "49/50 [============================>.] - ETA: 1s - loss: 2.3650 - acc: 0.1301Epoch 00001: val_loss improved from 2.35261 to 2.24161, saving model to vgg16_ft2_aug_weights.01-2.242.hdf5\n",
      "50/50 [==============================] - 179s - loss: 2.3618 - acc: 0.1313 - val_loss: 2.2416 - val_acc: 0.1755\n",
      "Epoch 3/50\n",
      "49/50 [============================>.] - ETA: 1s - loss: 2.2180 - acc: 0.1798Epoch 00002: val_loss improved from 2.24161 to 2.04334, saving model to vgg16_ft2_aug_weights.02-2.043.hdf5\n",
      "50/50 [==============================] - 180s - loss: 2.2131 - acc: 0.1831 - val_loss: 2.0433 - val_acc: 0.2437\n",
      "Epoch 4/50\n",
      "49/50 [============================>.] - ETA: 1s - loss: 1.9886 - acc: 0.2494Epoch 00003: val_loss improved from 2.04334 to 1.75808, saving model to vgg16_ft2_aug_weights.03-1.758.hdf5\n",
      "50/50 [==============================] - 179s - loss: 1.9842 - acc: 0.2500 - val_loss: 1.7581 - val_acc: 0.2491\n",
      "Epoch 5/50\n",
      "49/50 [============================>.] - ETA: 1s - loss: 1.5665 - acc: 0.4088Epoch 00004: val_loss improved from 1.75808 to 1.30929, saving model to vgg16_ft2_aug_weights.04-1.309.hdf5\n",
      "50/50 [==============================] - 179s - loss: 1.5617 - acc: 0.4100 - val_loss: 1.3093 - val_acc: 0.4706\n",
      "Epoch 6/50\n",
      "49/50 [============================>.] - ETA: 1s - loss: 1.2682 - acc: 0.5261Epoch 00005: val_loss improved from 1.30929 to 1.06671, saving model to vgg16_ft2_aug_weights.05-1.067.hdf5\n",
      "50/50 [==============================] - 179s - loss: 1.2644 - acc: 0.5287 - val_loss: 1.0667 - val_acc: 0.5719\n",
      "Epoch 7/50\n",
      "49/50 [============================>.] - ETA: 1s - loss: 0.9985 - acc: 0.6531Epoch 00006: val_loss improved from 1.06671 to 0.93577, saving model to vgg16_ft2_aug_weights.06-0.936.hdf5\n",
      "50/50 [==============================] - 179s - loss: 1.0102 - acc: 0.6519 - val_loss: 0.9358 - val_acc: 0.6642\n",
      "Epoch 8/50\n",
      "49/50 [============================>.] - ETA: 1s - loss: 0.8204 - acc: 0.7219Epoch 00007: val_loss did not improve\n",
      "50/50 [==============================] - 168s - loss: 0.8178 - acc: 0.7231 - val_loss: 1.0933 - val_acc: 0.6393\n",
      "Epoch 9/50\n",
      "49/50 [============================>.] - ETA: 1s - loss: 0.6554 - acc: 0.7742Epoch 00008: val_loss improved from 0.93577 to 0.59975, saving model to vgg16_ft2_aug_weights.08-0.600.hdf5\n",
      "50/50 [==============================] - 179s - loss: 0.6499 - acc: 0.7769 - val_loss: 0.5997 - val_acc: 0.8000\n",
      "Epoch 10/50\n",
      "49/50 [============================>.] - ETA: 1s - loss: 0.5103 - acc: 0.8355Epoch 00009: val_loss did not improve\n",
      "50/50 [==============================] - 168s - loss: 0.5078 - acc: 0.8363 - val_loss: 1.0067 - val_acc: 0.7371\n",
      "Epoch 11/50\n",
      "49/50 [============================>.] - ETA: 1s - loss: 0.4280 - acc: 0.8584Epoch 00010: val_loss did not improve\n",
      "50/50 [==============================] - 168s - loss: 0.4324 - acc: 0.8581 - val_loss: 0.6916 - val_acc: 0.8025\n",
      "Epoch 12/50\n",
      "49/50 [============================>.] - ETA: 1s - loss: 0.4889 - acc: 0.8380Epoch 00011: val_loss did not improve\n",
      "50/50 [==============================] - 168s - loss: 0.4886 - acc: 0.8393 - val_loss: 0.6460 - val_acc: 0.8242\n",
      "Epoch 13/50\n",
      "49/50 [============================>.] - ETA: 1s - loss: 0.3244 - acc: 0.8980Epoch 00012: val_loss did not improve\n",
      "50/50 [==============================] - 168s - loss: 0.3219 - acc: 0.8988 - val_loss: 0.7328 - val_acc: 0.7753\n",
      "Epoch 14/50\n",
      "49/50 [============================>.] - ETA: 1s - loss: 0.3477 - acc: 0.8858Epoch 00013: val_loss did not improve\n",
      "50/50 [==============================] - 168s - loss: 0.3459 - acc: 0.8850 - val_loss: 0.8419 - val_acc: 0.7536\n",
      "Epoch 15/50\n",
      "49/50 [============================>.] - ETA: 1s - loss: 0.2716 - acc: 0.9133Epoch 00014: val_loss improved from 0.59975 to 0.49568, saving model to vgg16_ft2_aug_weights.14-0.496.hdf5\n",
      "50/50 [==============================] - 179s - loss: 0.2684 - acc: 0.9137 - val_loss: 0.4957 - val_acc: 0.8587\n",
      "Epoch 16/50\n",
      "49/50 [============================>.] - ETA: 1s - loss: 0.2326 - acc: 0.9254Epoch 00015: val_loss did not improve\n",
      "50/50 [==============================] - 168s - loss: 0.2369 - acc: 0.9231 - val_loss: 0.7318 - val_acc: 0.7721\n",
      "Epoch 17/50\n",
      "49/50 [============================>.] - ETA: 1s - loss: 0.2820 - acc: 0.9139Epoch 00016: val_loss did not improve\n",
      "50/50 [==============================] - 168s - loss: 0.2814 - acc: 0.9137 - val_loss: 0.5785 - val_acc: 0.8274\n",
      "Epoch 18/50\n",
      "49/50 [============================>.] - ETA: 1s - loss: 0.2074 - acc: 0.9292Epoch 00017: val_loss did not improve\n",
      "50/50 [==============================] - 168s - loss: 0.2048 - acc: 0.9300 - val_loss: 1.0060 - val_acc: 0.7120\n",
      "Epoch 19/50\n",
      "49/50 [============================>.] - ETA: 1s - loss: 0.2257 - acc: 0.9318Epoch 00018: val_loss did not improve\n",
      "50/50 [==============================] - 168s - loss: 0.2233 - acc: 0.9319 - val_loss: 0.7806 - val_acc: 0.8089\n",
      "Epoch 20/50\n",
      "49/50 [============================>.] - ETA: 1s - loss: 0.1770 - acc: 0.9452Epoch 00019: val_loss did not improve\n",
      "50/50 [==============================] - 168s - loss: 0.1774 - acc: 0.9450 - val_loss: 0.6910 - val_acc: 0.7970\n",
      "Epoch 21/50\n",
      "49/50 [============================>.] - ETA: 1s - loss: 0.1726 - acc: 0.9432Epoch 00020: val_loss did not improve\n",
      "50/50 [==============================] - 168s - loss: 0.1718 - acc: 0.9437 - val_loss: 0.7213 - val_acc: 0.7975\n",
      "Epoch 22/50\n",
      "49/50 [============================>.] - ETA: 1s - loss: 0.1592 - acc: 0.9579Epoch 00021: val_loss did not improve\n",
      "50/50 [==============================] - 170s - loss: 0.1577 - acc: 0.9581 - val_loss: 0.6827 - val_acc: 0.8050\n",
      "Epoch 23/50\n",
      "49/50 [============================>.] - ETA: 1s - loss: 0.1574 - acc: 0.9547Epoch 00022: val_loss did not improve\n",
      "50/50 [==============================] - 166s - loss: 0.1552 - acc: 0.9556 - val_loss: 0.5631 - val_acc: 0.8203\n",
      "Epoch 24/50\n",
      "49/50 [============================>.] - ETA: 1s - loss: 0.1362 - acc: 0.9605Epoch 00023: val_loss did not improve\n",
      "50/50 [==============================] - 168s - loss: 0.1348 - acc: 0.9606 - val_loss: 0.6086 - val_acc: 0.8279\n",
      "Epoch 25/50\n",
      "49/50 [============================>.] - ETA: 1s - loss: 0.1602 - acc: 0.9522Epoch 00024: val_loss did not improve\n",
      "50/50 [==============================] - 168s - loss: 0.1682 - acc: 0.9500 - val_loss: 0.7407 - val_acc: 0.7790\n",
      "Epoch 26/50\n",
      "49/50 [============================>.] - ETA: 1s - loss: 0.1867 - acc: 0.9394Epoch 00025: val_loss improved from 0.49568 to 0.48269, saving model to vgg16_ft2_aug_weights.25-0.483.hdf5\n",
      "50/50 [==============================] - 179s - loss: 0.1839 - acc: 0.9406 - val_loss: 0.4827 - val_acc: 0.8567\n",
      "Epoch 27/50\n",
      "49/50 [============================>.] - ETA: 1s - loss: 0.1572 - acc: 0.9528Epoch 00026: val_loss did not improve\n",
      "50/50 [==============================] - 168s - loss: 0.1578 - acc: 0.9525 - val_loss: 0.7072 - val_acc: 0.8117\n",
      "Epoch 28/50\n",
      "49/50 [============================>.] - ETA: 1s - loss: 0.1170 - acc: 0.9624Epoch 00027: val_loss did not improve\n",
      "50/50 [==============================] - 168s - loss: 0.1183 - acc: 0.9619 - val_loss: 0.7177 - val_acc: 0.8487\n",
      "Epoch 29/50\n",
      "49/50 [============================>.] - ETA: 1s - loss: 0.1523 - acc: 0.9515Epoch 00028: val_loss did not improve\n",
      "50/50 [==============================] - 168s - loss: 0.1494 - acc: 0.9525 - val_loss: 0.7456 - val_acc: 0.8251\n",
      "Epoch 30/50\n",
      "49/50 [============================>.] - ETA: 1s - loss: 0.1931 - acc: 0.9413Epoch 00029: val_loss did not improve\n",
      "50/50 [==============================] - 168s - loss: 0.1916 - acc: 0.9419 - val_loss: 0.7141 - val_acc: 0.8096\n",
      "Epoch 31/50\n",
      "49/50 [============================>.] - ETA: 1s - loss: 0.1387 - acc: 0.9554Epoch 00030: val_loss did not improve\n",
      "50/50 [==============================] - 168s - loss: 0.1361 - acc: 0.9562 - val_loss: 0.8536 - val_acc: 0.8089\n",
      "Epoch 32/50\n",
      "49/50 [============================>.] - ETA: 1s - loss: 0.1527 - acc: 0.9554Epoch 00031: val_loss did not improve\n"
     ]
    },
    {
     "name": "stdout",
     "output_type": "stream",
     "text": [
      "50/50 [==============================] - 168s - loss: 0.1530 - acc: 0.9550 - val_loss: 0.9222 - val_acc: 0.7762\n",
      "Epoch 33/50\n",
      "49/50 [============================>.] - ETA: 1s - loss: 0.1248 - acc: 0.9668Epoch 00032: val_loss did not improve\n",
      "50/50 [==============================] - 167s - loss: 0.1284 - acc: 0.9669 - val_loss: 0.9624 - val_acc: 0.7760\n",
      "Epoch 34/50\n",
      "49/50 [============================>.] - ETA: 1s - loss: 0.1154 - acc: 0.9643Epoch 00033: val_loss did not improve\n",
      "50/50 [==============================] - 166s - loss: 0.1160 - acc: 0.9644 - val_loss: 0.8915 - val_acc: 0.7678\n",
      "Epoch 35/50\n",
      "49/50 [============================>.] - ETA: 1s - loss: 0.1247 - acc: 0.9605Epoch 00034: val_loss did not improve\n",
      "50/50 [==============================] - 168s - loss: 0.1233 - acc: 0.9613 - val_loss: 0.8599 - val_acc: 0.7913\n",
      "Epoch 36/50\n",
      "49/50 [============================>.] - ETA: 1s - loss: 0.0951 - acc: 0.9751Epoch 00035: val_loss did not improve\n",
      "50/50 [==============================] - 168s - loss: 0.0937 - acc: 0.9756 - val_loss: 0.9072 - val_acc: 0.7906\n",
      "Epoch 37/50\n",
      "49/50 [============================>.] - ETA: 1s - loss: 0.0855 - acc: 0.9777Epoch 00036: val_loss did not improve\n",
      "50/50 [==============================] - 168s - loss: 0.0857 - acc: 0.9769 - val_loss: 0.7604 - val_acc: 0.8103\n",
      "Epoch 38/50\n",
      "49/50 [============================>.] - ETA: 1s - loss: 0.0998 - acc: 0.9700Epoch 00037: val_loss did not improve\n",
      "50/50 [==============================] - 168s - loss: 0.1031 - acc: 0.9694 - val_loss: 0.6434 - val_acc: 0.8183\n",
      "Epoch 39/50\n",
      "49/50 [============================>.] - ETA: 1s - loss: 0.1336 - acc: 0.9656Epoch 00038: val_loss did not improve\n",
      "50/50 [==============================] - 177s - loss: 0.1323 - acc: 0.9656 - val_loss: 0.7174 - val_acc: 0.8366\n",
      "Epoch 40/50\n",
      "49/50 [============================>.] - ETA: 1s - loss: 0.1122 - acc: 0.9751Epoch 00039: val_loss did not improve\n",
      "50/50 [==============================] - 174s - loss: 0.1115 - acc: 0.9750 - val_loss: 0.7999 - val_acc: 0.7906\n",
      "Epoch 41/50\n",
      "49/50 [============================>.] - ETA: 1s - loss: 0.1207 - acc: 0.9630Epoch 00040: val_loss did not improve\n",
      "50/50 [==============================] - 170s - loss: 0.1213 - acc: 0.9625 - val_loss: 0.6697 - val_acc: 0.8245\n",
      "Epoch 42/50\n",
      "49/50 [============================>.] - ETA: 1s - loss: 0.1268 - acc: 0.9617Epoch 00041: val_loss did not improve\n",
      "50/50 [==============================] - 170s - loss: 0.1275 - acc: 0.9613 - val_loss: 0.6551 - val_acc: 0.8411\n",
      "Epoch 43/50\n",
      "49/50 [============================>.] - ETA: 1s - loss: 0.1133 - acc: 0.9643Epoch 00042: val_loss did not improve\n",
      "50/50 [==============================] - 169s - loss: 0.1173 - acc: 0.9625 - val_loss: 0.7969 - val_acc: 0.7767\n",
      "Epoch 44/50\n",
      "49/50 [============================>.] - ETA: 1s - loss: 0.0977 - acc: 0.9694Epoch 00043: val_loss did not improve\n",
      "50/50 [==============================] - 168s - loss: 0.0962 - acc: 0.9700 - val_loss: 0.8982 - val_acc: 0.7808\n",
      "Epoch 45/50\n",
      "49/50 [============================>.] - ETA: 1s - loss: 0.0838 - acc: 0.9739Epoch 00044: val_loss did not improve\n",
      "50/50 [==============================] - 167s - loss: 0.0847 - acc: 0.9738 - val_loss: 0.5746 - val_acc: 0.8270\n",
      "Epoch 46/50\n",
      "49/50 [============================>.] - ETA: 1s - loss: 0.0656 - acc: 0.9790Epoch 00045: val_loss did not improve\n",
      "50/50 [==============================] - 169s - loss: 0.0650 - acc: 0.9794 - val_loss: 0.6747 - val_acc: 0.8151\n",
      "Epoch 47/50\n",
      "49/50 [============================>.] - ETA: 1s - loss: 0.1215 - acc: 0.9630Epoch 00046: val_loss did not improve\n",
      "50/50 [==============================] - 166s - loss: 0.1223 - acc: 0.9625 - val_loss: 0.5767 - val_acc: 0.8631\n",
      "Epoch 48/50\n",
      "49/50 [============================>.] - ETA: 1s - loss: 0.0652 - acc: 0.9783Epoch 00047: val_loss did not improve\n",
      "50/50 [==============================] - 166s - loss: 0.0641 - acc: 0.9788 - val_loss: 0.7059 - val_acc: 0.8343\n",
      "Epoch 49/50\n",
      "49/50 [============================>.] - ETA: 1s - loss: 0.0912 - acc: 0.9713Epoch 00048: val_loss did not improve\n",
      "50/50 [==============================] - 167s - loss: 0.0922 - acc: 0.9712 - val_loss: 0.6870 - val_acc: 0.8581\n",
      "Epoch 50/50\n",
      "49/50 [============================>.] - ETA: 1s - loss: 0.0677 - acc: 0.9790Epoch 00049: val_loss did not improve\n",
      "50/50 [==============================] - 167s - loss: 0.0694 - acc: 0.9788 - val_loss: 0.6978 - val_acc: 0.8215\n"
     ]
    },
    {
     "data": {
      "text/plain": [
       "<keras.callbacks.History at 0x7fac86b7d6a0>"
      ]
     },
     "execution_count": 33,
     "metadata": {},
     "output_type": "execute_result"
    }
   ],
   "source": [
    "model_vgg16_ft.fit_generator(train_aug_generator, \n",
    "                             50,\n",
    "                             num_epochs, \n",
    "                             validation_data=val_generator, \n",
    "                             validation_steps=val_generator.samples//batch_size+1,\n",
    "                             callbacks=[tensorboard_cb, ckpt_cb])"
   ]
  },
  {
   "cell_type": "code",
   "execution_count": 34,
   "metadata": {
    "collapsed": true
   },
   "outputs": [],
   "source": [
    "model_vgg16_ft.load_weights('vgg16_ft2_aug_weights.25-0.483.hdf5')"
   ]
  },
  {
   "cell_type": "code",
   "execution_count": 35,
   "metadata": {
    "collapsed": true
   },
   "outputs": [],
   "source": [
    "def write_predicts_gen(test_gen, batch_size, sub_fname):\n",
    "    y_pred = model_vgg16_ft.predict_generator(test_gen, \n",
    "                                              test_gen.samples//batch_size+1, \n",
    "                                              verbose=1)\n",
    "\n",
    "    y_pred_df = pd.DataFrame(y_pred, columns=classnames)\n",
    "    \n",
    "    img_name = []\n",
    "    for i, fname in enumerate(test_gen.filenames):\n",
    "        img_name.append(os.path.basename(fname))\n",
    "\n",
    "    img_name_df = pd.DataFrame(img_name, columns=['img'])\n",
    "    predictions = pd.concat([img_name_df, y_pred_df], axis=1)\n",
    "    print(predictions.shape)\n",
    "    predictions.to_csv(sub_fname, index=False)\n",
    "    print('submission file {} is ready.'.format(sub_fname))"
   ]
  },
  {
   "cell_type": "code",
   "execution_count": 38,
   "metadata": {
    "scrolled": true
   },
   "outputs": [
    {
     "name": "stdout",
     "output_type": "stream",
     "text": [
      "2492/2492 [==============================] - 1676s  \n",
      "(79726, 11)\n",
      "submission file submission_vgg16_ft2_aug.csv is ready.\n"
     ]
    }
   ],
   "source": [
    "write_predicts_gen(test_generator, batch_size, 'submission_vgg16_ft2_aug.csv')"
   ]
  },
  {
   "cell_type": "markdown",
   "metadata": {
    "collapsed": true
   },
   "source": [
    "### fold3"
   ]
  },
  {
   "cell_type": "code",
   "execution_count": 39,
   "metadata": {},
   "outputs": [
    {
     "name": "stderr",
     "output_type": "stream",
     "text": [
      "100%|██████████| 18098/18098 [02:54<00:00, 103.64it/s]\n",
      "100%|██████████| 4326/4326 [00:41<00:00, 107.54it/s]\n"
     ]
    }
   ],
   "source": [
    "for fold in range(3,4):\n",
    "    df_t, df_v = split_list(subjects_t[fold], subjects_v[fold])\n",
    "    symlink_train_val(df_t, df_v, fold, train_raw_dir)"
   ]
  },
  {
   "cell_type": "code",
   "execution_count": 40,
   "metadata": {
    "collapsed": true
   },
   "outputs": [],
   "source": [
    "train_dir = 'train3'\n",
    "val_dir = 'validation3'"
   ]
  },
  {
   "cell_type": "code",
   "execution_count": 41,
   "metadata": {},
   "outputs": [
    {
     "name": "stdout",
     "output_type": "stream",
     "text": [
      "Found 4326 images belonging to 10 classes.\n"
     ]
    }
   ],
   "source": [
    "val_generator = data_gen.flow_from_directory(val_dir, \n",
    "                                             target_size=(img_height, img_width), \n",
    "                                             class_mode='categorical',\n",
    "                                             batch_size=batch_size)"
   ]
  },
  {
   "cell_type": "code",
   "execution_count": 42,
   "metadata": {},
   "outputs": [
    {
     "name": "stdout",
     "output_type": "stream",
     "text": [
      "Found 18098 images belonging to 10 classes.\n"
     ]
    }
   ],
   "source": [
    "train_aug_generator = data_gen_aug.flow_from_directory(train_dir, \n",
    "                                                       target_size=(img_height, img_width), \n",
    "                                                       class_mode='categorical',\n",
    "                                                       batch_size=batch_size)"
   ]
  },
  {
   "cell_type": "code",
   "execution_count": 43,
   "metadata": {
    "collapsed": true
   },
   "outputs": [],
   "source": [
    "model_vgg16_ft = model_build(VGG16, adam, 10, False)"
   ]
  },
  {
   "cell_type": "code",
   "execution_count": 44,
   "metadata": {
    "collapsed": true
   },
   "outputs": [],
   "source": [
    "tensorboard_cb = TensorBoard(log_dir='log/vgg16', histogram_freq=0, batch_size=batch_size, write_graph=True, write_images=True)\n",
    "ckpt_cb = ModelCheckpoint('vgg16_ft3_aug_weights.{epoch:02d}-{val_loss:.3f}.hdf5', monitor='val_loss', verbose=1, save_best_only=True)"
   ]
  },
  {
   "cell_type": "code",
   "execution_count": null,
   "metadata": {
    "collapsed": true
   },
   "outputs": [],
   "source": [
    "num_epochs = 50"
   ]
  },
  {
   "cell_type": "code",
   "execution_count": null,
   "metadata": {
    "scrolled": false
   },
   "outputs": [
    {
     "name": "stdout",
     "output_type": "stream",
     "text": [
      "Epoch 1/50\n",
      "49/50 [============================>.] - ETA: 1s - loss: 3.8337 - acc: 0.1116Epoch 00000: val_loss improved from inf to 2.52410, saving model to vgg16_ft3_aug_weights.00-2.524.hdf5\n",
      "50/50 [==============================] - 177s - loss: 3.8043 - acc: 0.1125 - val_loss: 2.5241 - val_acc: 0.1308\n",
      "Epoch 2/50\n",
      "49/50 [============================>.] - ETA: 1s - loss: 2.3980 - acc: 0.0982Epoch 00001: val_loss improved from 2.52410 to 2.36803, saving model to vgg16_ft3_aug_weights.01-2.368.hdf5\n",
      "50/50 [==============================] - 175s - loss: 2.3946 - acc: 0.0988 - val_loss: 2.3680 - val_acc: 0.0980\n",
      "Epoch 3/50\n",
      "49/50 [============================>.] - ETA: 1s - loss: 2.3385 - acc: 0.1142Epoch 00002: val_loss improved from 2.36803 to 2.35808, saving model to vgg16_ft3_aug_weights.02-2.358.hdf5\n",
      "50/50 [==============================] - 175s - loss: 2.3406 - acc: 0.1156 - val_loss: 2.3581 - val_acc: 0.1066\n",
      "Epoch 4/50\n",
      "49/50 [============================>.] - ETA: 1s - loss: 2.3033 - acc: 0.1435Epoch 00003: val_loss improved from 2.35808 to 2.22447, saving model to vgg16_ft3_aug_weights.03-2.224.hdf5\n",
      "50/50 [==============================] - 178s - loss: 2.3059 - acc: 0.1437 - val_loss: 2.2245 - val_acc: 0.2282\n",
      "Epoch 5/50\n",
      "49/50 [============================>.] - ETA: 1s - loss: 2.1213 - acc: 0.2079Epoch 00004: val_loss improved from 2.22447 to 1.95632, saving model to vgg16_ft3_aug_weights.04-1.956.hdf5\n",
      "50/50 [==============================] - 175s - loss: 2.1164 - acc: 0.2094 - val_loss: 1.9563 - val_acc: 0.2279\n",
      "Epoch 6/50\n",
      "49/50 [============================>.] - ETA: 1s - loss: 1.9255 - acc: 0.2761Epoch 00005: val_loss improved from 1.95632 to 1.79060, saving model to vgg16_ft3_aug_weights.05-1.791.hdf5\n",
      "50/50 [==============================] - 176s - loss: 1.9190 - acc: 0.2787 - val_loss: 1.7906 - val_acc: 0.3477\n",
      "Epoch 7/50\n",
      "49/50 [============================>.] - ETA: 1s - loss: 1.7749 - acc: 0.3304Epoch 00006: val_loss improved from 1.79060 to 1.68207, saving model to vgg16_ft3_aug_weights.06-1.682.hdf5\n",
      "50/50 [==============================] - 175s - loss: 1.7732 - acc: 0.3300 - val_loss: 1.6821 - val_acc: 0.3632\n",
      "Epoch 8/50\n",
      "49/50 [============================>.] - ETA: 1s - loss: 1.6132 - acc: 0.3980Epoch 00007: val_loss improved from 1.68207 to 1.66118, saving model to vgg16_ft3_aug_weights.07-1.661.hdf5\n",
      "50/50 [==============================] - 175s - loss: 1.6127 - acc: 0.3975 - val_loss: 1.6612 - val_acc: 0.3585\n",
      "Epoch 9/50\n",
      "49/50 [============================>.] - ETA: 1s - loss: 1.5266 - acc: 0.4222Epoch 00008: val_loss improved from 1.66118 to 1.62489, saving model to vgg16_ft3_aug_weights.08-1.625.hdf5\n",
      "50/50 [==============================] - 178s - loss: 1.5300 - acc: 0.4206 - val_loss: 1.6249 - val_acc: 0.3828\n",
      "Epoch 10/50\n",
      "49/50 [============================>.] - ETA: 1s - loss: 1.4552 - acc: 0.4420Epoch 00009: val_loss did not improve\n",
      "50/50 [==============================] - 164s - loss: 1.4532 - acc: 0.4431 - val_loss: 1.7652 - val_acc: 0.3081\n",
      "Epoch 11/50\n",
      "49/50 [============================>.] - ETA: 1s - loss: 1.4127 - acc: 0.4630Epoch 00010: val_loss did not improve\n",
      "50/50 [==============================] - 164s - loss: 1.4088 - acc: 0.4650 - val_loss: 1.7526 - val_acc: 0.3472\n",
      "Epoch 12/50\n",
      "49/50 [============================>.] - ETA: 1s - loss: 1.2490 - acc: 0.5205Epoch 00011: val_loss did not improve\n",
      "50/50 [==============================] - 169s - loss: 1.2410 - acc: 0.5232 - val_loss: 1.9059 - val_acc: 0.3976\n",
      "Epoch 13/50\n",
      "49/50 [============================>.] - ETA: 1s - loss: 1.1366 - acc: 0.5912Epoch 00012: val_loss did not improve\n",
      "50/50 [==============================] - 164s - loss: 1.1326 - acc: 0.5925 - val_loss: 1.8609 - val_acc: 0.4637\n",
      "Epoch 14/50\n",
      "49/50 [============================>.] - ETA: 1s - loss: 1.0979 - acc: 0.6116Epoch 00013: val_loss did not improve\n",
      "50/50 [==============================] - 164s - loss: 1.0952 - acc: 0.6119 - val_loss: 1.7475 - val_acc: 0.4115\n",
      "Epoch 15/50\n",
      "49/50 [============================>.] - ETA: 1s - loss: 1.0294 - acc: 0.6250Epoch 00014: val_loss improved from 1.62489 to 1.28059, saving model to vgg16_ft3_aug_weights.14-1.281.hdf5\n",
      "50/50 [==============================] - 179s - loss: 1.0254 - acc: 0.6269 - val_loss: 1.2806 - val_acc: 0.5479\n",
      "Epoch 16/50\n",
      "49/50 [============================>.] - ETA: 1s - loss: 0.8771 - acc: 0.6971Epoch 00015: val_loss did not improve\n",
      "50/50 [==============================] - 164s - loss: 0.8747 - acc: 0.6963 - val_loss: 1.3578 - val_acc: 0.5661\n",
      "Epoch 17/50\n",
      "49/50 [============================>.] - ETA: 1s - loss: 0.8490 - acc: 0.7009Epoch 00016: val_loss improved from 1.28059 to 1.23924, saving model to vgg16_ft3_aug_weights.16-1.239.hdf5\n",
      "50/50 [==============================] - 182s - loss: 0.8463 - acc: 0.7031 - val_loss: 1.2392 - val_acc: 0.5791\n",
      "Epoch 18/50\n",
      "49/50 [============================>.] - ETA: 1s - loss: 0.8474 - acc: 0.7060Epoch 00017: val_loss did not improve\n",
      "50/50 [==============================] - 165s - loss: 0.8522 - acc: 0.7025 - val_loss: 1.2797 - val_acc: 0.5980\n",
      "Epoch 19/50\n",
      "49/50 [============================>.] - ETA: 1s - loss: 0.7234 - acc: 0.7500Epoch 00018: val_loss did not improve\n",
      "50/50 [==============================] - 164s - loss: 0.7221 - acc: 0.7506 - val_loss: 1.2793 - val_acc: 0.5703\n",
      "Epoch 20/50\n",
      "49/50 [============================>.] - ETA: 1s - loss: 0.6849 - acc: 0.7545Epoch 00019: val_loss did not improve\n",
      "50/50 [==============================] - 164s - loss: 0.6809 - acc: 0.7562 - val_loss: 1.3712 - val_acc: 0.5721\n",
      "Epoch 21/50\n",
      "49/50 [============================>.] - ETA: 1s - loss: 0.6394 - acc: 0.7679Epoch 00020: val_loss did not improve\n",
      "50/50 [==============================] - 165s - loss: 0.6464 - acc: 0.7669 - val_loss: 1.3893 - val_acc: 0.5978\n",
      "Epoch 22/50\n",
      "49/50 [============================>.] - ETA: 1s - loss: 0.5890 - acc: 0.7851Epoch 00021: val_loss improved from 1.23924 to 1.23159, saving model to vgg16_ft3_aug_weights.21-1.232.hdf5\n",
      "50/50 [==============================] - 176s - loss: 0.5892 - acc: 0.7837 - val_loss: 1.2316 - val_acc: 0.6093\n",
      "Epoch 23/50\n",
      "49/50 [============================>.] - ETA: 1s - loss: 0.5403 - acc: 0.7966Epoch 00022: val_loss improved from 1.23159 to 1.19529, saving model to vgg16_ft3_aug_weights.22-1.195.hdf5\n",
      "50/50 [==============================] - 175s - loss: 0.5451 - acc: 0.7951 - val_loss: 1.1953 - val_acc: 0.6445\n",
      "Epoch 24/50\n",
      "49/50 [============================>.] - ETA: 1s - loss: 0.5223 - acc: 0.8297Epoch 00023: val_loss did not improve\n",
      "50/50 [==============================] - 165s - loss: 0.5245 - acc: 0.8294 - val_loss: 1.5211 - val_acc: 0.5580\n",
      "Epoch 25/50\n",
      "49/50 [============================>.] - ETA: 1s - loss: 0.5032 - acc: 0.8310Epoch 00024: val_loss did not improve\n",
      "50/50 [==============================] - 165s - loss: 0.5002 - acc: 0.8312 - val_loss: 1.3396 - val_acc: 0.5791\n",
      "Epoch 26/50\n",
      "49/50 [============================>.] - ETA: 1s - loss: 0.4467 - acc: 0.8514Epoch 00025: val_loss improved from 1.19529 to 1.16691, saving model to vgg16_ft3_aug_weights.25-1.167.hdf5\n",
      "50/50 [==============================] - 180s - loss: 0.4416 - acc: 0.8531 - val_loss: 1.1669 - val_acc: 0.6664\n",
      "Epoch 27/50\n",
      "49/50 [============================>.] - ETA: 1s - loss: 0.4202 - acc: 0.8622Epoch 00026: val_loss did not improve\n",
      "50/50 [==============================] - 165s - loss: 0.4218 - acc: 0.8612 - val_loss: 1.4775 - val_acc: 0.6223\n",
      "Epoch 28/50\n",
      "49/50 [============================>.] - ETA: 1s - loss: 0.4972 - acc: 0.8348Epoch 00027: val_loss did not improve\n",
      "50/50 [==============================] - 165s - loss: 0.4921 - acc: 0.8363 - val_loss: 1.2516 - val_acc: 0.6533\n",
      "Epoch 29/50\n",
      "49/50 [============================>.] - ETA: 1s - loss: 0.4008 - acc: 0.8667Epoch 00028: val_loss did not improve\n",
      "50/50 [==============================] - 166s - loss: 0.4034 - acc: 0.8656 - val_loss: 1.2776 - val_acc: 0.6246\n",
      "Epoch 30/50\n",
      "49/50 [============================>.] - ETA: 1s - loss: 0.3678 - acc: 0.8788Epoch 00029: val_loss did not improve\n",
      "50/50 [==============================] - 165s - loss: 0.3637 - acc: 0.8800 - val_loss: 1.3629 - val_acc: 0.6285\n",
      "Epoch 31/50\n",
      "49/50 [============================>.] - ETA: 1s - loss: 0.3424 - acc: 0.8865Epoch 00030: val_loss did not improve\n",
      "50/50 [==============================] - 165s - loss: 0.3436 - acc: 0.8862 - val_loss: 1.7207 - val_acc: 0.6158\n",
      "Epoch 32/50\n",
      "49/50 [============================>.] - ETA: 1s - loss: 0.3375 - acc: 0.8839Epoch 00031: val_loss did not improve\n",
      "50/50 [==============================] - 175s - loss: 0.3349 - acc: 0.8850 - val_loss: 1.2312 - val_acc: 0.6676\n",
      "Epoch 33/50\n",
      "49/50 [============================>.] - ETA: 1s - loss: 0.4002 - acc: 0.8680Epoch 00032: val_loss improved from 1.16691 to 1.15029, saving model to vgg16_ft3_aug_weights.32-1.150.hdf5\n",
      "50/50 [==============================] - 178s - loss: 0.3974 - acc: 0.8694 - val_loss: 1.1503 - val_acc: 0.6768\n",
      "Epoch 34/50\n",
      "49/50 [============================>.] - ETA: 1s - loss: 0.3337 - acc: 0.8934Epoch 00033: val_loss improved from 1.15029 to 1.02335, saving model to vgg16_ft3_aug_weights.33-1.023.hdf5\n",
      "50/50 [==============================] - 182s - loss: 0.3310 - acc: 0.8931 - val_loss: 1.0234 - val_acc: 0.6914\n",
      "Epoch 35/50\n",
      "49/50 [============================>.] - ETA: 1s - loss: 0.3420 - acc: 0.8954Epoch 00034: val_loss did not improve\n",
      "50/50 [==============================] - 169s - loss: 0.3432 - acc: 0.8944 - val_loss: 1.2692 - val_acc: 0.6581\n",
      "Epoch 36/50\n",
      "49/50 [============================>.] - ETA: 1s - loss: 0.3200 - acc: 0.8922Epoch 00035: val_loss did not improve\n",
      "50/50 [==============================] - 173s - loss: 0.3166 - acc: 0.8931 - val_loss: 1.1908 - val_acc: 0.6590\n",
      "Epoch 37/50\n",
      "49/50 [============================>.] - ETA: 1s - loss: 0.3434 - acc: 0.8909"
     ]
    }
   ],
   "source": [
    "model_vgg16_ft.fit_generator(train_aug_generator, \n",
    "                             50,\n",
    "                             num_epochs, \n",
    "                             validation_data=val_generator, \n",
    "                             validation_steps=val_generator.samples//batch_size+1,\n",
    "                             callbacks=[tensorboard_cb, ckpt_cb])"
   ]
  },
  {
   "cell_type": "code",
   "execution_count": null,
   "metadata": {
    "collapsed": true
   },
   "outputs": [],
   "source": []
  }
 ],
 "metadata": {
  "kernelspec": {
   "display_name": "Python 3",
   "language": "python",
   "name": "python3"
  },
  "language_info": {
   "codemirror_mode": {
    "name": "ipython",
    "version": 3
   },
   "file_extension": ".py",
   "mimetype": "text/x-python",
   "name": "python",
   "nbconvert_exporter": "python",
   "pygments_lexer": "ipython3",
   "version": "3.6.2"
  }
 },
 "nbformat": 4,
 "nbformat_minor": 2
}
