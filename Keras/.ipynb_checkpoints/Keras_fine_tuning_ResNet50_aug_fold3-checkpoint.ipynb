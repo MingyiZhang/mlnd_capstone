{
 "cells": [
  {
   "cell_type": "markdown",
   "metadata": {},
   "source": [
    "### Load modules"
   ]
  },
  {
   "cell_type": "code",
   "execution_count": 1,
   "metadata": {},
   "outputs": [
    {
     "name": "stderr",
     "output_type": "stream",
     "text": [
      "Using TensorFlow backend.\n"
     ]
    }
   ],
   "source": [
    "from keras.models import *\n",
    "from keras.layers import *\n",
    "from keras.applications import *\n",
    "from keras.preprocessing.image import *"
   ]
  },
  {
   "cell_type": "code",
   "execution_count": 2,
   "metadata": {
    "collapsed": true
   },
   "outputs": [],
   "source": [
    "import os\n",
    "import numpy as np\n",
    "import pandas as pd\n",
    "\n",
    "from sklearn.utils import shuffle\n",
    "from sklearn.model_selection import KFold"
   ]
  },
  {
   "cell_type": "code",
   "execution_count": 3,
   "metadata": {
    "collapsed": true
   },
   "outputs": [],
   "source": [
    "import h5py"
   ]
  },
  {
   "cell_type": "markdown",
   "metadata": {},
   "source": [
    "### Load train image list"
   ]
  },
  {
   "cell_type": "code",
   "execution_count": 4,
   "metadata": {
    "collapsed": true
   },
   "outputs": [],
   "source": [
    "df = pd.read_csv('driver_imgs_list.csv')\n",
    "# drivers' names\n",
    "subjects = np.unique(df['subject'])\n",
    "# classes\n",
    "classnames = np.unique(df['classname'])"
   ]
  },
  {
   "cell_type": "markdown",
   "metadata": {},
   "source": [
    "### 5-fold train-val split in terms of drivers: "
   ]
  },
  {
   "cell_type": "code",
   "execution_count": 5,
   "metadata": {
    "collapsed": true
   },
   "outputs": [],
   "source": [
    "kf = KFold(n_splits=5, random_state=42, shuffle=True)\n",
    "subjects_t = []\n",
    "subjects_v = []\n",
    "for sub_t, sub_v in kf.split(subjects):\n",
    "    subjects_t.append(list(subjects[sub_t]))\n",
    "    subjects_v.append(list(subjects[sub_v]))"
   ]
  },
  {
   "cell_type": "markdown",
   "metadata": {},
   "source": [
    "split the train image list"
   ]
  },
  {
   "cell_type": "code",
   "execution_count": 6,
   "metadata": {
    "collapsed": true
   },
   "outputs": [],
   "source": [
    "def split_list(subjects_t, subjects_v):\n",
    "    df_t = df.loc[df.subject.isin(subjects_t)]\n",
    "    df_v = df.loc[df.subject.isin(subjects_v)]\n",
    "    return df_t, df_v"
   ]
  },
  {
   "cell_type": "markdown",
   "metadata": {},
   "source": [
    "### original dataset dir."
   ]
  },
  {
   "cell_type": "code",
   "execution_count": 7,
   "metadata": {
    "collapsed": true
   },
   "outputs": [],
   "source": [
    "dataset_dir = '/dataset_dir'\n",
    "# dataset_dir = '../../dataset_resized'\n",
    "\n",
    "train_raw_dir = dataset_dir + '/train'\n",
    "test_dir = dataset_dir + '/test'"
   ]
  },
  {
   "cell_type": "markdown",
   "metadata": {},
   "source": [
    "### make dirs of train and validation"
   ]
  },
  {
   "cell_type": "code",
   "execution_count": 8,
   "metadata": {
    "collapsed": true
   },
   "outputs": [],
   "source": [
    "import shutil\n",
    "from shutil import *"
   ]
  },
  {
   "cell_type": "code",
   "execution_count": 9,
   "metadata": {
    "collapsed": true
   },
   "outputs": [],
   "source": [
    "from tqdm import tqdm"
   ]
  },
  {
   "cell_type": "code",
   "execution_count": 10,
   "metadata": {
    "collapsed": true
   },
   "outputs": [],
   "source": [
    "def mkdir_train_val(fold):\n",
    "    if 'train'+str(fold) in os.listdir():\n",
    "        shutil.rmtree('train'+str(fold))\n",
    "    if 'validation'+str(fold) in os.listdir():\n",
    "        shutil.rmtree('validation'+str(fold))\n",
    "    for split_name in ['train', 'validation']:\n",
    "        for cls in classnames:\n",
    "            os.makedirs(split_name+str(fold) + '/' + cls)"
   ]
  },
  {
   "cell_type": "code",
   "execution_count": 11,
   "metadata": {
    "collapsed": true
   },
   "outputs": [],
   "source": [
    "def symlink_train_val(df_t, df_v, fold, train_dir):\n",
    "    mkdir_train_val(fold)\n",
    "    for i in tqdm(range(len(df_t))):\n",
    "        cls = df_t.iloc[i]['classname']\n",
    "        img = df_t.iloc[i]['img']\n",
    "        os.symlink(train_dir+'/'+cls+'/'+img, 'train'+str(fold)+'/'+cls+'/'+img)\n",
    "    for i in tqdm(range(len(df_v))):\n",
    "        cls = df_v.iloc[i]['classname']\n",
    "        img = df_v.iloc[i]['img']\n",
    "        os.symlink(train_dir+'/'+cls+'/'+img, 'validation'+str(fold)+'/'+cls+'/'+img)"
   ]
  },
  {
   "cell_type": "code",
   "execution_count": 12,
   "metadata": {
    "collapsed": true
   },
   "outputs": [],
   "source": [
    "def copy_train_val(df_t, df_v, fold, train_dir):\n",
    "    mkdir_train_val(fold)\n",
    "    for i in tqdm(range(len(df_t))):\n",
    "        cls = df_t.iloc[i]['classname']\n",
    "        img = df_t.iloc[i]['img']\n",
    "        copyfile(train_dir+'/'+cls+'/'+img, 'train'+str(fold)+'/'+cls+'/'+img)\n",
    "    for i in tqdm(range(len(df_v))):\n",
    "        cls = df_v.iloc[i]['classname']\n",
    "        img = df_v.iloc[i]['img']\n",
    "        copyfile(train_dir+'/'+cls+'/'+img, 'validation'+str(fold)+'/'+cls+'/'+img)"
   ]
  },
  {
   "cell_type": "code",
   "execution_count": 13,
   "metadata": {},
   "outputs": [
    {
     "name": "stderr",
     "output_type": "stream",
     "text": [
      "100%|██████████| 18098/18098 [02:26<00:00, 123.44it/s]\n",
      "100%|██████████| 4326/4326 [00:34<00:00, 124.82it/s]\n"
     ]
    }
   ],
   "source": [
    "for fold in range(3,4):\n",
    "    df_t, df_v = split_list(subjects_t[fold], subjects_v[fold])\n",
    "    symlink_train_val(df_t, df_v, fold, train_raw_dir)"
   ]
  },
  {
   "cell_type": "code",
   "execution_count": 14,
   "metadata": {
    "collapsed": true
   },
   "outputs": [],
   "source": [
    "train_dir = 'train3'\n",
    "val_dir = 'validation3'"
   ]
  },
  {
   "cell_type": "markdown",
   "metadata": {},
   "source": [
    "### preprocessing images"
   ]
  },
  {
   "cell_type": "code",
   "execution_count": 10,
   "metadata": {
    "collapsed": true
   },
   "outputs": [],
   "source": [
    "# preprocess function of VGG and ResNet50\n",
    "def preprocess_fn(x):\n",
    "    # RGB >> BGR\n",
    "    x = img_to_array(x)\n",
    "    x = x[:, :, ::-1]\n",
    "    # Zero-center by mean pixel\n",
    "    x[:, :, 0] -= 103.939\n",
    "    x[:, :, 1] -= 116.779\n",
    "    x[:, :, 2] -= 123.68\n",
    "    return x"
   ]
  },
  {
   "cell_type": "code",
   "execution_count": 11,
   "metadata": {
    "collapsed": true
   },
   "outputs": [],
   "source": [
    "# default image size of VGG and ResNet50\n",
    "img_width, img_height = 224, 224"
   ]
  },
  {
   "cell_type": "code",
   "execution_count": 12,
   "metadata": {
    "collapsed": true
   },
   "outputs": [],
   "source": [
    "batch_size = 32"
   ]
  },
  {
   "cell_type": "code",
   "execution_count": 13,
   "metadata": {
    "collapsed": true
   },
   "outputs": [],
   "source": [
    "data_gen = ImageDataGenerator(preprocessing_function=preprocess_fn)"
   ]
  },
  {
   "cell_type": "markdown",
   "metadata": {},
   "source": [
    "original generator"
   ]
  },
  {
   "cell_type": "code",
   "execution_count": 22,
   "metadata": {
    "scrolled": true
   },
   "outputs": [
    {
     "name": "stdout",
     "output_type": "stream",
     "text": [
      "Found 17446 images belonging to 10 classes.\n"
     ]
    }
   ],
   "source": [
    "train_generator = data_gen.flow_from_directory(train_dir, \n",
    "                                               target_size=(img_height, img_width), \n",
    "                                               class_mode='categorical',\n",
    "                                               batch_size=batch_size)"
   ]
  },
  {
   "cell_type": "code",
   "execution_count": 19,
   "metadata": {},
   "outputs": [
    {
     "name": "stdout",
     "output_type": "stream",
     "text": [
      "Found 4326 images belonging to 10 classes.\n"
     ]
    }
   ],
   "source": [
    "val_generator = data_gen.flow_from_directory(val_dir, \n",
    "                                             target_size=(img_height, img_width), \n",
    "                                             class_mode='categorical',\n",
    "                                             batch_size=batch_size)"
   ]
  },
  {
   "cell_type": "code",
   "execution_count": 14,
   "metadata": {},
   "outputs": [
    {
     "name": "stdout",
     "output_type": "stream",
     "text": [
      "Found 79726 images belonging to 1 classes.\n"
     ]
    }
   ],
   "source": [
    "test_generator = data_gen.flow_from_directory(test_dir, \n",
    "                                              target_size=(img_height, img_width), \n",
    "                                              class_mode=None,\n",
    "                                              shuffle=False,\n",
    "                                              batch_size=batch_size)"
   ]
  },
  {
   "cell_type": "markdown",
   "metadata": {},
   "source": [
    "transfer generator"
   ]
  },
  {
   "cell_type": "code",
   "execution_count": null,
   "metadata": {
    "collapsed": true
   },
   "outputs": [],
   "source": [
    "train_tf_generator = data_gen.flow_from_directory(train_dir, \n",
    "                                                  target_size=(img_height, img_width), \n",
    "                                                  class_mode='categorical',\n",
    "                                                  shuffle=False,\n",
    "                                                  batch_size=batch_size)"
   ]
  },
  {
   "cell_type": "code",
   "execution_count": null,
   "metadata": {
    "collapsed": true
   },
   "outputs": [],
   "source": [
    "val_tf_generator = data_gen.flow_from_directory(val_dir,\n",
    "                                                target_size=(img_height, img_width), \n",
    "                                                class_mode='categorical',\n",
    "                                                shuffle=False,\n",
    "                                                batch_size=batch_size)"
   ]
  },
  {
   "cell_type": "markdown",
   "metadata": {},
   "source": [
    "augment generator"
   ]
  },
  {
   "cell_type": "code",
   "execution_count": 21,
   "metadata": {
    "collapsed": true
   },
   "outputs": [],
   "source": [
    "data_gen_aug = ImageDataGenerator(rotation_range=30.,\n",
    "                                  width_shift_range=0.1,\n",
    "                                  height_shift_range=0.1,\n",
    "                                  preprocessing_function=preprocess_fn)"
   ]
  },
  {
   "cell_type": "code",
   "execution_count": 22,
   "metadata": {},
   "outputs": [
    {
     "name": "stdout",
     "output_type": "stream",
     "text": [
      "Found 18098 images belonging to 10 classes.\n"
     ]
    }
   ],
   "source": [
    "train_aug_generator = data_gen_aug.flow_from_directory(train_dir, \n",
    "                                                       target_size=(img_height, img_width), \n",
    "                                                       class_mode='categorical',\n",
    "                                                       batch_size=batch_size)"
   ]
  },
  {
   "cell_type": "code",
   "execution_count": 42,
   "metadata": {},
   "outputs": [
    {
     "name": "stdout",
     "output_type": "stream",
     "text": [
      "Found 4978 images belonging to 10 classes.\n"
     ]
    }
   ],
   "source": [
    "val_aug_generator = data_gen_aug.flow_from_directory(val_dir, \n",
    "                                                     target_size=(img_height, img_width), \n",
    "                                                     class_mode='categorical',\n",
    "                                                     batch_size=batch_size)"
   ]
  },
  {
   "cell_type": "code",
   "execution_count": 44,
   "metadata": {},
   "outputs": [
    {
     "name": "stdout",
     "output_type": "stream",
     "text": [
      "Found 79726 images belonging to 1 classes.\n"
     ]
    }
   ],
   "source": [
    "test_aug_generator = data_gen_aug.flow_from_directory(test_dir, \n",
    "                                                      target_size=(img_height, img_width), \n",
    "                                                      class_mode=None,\n",
    "                                                      shuffle=False,\n",
    "                                                      batch_size=batch_size)"
   ]
  },
  {
   "cell_type": "markdown",
   "metadata": {},
   "source": [
    "### Fine-tuning ResNet50"
   ]
  },
  {
   "cell_type": "code",
   "execution_count": 15,
   "metadata": {
    "collapsed": true
   },
   "outputs": [],
   "source": [
    "from keras.optimizers import *\n",
    "from keras.callbacks import *"
   ]
  },
  {
   "cell_type": "code",
   "execution_count": 16,
   "metadata": {
    "collapsed": true
   },
   "outputs": [],
   "source": [
    "adam = Adam(lr=1e-4, beta_1=0.9, beta_2=0.999, epsilon=1e-08, decay=1e-6)\n",
    "sgd = SGD(lr=1e-4, decay=1e-6, momentum=0.9, nesterov=True)"
   ]
  },
  {
   "cell_type": "code",
   "execution_count": 17,
   "metadata": {
    "collapsed": true
   },
   "outputs": [],
   "source": [
    "def model_build(MODEL, optimizer, layer_num_fix, top_dropout=False):\n",
    "    base_model = MODEL(weights='imagenet', include_top=True)\n",
    "    if top_dropout:\n",
    "        x = Dropout(0.4, name='top_dropout')(base_model.layers[-2].output)\n",
    "        x = Dense(10, activation='softmax', name='top_prediction')(x)\n",
    "    else:\n",
    "        x = Dense(10, activation='softmax', name='top_prediction')(base_model.layers[-2].output)\n",
    "        \n",
    "    model_ft = Model(base_model.input, x, name=MODEL.__name__)\n",
    "    model_ft.compile(optimizer=optimizer, \n",
    "                     loss='categorical_crossentropy', \n",
    "                     metrics=['accuracy'])\n",
    "    for layer in model_ft.layers[:layer_num_fix]:\n",
    "        layer.trainable = False\n",
    "    return model_ft"
   ]
  },
  {
   "cell_type": "code",
   "execution_count": 18,
   "metadata": {
    "collapsed": true
   },
   "outputs": [],
   "source": [
    "model_resnet50_ft = model_build(ResNet50, adam, 142, False)"
   ]
  },
  {
   "cell_type": "code",
   "execution_count": 27,
   "metadata": {
    "collapsed": true,
    "scrolled": true
   },
   "outputs": [],
   "source": [
    "tensorboard_cb = TensorBoard(log_dir='log/resnet50', histogram_freq=0, batch_size=batch_size, write_graph=True, write_images=True)\n",
    "ckpt_cb = ModelCheckpoint('resnet50_ft3_aug_weights.{epoch:02d}-{val_loss:.3f}.hdf5', monitor='val_loss', verbose=1, save_best_only=True)\n",
    "stp_cb = EarlyStopping(monitor='val_loss', min_delta=0.001, patience=10, verbose=1, mode='auto')"
   ]
  },
  {
   "cell_type": "code",
   "execution_count": 28,
   "metadata": {
    "collapsed": true
   },
   "outputs": [],
   "source": [
    "num_epochs = 50"
   ]
  },
  {
   "cell_type": "code",
   "execution_count": 29,
   "metadata": {
    "scrolled": false
   },
   "outputs": [
    {
     "name": "stdout",
     "output_type": "stream",
     "text": [
      "Epoch 1/50\n",
      "49/50 [============================>.] - ETA: 1s - loss: 1.3213 - acc: 0.5855Epoch 00000: val_loss improved from inf to 1.20391, saving model to resnet50_ft3_aug_weights.00-1.204.hdf5\n",
      "50/50 [==============================] - 159s - loss: 1.3017 - acc: 0.5919 - val_loss: 1.2039 - val_acc: 0.6241\n",
      "Epoch 2/50\n",
      "49/50 [============================>.] - ETA: 1s - loss: 0.2867 - acc: 0.9184Epoch 00001: val_loss improved from 1.20391 to 0.61501, saving model to resnet50_ft3_aug_weights.01-0.615.hdf5\n",
      "50/50 [==============================] - 122s - loss: 0.2857 - acc: 0.9188 - val_loss: 0.6150 - val_acc: 0.8174\n",
      "Epoch 3/50\n",
      "49/50 [============================>.] - ETA: 1s - loss: 0.1784 - acc: 0.9490Epoch 00002: val_loss did not improve\n",
      "50/50 [==============================] - 119s - loss: 0.1759 - acc: 0.9500 - val_loss: 0.8443 - val_acc: 0.7742\n",
      "Epoch 4/50\n",
      "49/50 [============================>.] - ETA: 1s - loss: 0.1529 - acc: 0.9566Epoch 00003: val_loss did not improve\n",
      "50/50 [==============================] - 119s - loss: 0.1512 - acc: 0.9575 - val_loss: 0.6278 - val_acc: 0.7913\n",
      "Epoch 5/50\n",
      "49/50 [============================>.] - ETA: 1s - loss: 0.1660 - acc: 0.9573Epoch 00004: val_loss did not improve\n",
      "50/50 [==============================] - 119s - loss: 0.1632 - acc: 0.9581 - val_loss: 0.6192 - val_acc: 0.8132\n",
      "Epoch 6/50\n",
      "49/50 [============================>.] - ETA: 1s - loss: 0.1035 - acc: 0.9662Epoch 00005: val_loss improved from 0.61501 to 0.59372, saving model to resnet50_ft3_aug_weights.05-0.594.hdf5\n",
      "50/50 [==============================] - 120s - loss: 0.1017 - acc: 0.9669 - val_loss: 0.5937 - val_acc: 0.8248\n",
      "Epoch 7/50\n",
      "49/50 [============================>.] - ETA: 1s - loss: 0.1020 - acc: 0.9745Epoch 00006: val_loss did not improve\n",
      "50/50 [==============================] - 118s - loss: 0.1002 - acc: 0.9750 - val_loss: 0.7949 - val_acc: 0.7700\n",
      "Epoch 8/50\n",
      "49/50 [============================>.] - ETA: 1s - loss: 0.0866 - acc: 0.9732Epoch 00007: val_loss improved from 0.59372 to 0.55456, saving model to resnet50_ft3_aug_weights.07-0.555.hdf5\n",
      "50/50 [==============================] - 121s - loss: 0.0851 - acc: 0.9738 - val_loss: 0.5546 - val_acc: 0.8400\n",
      "Epoch 9/50\n",
      "49/50 [============================>.] - ETA: 1s - loss: 0.0700 - acc: 0.9783Epoch 00008: val_loss did not improve\n",
      "50/50 [==============================] - 118s - loss: 0.0690 - acc: 0.9788 - val_loss: 0.5974 - val_acc: 0.8292\n",
      "Epoch 10/50\n",
      "49/50 [============================>.] - ETA: 1s - loss: 0.0790 - acc: 0.9751Epoch 00009: val_loss improved from 0.55456 to 0.42318, saving model to resnet50_ft3_aug_weights.09-0.423.hdf5\n",
      "50/50 [==============================] - 120s - loss: 0.0778 - acc: 0.9756 - val_loss: 0.4232 - val_acc: 0.8747\n",
      "Epoch 11/50\n",
      "49/50 [============================>.] - ETA: 1s - loss: 0.0572 - acc: 0.9828Epoch 00010: val_loss did not improve\n",
      "50/50 [==============================] - 117s - loss: 0.0567 - acc: 0.9831 - val_loss: 0.4272 - val_acc: 0.8615\n",
      "Epoch 12/50\n",
      "49/50 [============================>.] - ETA: 1s - loss: 0.0571 - acc: 0.9848Epoch 00011: val_loss improved from 0.42318 to 0.41646, saving model to resnet50_ft3_aug_weights.11-0.416.hdf5\n",
      "50/50 [==============================] - 119s - loss: 0.0562 - acc: 0.9851 - val_loss: 0.4165 - val_acc: 0.8701\n",
      "Epoch 13/50\n",
      "49/50 [============================>.] - ETA: 1s - loss: 0.0579 - acc: 0.9847Epoch 00012: val_loss did not improve\n",
      "50/50 [==============================] - 118s - loss: 0.0583 - acc: 0.9844 - val_loss: 0.4480 - val_acc: 0.8664\n",
      "Epoch 14/50\n",
      "49/50 [============================>.] - ETA: 1s - loss: 0.0538 - acc: 0.9860Epoch 00013: val_loss did not improve\n",
      "50/50 [==============================] - 117s - loss: 0.0544 - acc: 0.9856 - val_loss: 0.6382 - val_acc: 0.8262\n",
      "Epoch 15/50\n",
      "49/50 [============================>.] - ETA: 1s - loss: 0.0345 - acc: 0.9892Epoch 00014: val_loss did not improve\n",
      "50/50 [==============================] - 117s - loss: 0.0374 - acc: 0.9888 - val_loss: 0.8898 - val_acc: 0.7947\n",
      "Epoch 16/50\n",
      "49/50 [============================>.] - ETA: 1s - loss: 0.0381 - acc: 0.9904Epoch 00015: val_loss did not improve\n",
      "50/50 [==============================] - 118s - loss: 0.0376 - acc: 0.9906 - val_loss: 0.5020 - val_acc: 0.8518\n",
      "Epoch 17/50\n",
      "49/50 [============================>.] - ETA: 1s - loss: 0.0481 - acc: 0.9860Epoch 00016: val_loss did not improve\n",
      "50/50 [==============================] - 122s - loss: 0.0477 - acc: 0.9862 - val_loss: 0.5046 - val_acc: 0.8530\n",
      "Epoch 18/50\n",
      "49/50 [============================>.] - ETA: 1s - loss: 0.0523 - acc: 0.9834Epoch 00017: val_loss improved from 0.41646 to 0.37407, saving model to resnet50_ft3_aug_weights.17-0.374.hdf5\n",
      "50/50 [==============================] - 126s - loss: 0.0524 - acc: 0.9831 - val_loss: 0.3741 - val_acc: 0.8874\n",
      "Epoch 19/50\n",
      "49/50 [============================>.] - ETA: 1s - loss: 0.0492 - acc: 0.9834Epoch 00018: val_loss did not improve\n",
      "50/50 [==============================] - 122s - loss: 0.0491 - acc: 0.9831 - val_loss: 0.4731 - val_acc: 0.8560\n",
      "Epoch 20/50\n",
      "49/50 [============================>.] - ETA: 1s - loss: 0.0534 - acc: 0.9841Epoch 00019: val_loss did not improve\n",
      "50/50 [==============================] - 122s - loss: 0.0532 - acc: 0.9838 - val_loss: 0.4310 - val_acc: 0.8558\n",
      "Epoch 21/50\n",
      "49/50 [============================>.] - ETA: 1s - loss: 0.0336 - acc: 0.9904Epoch 00020: val_loss did not improve\n",
      "50/50 [==============================] - 120s - loss: 0.0335 - acc: 0.9906 - val_loss: 0.4021 - val_acc: 0.8777\n",
      "Epoch 22/50\n",
      "49/50 [============================>.] - ETA: 1s - loss: 0.0695 - acc: 0.9764Epoch 00021: val_loss did not improve\n",
      "50/50 [==============================] - 121s - loss: 0.0682 - acc: 0.9769 - val_loss: 0.5386 - val_acc: 0.8456\n",
      "Epoch 23/50\n",
      "49/50 [============================>.] - ETA: 1s - loss: 0.0503 - acc: 0.9861Epoch 00022: val_loss did not improve\n",
      "50/50 [==============================] - 120s - loss: 0.0495 - acc: 0.9864 - val_loss: 0.6782 - val_acc: 0.8019\n",
      "Epoch 24/50\n",
      "49/50 [============================>.] - ETA: 1s - loss: 0.0454 - acc: 0.9872Epoch 00023: val_loss did not improve\n",
      "50/50 [==============================] - 121s - loss: 0.0457 - acc: 0.9869 - val_loss: 0.5378 - val_acc: 0.8380\n",
      "Epoch 25/50\n",
      "49/50 [============================>.] - ETA: 1s - loss: 0.0227 - acc: 0.9923Epoch 00024: val_loss improved from 0.37407 to 0.36940, saving model to resnet50_ft3_aug_weights.24-0.369.hdf5\n",
      "50/50 [==============================] - 124s - loss: 0.0234 - acc: 0.9919 - val_loss: 0.3694 - val_acc: 0.8941\n",
      "Epoch 26/50\n",
      "49/50 [============================>.] - ETA: 1s - loss: 0.0224 - acc: 0.9923Epoch 00025: val_loss did not improve\n",
      "50/50 [==============================] - 123s - loss: 0.0220 - acc: 0.9925 - val_loss: 0.4416 - val_acc: 0.8558\n",
      "Epoch 27/50\n",
      "49/50 [============================>.] - ETA: 1s - loss: 0.0423 - acc: 0.9898Epoch 00026: val_loss did not improve\n",
      "50/50 [==============================] - 119s - loss: 0.0417 - acc: 0.9900 - val_loss: 0.5238 - val_acc: 0.8460\n",
      "Epoch 28/50\n",
      "49/50 [============================>.] - ETA: 1s - loss: 0.0371 - acc: 0.9885Epoch 00027: val_loss did not improve\n",
      "50/50 [==============================] - 115s - loss: 0.0411 - acc: 0.9875 - val_loss: 0.3739 - val_acc: 0.8960\n",
      "Epoch 29/50\n",
      "49/50 [============================>.] - ETA: 1s - loss: 0.0338 - acc: 0.9898Epoch 00028: val_loss did not improve\n",
      "50/50 [==============================] - 118s - loss: 0.0332 - acc: 0.9900 - val_loss: 0.4172 - val_acc: 0.8955\n",
      "Epoch 30/50\n",
      "49/50 [============================>.] - ETA: 1s - loss: 0.0287 - acc: 0.9930Epoch 00029: val_loss did not improve\n",
      "50/50 [==============================] - 116s - loss: 0.0283 - acc: 0.9931 - val_loss: 0.3823 - val_acc: 0.8853\n",
      "Epoch 31/50\n",
      "49/50 [============================>.] - ETA: 1s - loss: 0.0214 - acc: 0.9949Epoch 00030: val_loss did not improve\n",
      "50/50 [==============================] - 118s - loss: 0.0210 - acc: 0.9950 - val_loss: 0.6074 - val_acc: 0.8474\n",
      "Epoch 32/50\n",
      "49/50 [============================>.] - ETA: 1s - loss: 0.0288 - acc: 0.9904Epoch 00031: val_loss improved from 0.36940 to 0.30374, saving model to resnet50_ft3_aug_weights.31-0.304.hdf5\n",
      "50/50 [==============================] - 122s - loss: 0.0283 - acc: 0.9906 - val_loss: 0.3037 - val_acc: 0.8978\n",
      "Epoch 33/50\n",
      "49/50 [============================>.] - ETA: 1s - loss: 0.0396 - acc: 0.9892Epoch 00032: val_loss did not improve\n",
      "50/50 [==============================] - 115s - loss: 0.0392 - acc: 0.9894 - val_loss: 0.3181 - val_acc: 0.9117\n",
      "Epoch 34/50\n",
      "49/50 [============================>.] - ETA: 1s - loss: 0.0342 - acc: 0.9898Epoch 00033: val_loss did not improve\n",
      "50/50 [==============================] - 115s - loss: 0.0336 - acc: 0.9900 - val_loss: 0.4759 - val_acc: 0.8611\n",
      "Epoch 35/50\n",
      "49/50 [============================>.] - ETA: 1s - loss: 0.0261 - acc: 0.9911Epoch 00034: val_loss did not improve\n",
      "50/50 [==============================] - 115s - loss: 0.0259 - acc: 0.9912 - val_loss: 0.5968 - val_acc: 0.8488\n",
      "Epoch 36/50\n",
      "49/50 [============================>.] - ETA: 1s - loss: 0.0235 - acc: 0.9936Epoch 00035: val_loss did not improve\n",
      "50/50 [==============================] - 115s - loss: 0.0234 - acc: 0.9938 - val_loss: 0.4829 - val_acc: 0.8731\n",
      "Epoch 37/50\n",
      "49/50 [============================>.] - ETA: 1s - loss: 0.0454 - acc: 0.9904Epoch 00036: val_loss did not improve\n",
      "50/50 [==============================] - 115s - loss: 0.0447 - acc: 0.9906 - val_loss: 0.4084 - val_acc: 0.8779\n",
      "Epoch 38/50\n",
      "49/50 [============================>.] - ETA: 1s - loss: 0.0180 - acc: 0.9962Epoch 00037: val_loss did not improve\n",
      "50/50 [==============================] - 116s - loss: 0.0177 - acc: 0.9963 - val_loss: 0.4887 - val_acc: 0.8715\n",
      "Epoch 39/50\n",
      "49/50 [============================>.] - ETA: 1s - loss: 0.0187 - acc: 0.9936Epoch 00038: val_loss did not improve\n",
      "50/50 [==============================] - 115s - loss: 0.0184 - acc: 0.9938 - val_loss: 0.3802 - val_acc: 0.8796\n",
      "Epoch 40/50\n",
      "49/50 [============================>.] - ETA: 1s - loss: 0.0350 - acc: 0.9885Epoch 00039: val_loss did not improve\n",
      "50/50 [==============================] - 116s - loss: 0.0343 - acc: 0.9888 - val_loss: 0.5360 - val_acc: 0.8618\n",
      "Epoch 41/50\n",
      "49/50 [============================>.] - ETA: 1s - loss: 0.0275 - acc: 0.9917Epoch 00040: val_loss did not improve\n",
      "50/50 [==============================] - 116s - loss: 0.0270 - acc: 0.9919 - val_loss: 0.5506 - val_acc: 0.8306\n",
      "Epoch 42/50\n",
      "49/50 [============================>.] - ETA: 1s - loss: 0.0187 - acc: 0.9930Epoch 00041: val_loss did not improve\n",
      "50/50 [==============================] - 115s - loss: 0.0185 - acc: 0.9931 - val_loss: 1.0536 - val_acc: 0.7647\n",
      "Epoch 43/50\n",
      "49/50 [============================>.] - ETA: 1s - loss: 0.0143 - acc: 0.9936Epoch 00042: val_loss did not improve\n",
      "50/50 [==============================] - 116s - loss: 0.0140 - acc: 0.9938 - val_loss: 0.3404 - val_acc: 0.8937\n",
      "Epoch 00042: early stopping\n"
     ]
    },
    {
     "data": {
      "text/plain": [
       "<keras.callbacks.History at 0x7fb00a8fd860>"
      ]
     },
     "execution_count": 29,
     "metadata": {},
     "output_type": "execute_result"
    }
   ],
   "source": [
    "model_resnet50_ft.fit_generator(train_aug_generator, \n",
    "                             50,\n",
    "                             num_epochs, \n",
    "                             validation_data=val_generator, \n",
    "                             validation_steps=val_generator.samples//batch_size+1,\n",
    "                             callbacks=[tensorboard_cb, ckpt_cb, stp_cb])"
   ]
  },
  {
   "cell_type": "code",
   "execution_count": 19,
   "metadata": {
    "collapsed": true
   },
   "outputs": [],
   "source": [
    "model_resnet50_ft.load_weights('/model/resnet50_ft3_aug_weights.31-0.304.hdf5')"
   ]
  },
  {
   "cell_type": "code",
   "execution_count": null,
   "metadata": {
    "collapsed": true
   },
   "outputs": [],
   "source": [
    "def write_predicts_gen(test_gen, batch_size, sub_fname):\n",
    "    y_pred = model_resnet50_ft.predict_generator(test_gen, \n",
    "                                              test_gen.samples//batch_size+1, \n",
    "                                              verbose=1)\n",
    "\n",
    "    y_pred_df = pd.DataFrame(y_pred, columns=classnames)\n",
    "    \n",
    "    img_name = []\n",
    "    for i, fname in enumerate(test_gen.filenames):\n",
    "        img_name.append(os.path.basename(fname))\n",
    "\n",
    "    img_name_df = pd.DataFrame(img_name, columns=['img'])\n",
    "    predictions = pd.concat([img_name_df, y_pred_df], axis=1)\n",
    "    print(predictions.shape)\n",
    "    predictions.to_csv(sub_fname, index=False)\n",
    "    print('submission file {} is ready.'.format(sub_fname))"
   ]
  },
  {
   "cell_type": "code",
   "execution_count": null,
   "metadata": {
    "scrolled": true
   },
   "outputs": [
    {
     "name": "stdout",
     "output_type": "stream",
     "text": [
      "2492/2492 [==============================] - 18942s \n",
      "(79726, 11)\n",
      "submission file submission_resnet50_ft3_aug.csv is ready.\n"
     ]
    }
   ],
   "source": [
    "write_predicts_gen(test_generator, batch_size, 'submission_resnet50_ft3_aug.csv')"
   ]
  },
  {
   "cell_type": "code",
   "execution_count": null,
   "metadata": {
    "collapsed": true
   },
   "outputs": [],
   "source": []
  }
 ],
 "metadata": {
  "kernelspec": {
   "display_name": "Python 3",
   "language": "python",
   "name": "python3"
  },
  "language_info": {
   "codemirror_mode": {
    "name": "ipython",
    "version": 3
   },
   "file_extension": ".py",
   "mimetype": "text/x-python",
   "name": "python",
   "nbconvert_exporter": "python",
   "pygments_lexer": "ipython3",
   "version": "3.6.2"
  }
 },
 "nbformat": 4,
 "nbformat_minor": 2
}
