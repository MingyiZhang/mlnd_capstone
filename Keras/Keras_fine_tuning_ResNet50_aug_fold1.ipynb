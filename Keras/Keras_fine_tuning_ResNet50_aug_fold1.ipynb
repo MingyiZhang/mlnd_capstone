{
 "cells": [
  {
   "cell_type": "markdown",
   "metadata": {},
   "source": [
    "### Load modules"
   ]
  },
  {
   "cell_type": "code",
   "execution_count": 1,
   "metadata": {},
   "outputs": [
    {
     "name": "stderr",
     "output_type": "stream",
     "text": [
      "Using TensorFlow backend.\n"
     ]
    }
   ],
   "source": [
    "from keras.models import *\n",
    "from keras.layers import *\n",
    "from keras.applications import *\n",
    "from keras.preprocessing.image import *"
   ]
  },
  {
   "cell_type": "code",
   "execution_count": 2,
   "metadata": {
    "collapsed": true
   },
   "outputs": [],
   "source": [
    "import os\n",
    "import numpy as np\n",
    "import pandas as pd\n",
    "\n",
    "from sklearn.utils import shuffle\n",
    "from sklearn.model_selection import KFold"
   ]
  },
  {
   "cell_type": "code",
   "execution_count": 3,
   "metadata": {
    "collapsed": true
   },
   "outputs": [],
   "source": [
    "import h5py"
   ]
  },
  {
   "cell_type": "markdown",
   "metadata": {},
   "source": [
    "### Load train image list"
   ]
  },
  {
   "cell_type": "code",
   "execution_count": 4,
   "metadata": {
    "collapsed": true
   },
   "outputs": [],
   "source": [
    "df = pd.read_csv('driver_imgs_list.csv')\n",
    "# drivers' names\n",
    "subjects = np.unique(df['subject'])\n",
    "# classes\n",
    "classnames = np.unique(df['classname'])"
   ]
  },
  {
   "cell_type": "markdown",
   "metadata": {},
   "source": [
    "### 5-fold train-val split in terms of drivers: "
   ]
  },
  {
   "cell_type": "code",
   "execution_count": 5,
   "metadata": {
    "collapsed": true
   },
   "outputs": [],
   "source": [
    "kf = KFold(n_splits=5, random_state=42, shuffle=True)\n",
    "subjects_t = []\n",
    "subjects_v = []\n",
    "for sub_t, sub_v in kf.split(subjects):\n",
    "    subjects_t.append(list(subjects[sub_t]))\n",
    "    subjects_v.append(list(subjects[sub_v]))"
   ]
  },
  {
   "cell_type": "markdown",
   "metadata": {},
   "source": [
    "split the train image list"
   ]
  },
  {
   "cell_type": "code",
   "execution_count": 6,
   "metadata": {
    "collapsed": true
   },
   "outputs": [],
   "source": [
    "def split_list(subjects_t, subjects_v):\n",
    "    df_t = df.loc[df.subject.isin(subjects_t)]\n",
    "    df_v = df.loc[df.subject.isin(subjects_v)]\n",
    "    return df_t, df_v"
   ]
  },
  {
   "cell_type": "markdown",
   "metadata": {},
   "source": [
    "### original dataset dir."
   ]
  },
  {
   "cell_type": "code",
   "execution_count": 7,
   "metadata": {
    "collapsed": true
   },
   "outputs": [],
   "source": [
    "dataset_dir = '/dataset_dir'\n",
    "# dataset_dir = '../../dataset_resized'\n",
    "\n",
    "train_raw_dir = dataset_dir + '/train'\n",
    "test_dir = dataset_dir + '/test'"
   ]
  },
  {
   "cell_type": "markdown",
   "metadata": {},
   "source": [
    "### make dirs of train and validation"
   ]
  },
  {
   "cell_type": "code",
   "execution_count": 8,
   "metadata": {
    "collapsed": true
   },
   "outputs": [],
   "source": [
    "import shutil\n",
    "from shutil import *"
   ]
  },
  {
   "cell_type": "code",
   "execution_count": 9,
   "metadata": {
    "collapsed": true
   },
   "outputs": [],
   "source": [
    "from tqdm import tqdm"
   ]
  },
  {
   "cell_type": "code",
   "execution_count": 10,
   "metadata": {
    "collapsed": true
   },
   "outputs": [],
   "source": [
    "def mkdir_train_val(fold):\n",
    "    if 'train'+str(fold) in os.listdir():\n",
    "        shutil.rmtree('train'+str(fold))\n",
    "    if 'validation'+str(fold) in os.listdir():\n",
    "        shutil.rmtree('validation'+str(fold))\n",
    "    for split_name in ['train', 'validation']:\n",
    "        for cls in classnames:\n",
    "            os.makedirs(split_name+str(fold) + '/' + cls)"
   ]
  },
  {
   "cell_type": "code",
   "execution_count": 11,
   "metadata": {
    "collapsed": true
   },
   "outputs": [],
   "source": [
    "def symlink_train_val(df_t, df_v, fold, train_dir):\n",
    "    mkdir_train_val(fold)\n",
    "    for i in tqdm(range(len(df_t))):\n",
    "        cls = df_t.iloc[i]['classname']\n",
    "        img = df_t.iloc[i]['img']\n",
    "        os.symlink(train_dir+'/'+cls+'/'+img, 'train'+str(fold)+'/'+cls+'/'+img)\n",
    "    for i in tqdm(range(len(df_v))):\n",
    "        cls = df_v.iloc[i]['classname']\n",
    "        img = df_v.iloc[i]['img']\n",
    "        os.symlink(train_dir+'/'+cls+'/'+img, 'validation'+str(fold)+'/'+cls+'/'+img)"
   ]
  },
  {
   "cell_type": "code",
   "execution_count": 12,
   "metadata": {
    "collapsed": true
   },
   "outputs": [],
   "source": [
    "def copy_train_val(df_t, df_v, fold, train_dir):\n",
    "    mkdir_train_val(fold)\n",
    "    for i in tqdm(range(len(df_t))):\n",
    "        cls = df_t.iloc[i]['classname']\n",
    "        img = df_t.iloc[i]['img']\n",
    "        copyfile(train_dir+'/'+cls+'/'+img, 'train'+str(fold)+'/'+cls+'/'+img)\n",
    "    for i in tqdm(range(len(df_v))):\n",
    "        cls = df_v.iloc[i]['classname']\n",
    "        img = df_v.iloc[i]['img']\n",
    "        copyfile(train_dir+'/'+cls+'/'+img, 'validation'+str(fold)+'/'+cls+'/'+img)"
   ]
  },
  {
   "cell_type": "code",
   "execution_count": 13,
   "metadata": {},
   "outputs": [
    {
     "name": "stderr",
     "output_type": "stream",
     "text": [
      "100%|██████████| 18418/18418 [02:30<00:00, 122.39it/s]\n",
      "100%|██████████| 4006/4006 [00:32<00:00, 124.36it/s]\n"
     ]
    }
   ],
   "source": [
    "for fold in range(1,2):\n",
    "    df_t, df_v = split_list(subjects_t[fold], subjects_v[fold])\n",
    "    symlink_train_val(df_t, df_v, fold, train_raw_dir)"
   ]
  },
  {
   "cell_type": "code",
   "execution_count": 14,
   "metadata": {
    "collapsed": true
   },
   "outputs": [],
   "source": [
    "train_dir = 'train1'\n",
    "val_dir = 'validation1'"
   ]
  },
  {
   "cell_type": "markdown",
   "metadata": {},
   "source": [
    "### preprocessing images"
   ]
  },
  {
   "cell_type": "code",
   "execution_count": 15,
   "metadata": {
    "collapsed": true
   },
   "outputs": [],
   "source": [
    "# preprocess function of VGG and ResNet50\n",
    "def preprocess_fn(x):\n",
    "    # RGB >> BGR\n",
    "    x = img_to_array(x)\n",
    "    x = x[:, :, ::-1]\n",
    "    # Zero-center by mean pixel\n",
    "    x[:, :, 0] -= 103.939\n",
    "    x[:, :, 1] -= 116.779\n",
    "    x[:, :, 2] -= 123.68\n",
    "    return x"
   ]
  },
  {
   "cell_type": "code",
   "execution_count": 16,
   "metadata": {
    "collapsed": true
   },
   "outputs": [],
   "source": [
    "# default image size of VGG and ResNet50\n",
    "img_width, img_height = 224, 224"
   ]
  },
  {
   "cell_type": "code",
   "execution_count": 17,
   "metadata": {
    "collapsed": true
   },
   "outputs": [],
   "source": [
    "batch_size = 32"
   ]
  },
  {
   "cell_type": "code",
   "execution_count": 18,
   "metadata": {
    "collapsed": true
   },
   "outputs": [],
   "source": [
    "data_gen = ImageDataGenerator(preprocessing_function=preprocess_fn)"
   ]
  },
  {
   "cell_type": "markdown",
   "metadata": {},
   "source": [
    "original generator"
   ]
  },
  {
   "cell_type": "code",
   "execution_count": 22,
   "metadata": {
    "scrolled": true
   },
   "outputs": [
    {
     "name": "stdout",
     "output_type": "stream",
     "text": [
      "Found 17446 images belonging to 10 classes.\n"
     ]
    }
   ],
   "source": [
    "train_generator = data_gen.flow_from_directory(train_dir, \n",
    "                                               target_size=(img_height, img_width), \n",
    "                                               class_mode='categorical',\n",
    "                                               batch_size=batch_size)"
   ]
  },
  {
   "cell_type": "code",
   "execution_count": 19,
   "metadata": {},
   "outputs": [
    {
     "name": "stdout",
     "output_type": "stream",
     "text": [
      "Found 4006 images belonging to 10 classes.\n"
     ]
    }
   ],
   "source": [
    "val_generator = data_gen.flow_from_directory(val_dir, \n",
    "                                             target_size=(img_height, img_width), \n",
    "                                             class_mode='categorical',\n",
    "                                             batch_size=batch_size)"
   ]
  },
  {
   "cell_type": "code",
   "execution_count": 22,
   "metadata": {},
   "outputs": [
    {
     "name": "stdout",
     "output_type": "stream",
     "text": [
      "Found 79726 images belonging to 1 classes.\n"
     ]
    }
   ],
   "source": [
    "test_generator = data_gen.flow_from_directory(test_dir, \n",
    "                                              target_size=(img_height, img_width), \n",
    "                                              class_mode=None,\n",
    "                                              shuffle=False,\n",
    "                                              batch_size=batch_size)"
   ]
  },
  {
   "cell_type": "markdown",
   "metadata": {},
   "source": [
    "transfer generator"
   ]
  },
  {
   "cell_type": "code",
   "execution_count": null,
   "metadata": {
    "collapsed": true
   },
   "outputs": [],
   "source": [
    "train_tf_generator = data_gen.flow_from_directory(train_dir, \n",
    "                                                  target_size=(img_height, img_width), \n",
    "                                                  class_mode='categorical',\n",
    "                                                  shuffle=False,\n",
    "                                                  batch_size=batch_size)"
   ]
  },
  {
   "cell_type": "code",
   "execution_count": null,
   "metadata": {
    "collapsed": true
   },
   "outputs": [],
   "source": [
    "val_tf_generator = data_gen.flow_from_directory(val_dir,\n",
    "                                                target_size=(img_height, img_width), \n",
    "                                                class_mode='categorical',\n",
    "                                                shuffle=False,\n",
    "                                                batch_size=batch_size)"
   ]
  },
  {
   "cell_type": "markdown",
   "metadata": {},
   "source": [
    "augment generator"
   ]
  },
  {
   "cell_type": "code",
   "execution_count": 20,
   "metadata": {
    "collapsed": true
   },
   "outputs": [],
   "source": [
    "data_gen_aug = ImageDataGenerator(rotation_range=30.,\n",
    "                                  width_shift_range=0.1,\n",
    "                                  height_shift_range=0.1,\n",
    "                                  preprocessing_function=preprocess_fn)"
   ]
  },
  {
   "cell_type": "code",
   "execution_count": 21,
   "metadata": {},
   "outputs": [
    {
     "name": "stdout",
     "output_type": "stream",
     "text": [
      "Found 18418 images belonging to 10 classes.\n"
     ]
    }
   ],
   "source": [
    "train_aug_generator = data_gen_aug.flow_from_directory(train_dir, \n",
    "                                                       target_size=(img_height, img_width), \n",
    "                                                       class_mode='categorical',\n",
    "                                                       batch_size=batch_size)"
   ]
  },
  {
   "cell_type": "code",
   "execution_count": 42,
   "metadata": {},
   "outputs": [
    {
     "name": "stdout",
     "output_type": "stream",
     "text": [
      "Found 4978 images belonging to 10 classes.\n"
     ]
    }
   ],
   "source": [
    "val_aug_generator = data_gen_aug.flow_from_directory(val_dir, \n",
    "                                                     target_size=(img_height, img_width), \n",
    "                                                     class_mode='categorical',\n",
    "                                                     batch_size=batch_size)"
   ]
  },
  {
   "cell_type": "code",
   "execution_count": 44,
   "metadata": {},
   "outputs": [
    {
     "name": "stdout",
     "output_type": "stream",
     "text": [
      "Found 79726 images belonging to 1 classes.\n"
     ]
    }
   ],
   "source": [
    "test_aug_generator = data_gen_aug.flow_from_directory(test_dir, \n",
    "                                                      target_size=(img_height, img_width), \n",
    "                                                      class_mode=None,\n",
    "                                                      shuffle=False,\n",
    "                                                      batch_size=batch_size)"
   ]
  },
  {
   "cell_type": "markdown",
   "metadata": {},
   "source": [
    "### Fine-tuning ResNet50"
   ]
  },
  {
   "cell_type": "code",
   "execution_count": 23,
   "metadata": {
    "collapsed": true
   },
   "outputs": [],
   "source": [
    "from keras.optimizers import *\n",
    "from keras.callbacks import *"
   ]
  },
  {
   "cell_type": "code",
   "execution_count": 24,
   "metadata": {
    "collapsed": true
   },
   "outputs": [],
   "source": [
    "adam = Adam(lr=1e-4, beta_1=0.9, beta_2=0.999, epsilon=1e-08, decay=1e-6)\n",
    "sgd = SGD(lr=1e-4, decay=1e-6, momentum=0.9, nesterov=True)"
   ]
  },
  {
   "cell_type": "code",
   "execution_count": 25,
   "metadata": {
    "collapsed": true
   },
   "outputs": [],
   "source": [
    "def model_build(MODEL, optimizer, layer_num_fix, top_dropout=False):\n",
    "    base_model = MODEL(weights='imagenet', include_top=True)\n",
    "    if top_dropout:\n",
    "        x = Dropout(0.4, name='top_dropout')(base_model.layers[-2].output)\n",
    "        x = Dense(10, activation='softmax', name='top_prediction')(x)\n",
    "    else:\n",
    "        x = Dense(10, activation='softmax', name='top_prediction')(base_model.layers[-2].output)\n",
    "        \n",
    "    model_ft = Model(base_model.input, x, name=MODEL.__name__)\n",
    "    model_ft.compile(optimizer=optimizer, \n",
    "                     loss='categorical_crossentropy', \n",
    "                     metrics=['accuracy'])\n",
    "    for layer in model_ft.layers[:layer_num_fix]:\n",
    "        layer.trainable = False\n",
    "    return model_ft"
   ]
  },
  {
   "cell_type": "code",
   "execution_count": 26,
   "metadata": {
    "collapsed": true
   },
   "outputs": [],
   "source": [
    "model_resnet50_ft = model_build(ResNet50, adam, 142, False)"
   ]
  },
  {
   "cell_type": "code",
   "execution_count": 27,
   "metadata": {
    "collapsed": true,
    "scrolled": true
   },
   "outputs": [],
   "source": [
    "tensorboard_cb = TensorBoard(log_dir='log/resnet50', histogram_freq=0, batch_size=batch_size, write_graph=True, write_images=True)\n",
    "ckpt_cb = ModelCheckpoint('resnet50_ft1_aug_weights.{epoch:02d}-{val_loss:.3f}.hdf5', monitor='val_loss', verbose=1, save_best_only=True)\n",
    "stp_cb = EarlyStopping(monitor='val_loss', min_delta=0.001, patience=10, verbose=1, mode='auto')"
   ]
  },
  {
   "cell_type": "code",
   "execution_count": 28,
   "metadata": {
    "collapsed": true
   },
   "outputs": [],
   "source": [
    "num_epochs = 50"
   ]
  },
  {
   "cell_type": "code",
   "execution_count": 29,
   "metadata": {
    "scrolled": false
   },
   "outputs": [
    {
     "name": "stdout",
     "output_type": "stream",
     "text": [
      "Epoch 1/50\n",
      "49/50 [============================>.] - ETA: 1s - loss: 1.3842 - acc: 0.5733Epoch 00000: val_loss improved from inf to 1.30726, saving model to resnet50_ft1_aug_weights.00-1.307.hdf5\n",
      "50/50 [==============================] - 136s - loss: 1.3637 - acc: 0.5800 - val_loss: 1.3073 - val_acc: 0.7089\n",
      "Epoch 2/50\n",
      "49/50 [============================>.] - ETA: 1s - loss: 0.3369 - acc: 0.9031Epoch 00001: val_loss improved from 1.30726 to 0.96680, saving model to resnet50_ft1_aug_weights.01-0.967.hdf5\n",
      "50/50 [==============================] - 118s - loss: 0.3405 - acc: 0.9019 - val_loss: 0.9668 - val_acc: 0.7421\n",
      "Epoch 3/50\n",
      "49/50 [============================>.] - ETA: 1s - loss: 0.1718 - acc: 0.9522Epoch 00002: val_loss improved from 0.96680 to 0.93144, saving model to resnet50_ft1_aug_weights.02-0.931.hdf5\n",
      "50/50 [==============================] - 117s - loss: 0.1697 - acc: 0.9525 - val_loss: 0.9314 - val_acc: 0.7678\n",
      "Epoch 4/50\n",
      "49/50 [============================>.] - ETA: 1s - loss: 0.1230 - acc: 0.9649Epoch 00003: val_loss improved from 0.93144 to 0.73966, saving model to resnet50_ft1_aug_weights.03-0.740.hdf5\n",
      "50/50 [==============================] - 114s - loss: 0.1249 - acc: 0.9650 - val_loss: 0.7397 - val_acc: 0.7681\n",
      "Epoch 5/50\n",
      "49/50 [============================>.] - ETA: 1s - loss: 0.0854 - acc: 0.9726Epoch 00004: val_loss improved from 0.73966 to 0.70387, saving model to resnet50_ft1_aug_weights.04-0.704.hdf5\n",
      "50/50 [==============================] - 113s - loss: 0.0863 - acc: 0.9725 - val_loss: 0.7039 - val_acc: 0.7953\n",
      "Epoch 6/50\n",
      "49/50 [============================>.] - ETA: 1s - loss: 0.0893 - acc: 0.9739Epoch 00005: val_loss did not improve\n",
      "50/50 [==============================] - 113s - loss: 0.0882 - acc: 0.9744 - val_loss: 0.7616 - val_acc: 0.7861\n",
      "Epoch 7/50\n",
      "49/50 [============================>.] - ETA: 1s - loss: 0.1070 - acc: 0.9726Epoch 00006: val_loss did not improve\n",
      "50/50 [==============================] - 119s - loss: 0.1090 - acc: 0.9719 - val_loss: 0.9753 - val_acc: 0.6935\n",
      "Epoch 8/50\n",
      "49/50 [============================>.] - ETA: 1s - loss: 0.1085 - acc: 0.9694Epoch 00007: val_loss improved from 0.70387 to 0.67142, saving model to resnet50_ft1_aug_weights.07-0.671.hdf5\n",
      "50/50 [==============================] - 121s - loss: 0.1074 - acc: 0.9694 - val_loss: 0.6714 - val_acc: 0.7646\n",
      "Epoch 9/50\n",
      "49/50 [============================>.] - ETA: 1s - loss: 0.0807 - acc: 0.9770Epoch 00008: val_loss did not improve\n",
      "50/50 [==============================] - 118s - loss: 0.0792 - acc: 0.9775 - val_loss: 0.8524 - val_acc: 0.7229\n",
      "Epoch 10/50\n",
      "49/50 [============================>.] - ETA: 1s - loss: 0.0552 - acc: 0.9841Epoch 00009: val_loss improved from 0.67142 to 0.37263, saving model to resnet50_ft1_aug_weights.09-0.373.hdf5\n",
      "50/50 [==============================] - 120s - loss: 0.0543 - acc: 0.9844 - val_loss: 0.3726 - val_acc: 0.8879\n",
      "Epoch 11/50\n",
      "49/50 [============================>.] - ETA: 1s - loss: 0.0824 - acc: 0.9739Epoch 00010: val_loss did not improve\n",
      "50/50 [==============================] - 118s - loss: 0.0813 - acc: 0.9744 - val_loss: 0.4943 - val_acc: 0.8495\n",
      "Epoch 12/50\n",
      "49/50 [============================>.] - ETA: 1s - loss: 0.0702 - acc: 0.9810Epoch 00011: val_loss did not improve\n",
      "50/50 [==============================] - 118s - loss: 0.0694 - acc: 0.9808 - val_loss: 0.5360 - val_acc: 0.8475\n",
      "Epoch 13/50\n",
      "49/50 [============================>.] - ETA: 1s - loss: 0.0648 - acc: 0.9841Epoch 00012: val_loss did not improve\n",
      "50/50 [==============================] - 118s - loss: 0.0662 - acc: 0.9838 - val_loss: 0.6427 - val_acc: 0.8093\n",
      "Epoch 14/50\n",
      "49/50 [============================>.] - ETA: 1s - loss: 0.0443 - acc: 0.9847Epoch 00013: val_loss did not improve\n",
      "50/50 [==============================] - 119s - loss: 0.0441 - acc: 0.9844 - val_loss: 0.4817 - val_acc: 0.8582\n",
      "Epoch 15/50\n",
      "49/50 [============================>.] - ETA: 1s - loss: 0.0412 - acc: 0.9879Epoch 00014: val_loss did not improve\n",
      "50/50 [==============================] - 118s - loss: 0.0409 - acc: 0.9875 - val_loss: 0.6174 - val_acc: 0.8183\n",
      "Epoch 16/50\n",
      "49/50 [============================>.] - ETA: 1s - loss: 0.0414 - acc: 0.9866Epoch 00015: val_loss did not improve\n",
      "50/50 [==============================] - 118s - loss: 0.0407 - acc: 0.9869 - val_loss: 0.8223 - val_acc: 0.8305\n",
      "Epoch 17/50\n",
      "49/50 [============================>.] - ETA: 1s - loss: 0.0464 - acc: 0.9892Epoch 00016: val_loss did not improve\n",
      "50/50 [==============================] - 119s - loss: 0.0461 - acc: 0.9894 - val_loss: 0.5398 - val_acc: 0.8550\n",
      "Epoch 18/50\n",
      "49/50 [============================>.] - ETA: 1s - loss: 0.0452 - acc: 0.9872Epoch 00017: val_loss did not improve\n",
      "50/50 [==============================] - 118s - loss: 0.0472 - acc: 0.9862 - val_loss: 0.5348 - val_acc: 0.8550\n",
      "Epoch 19/50\n",
      "49/50 [============================>.] - ETA: 1s - loss: 0.0480 - acc: 0.9879Epoch 00018: val_loss did not improve\n",
      "50/50 [==============================] - 119s - loss: 0.0491 - acc: 0.9869 - val_loss: 0.5778 - val_acc: 0.8567\n",
      "Epoch 20/50\n",
      "49/50 [============================>.] - ETA: 1s - loss: 0.0470 - acc: 0.9872Epoch 00019: val_loss did not improve\n",
      "50/50 [==============================] - 116s - loss: 0.0464 - acc: 0.9875 - val_loss: 0.4950 - val_acc: 0.8340\n",
      "Epoch 21/50\n",
      "49/50 [============================>.] - ETA: 1s - loss: 0.0563 - acc: 0.9828Epoch 00020: val_loss did not improve\n",
      "50/50 [==============================] - 117s - loss: 0.0553 - acc: 0.9831 - val_loss: 0.6545 - val_acc: 0.8073\n",
      "Epoch 00020: early stopping\n"
     ]
    },
    {
     "data": {
      "text/plain": [
       "<keras.callbacks.History at 0x7f3462f5aa90>"
      ]
     },
     "execution_count": 29,
     "metadata": {},
     "output_type": "execute_result"
    }
   ],
   "source": [
    "model_resnet50_ft.fit_generator(train_aug_generator, \n",
    "                             50,\n",
    "                             num_epochs, \n",
    "                             validation_data=val_generator, \n",
    "                             validation_steps=val_generator.samples//batch_size+1,\n",
    "                             callbacks=[tensorboard_cb, ckpt_cb, stp_cb])"
   ]
  },
  {
   "cell_type": "code",
   "execution_count": 30,
   "metadata": {
    "collapsed": true
   },
   "outputs": [],
   "source": [
    "model_resnet50_ft.load_weights('resnet50_ft1_aug_weights.09-0.373.hdf5')"
   ]
  },
  {
   "cell_type": "code",
   "execution_count": 31,
   "metadata": {
    "collapsed": true
   },
   "outputs": [],
   "source": [
    "def write_predicts_gen(test_gen, batch_size, sub_fname):\n",
    "    y_pred = model_resnet50_ft.predict_generator(test_gen, \n",
    "                                              test_gen.samples//batch_size+1, \n",
    "                                              verbose=1)\n",
    "\n",
    "    y_pred_df = pd.DataFrame(y_pred, columns=classnames)\n",
    "    \n",
    "    img_name = []\n",
    "    for i, fname in enumerate(test_gen.filenames):\n",
    "        img_name.append(os.path.basename(fname))\n",
    "\n",
    "    img_name_df = pd.DataFrame(img_name, columns=['img'])\n",
    "    predictions = pd.concat([img_name_df, y_pred_df], axis=1)\n",
    "    print(predictions.shape)\n",
    "    predictions.to_csv(sub_fname, index=False)\n",
    "    print('submission file {} is ready.'.format(sub_fname))"
   ]
  },
  {
   "cell_type": "code",
   "execution_count": 32,
   "metadata": {
    "scrolled": true
   },
   "outputs": [
    {
     "name": "stdout",
     "output_type": "stream",
     "text": [
      "2492/2492 [==============================] - 1120s  \n",
      "(79726, 11)\n",
      "submission file submission_resnet50_ft1_aug.csv is ready.\n"
     ]
    }
   ],
   "source": [
    "write_predicts_gen(test_generator, batch_size, 'submission_resnet50_ft1_aug.csv')"
   ]
  },
  {
   "cell_type": "code",
   "execution_count": null,
   "metadata": {
    "collapsed": true
   },
   "outputs": [],
   "source": []
  }
 ],
 "metadata": {
  "kernelspec": {
   "display_name": "Python 3",
   "language": "python",
   "name": "python3"
  },
  "language_info": {
   "codemirror_mode": {
    "name": "ipython",
    "version": 3
   },
   "file_extension": ".py",
   "mimetype": "text/x-python",
   "name": "python",
   "nbconvert_exporter": "python",
   "pygments_lexer": "ipython3",
   "version": "3.6.2"
  }
 },
 "nbformat": 4,
 "nbformat_minor": 2
}
