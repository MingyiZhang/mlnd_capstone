{
 "cells": [
  {
   "cell_type": "code",
   "execution_count": 1,
   "metadata": {},
   "outputs": [
    {
     "name": "stderr",
     "output_type": "stream",
     "text": [
      "Using TensorFlow backend.\n"
     ]
    }
   ],
   "source": [
    "from keras.models import *\n",
    "from keras.layers import *\n",
    "from keras.applications import *\n",
    "from keras.preprocessing.image import *"
   ]
  },
  {
   "cell_type": "code",
   "execution_count": 2,
   "metadata": {
    "collapsed": true
   },
   "outputs": [],
   "source": [
    "import os"
   ]
  },
  {
   "cell_type": "code",
   "execution_count": 3,
   "metadata": {
    "collapsed": true
   },
   "outputs": [],
   "source": [
    "dataset_dir = '/dataset_dir'"
   ]
  },
  {
   "cell_type": "code",
   "execution_count": 4,
   "metadata": {
    "collapsed": true
   },
   "outputs": [],
   "source": [
    "train_dir = dataset_dir + '/train'\n",
    "test_dir = dataset_dir + '/test'"
   ]
  },
  {
   "cell_type": "code",
   "execution_count": 5,
   "metadata": {
    "collapsed": true
   },
   "outputs": [],
   "source": [
    "def write_tfv(MODEL, image_size, lambda_func=None):\n",
    "    width = image_size[0]\n",
    "    height = image_size[1]\n",
    "    input_tensor = Input((height, width, 3))\n",
    "    x = input_tensor\n",
    "    if lambda_func:\n",
    "        x = Lambda(lambda_func)(x)\n",
    "    \n",
    "    base_model = MODEL(input_tensor=x, weights='imagenet', include_top=False)\n",
    "    model = Model(base_model.input, GlobalAveragePooling2D()(base_model.output))\n",
    "    \n",
    "    print('\\n')\n",
    "    batch_size = 32\n",
    "    gen = ImageDataGenerator()\n",
    "    train_generator = gen.flow_from_directory(train_dir, image_size, shuffle=False, \n",
    "                                              batch_size=batch_size)\n",
    "    test_generator = gen.flow_from_directory(test_dir, image_size, shuffle=False, \n",
    "                                             batch_size=batch_size, class_mode=None)\n",
    "    \n",
    "    print('generating training transfer-value')\n",
    "    train = model.predict_generator(train_generator, train_generator.samples//batch_size+1)\n",
    "    print('training set shape: {}'.format(train.shape))\n",
    "    print('generating test transfer-value')\n",
    "    test = model.predict_generator(test_generator, test_generator.samples//batch_size+1)\n",
    "    print('test set shape: {}'.format(test.shape))\n",
    "    \n",
    "    filenames = train_generator.filenames\n",
    "    for i, fname in enumerate(train_generator.filenames):\n",
    "        filenames[i] = os.path.basename(fname).encode()\n",
    "    print('start writing h5 file.')\n",
    "    with h5py.File('tfv_{}.h5'.format(MODEL.__name__)) as h:\n",
    "        h.create_dataset('train', data=train)\n",
    "        h.create_dataset('test', data=test)\n",
    "        h.create_dataset('label', data=train_generator.classes)\n",
    "        h.create_dataset('train_filename', data=filenames)"
   ]
  },
  {
   "cell_type": "code",
   "execution_count": 40,
   "metadata": {
    "scrolled": false
   },
   "outputs": [
    {
     "name": "stdout",
     "output_type": "stream",
     "text": [
      "\n",
      "\n",
      "Found 22424 images belonging to 10 classes.\n",
      "Found 79726 images belonging to 1 classes.\n",
      "generating training transfer-value\n",
      "training set shape: (22424, 2048)\n",
      "generating test transfer-value\n",
      "test set shape: (79726, 2048)\n",
      "start writing h5 file.\n"
     ]
    }
   ],
   "source": [
    "write_tfv(ResNet50, (224, 224))"
   ]
  },
  {
   "cell_type": "code",
   "execution_count": 41,
   "metadata": {
    "scrolled": false
   },
   "outputs": [
    {
     "name": "stdout",
     "output_type": "stream",
     "text": [
      "\n",
      "\n",
      "Found 22424 images belonging to 10 classes.\n",
      "Found 79726 images belonging to 1 classes.\n",
      "generating training transfer-value\n",
      "training set shape: (22424, 2048)\n",
      "generating test transfer-value\n",
      "test set shape: (79726, 2048)\n",
      "start writing h5 file.\n"
     ]
    }
   ],
   "source": [
    "write_tfv(Xception, (299, 299), xception.preprocess_input)"
   ]
  },
  {
   "cell_type": "code",
   "execution_count": 6,
   "metadata": {},
   "outputs": [
    {
     "name": "stdout",
     "output_type": "stream",
     "text": [
      "Downloading data from https://github.com/fchollet/deep-learning-models/releases/download/v0.5/inception_v3_weights_tf_dim_ordering_tf_kernels_notop.h5\n",
      "87908352/87910968 [============================>.] - ETA: 0s\n",
      "\n",
      "Found 22424 images belonging to 10 classes.\n",
      "Found 79726 images belonging to 1 classes.\n",
      "generating training transfer-value\n",
      "training set shape: (22424, 2048)\n",
      "generating test transfer-value\n",
      "test set shape: (79726, 2048)\n",
      "start writing h5 file.\n"
     ]
    }
   ],
   "source": [
    "write_tfv(InceptionV3, (299, 299), inception_v3.preprocess_input)"
   ]
  },
  {
   "cell_type": "code",
   "execution_count": 7,
   "metadata": {},
   "outputs": [
    {
     "name": "stdout",
     "output_type": "stream",
     "text": [
      "Downloading data from https://github.com/fchollet/deep-learning-models/releases/download/v0.1/vgg16_weights_tf_dim_ordering_tf_kernels_notop.h5\n",
      "57548800/58889256 [============================>.] - ETA: 0s\n",
      "\n",
      "Found 22424 images belonging to 10 classes.\n",
      "Found 79726 images belonging to 1 classes.\n",
      "generating training transfer-value\n",
      "training set shape: (22424, 512)\n",
      "generating test transfer-value\n",
      "test set shape: (79726, 512)\n",
      "start writing h5 file.\n"
     ]
    }
   ],
   "source": [
    "write_tfv(VGG16, (224, 224))"
   ]
  },
  {
   "cell_type": "code",
   "execution_count": 8,
   "metadata": {},
   "outputs": [
    {
     "name": "stdout",
     "output_type": "stream",
     "text": [
      "Downloading data from https://github.com/fchollet/deep-learning-models/releases/download/v0.1/vgg19_weights_tf_dim_ordering_tf_kernels_notop.h5\n",
      "79265792/80134624 [============================>.] - ETA: 0s\n",
      "\n",
      "Found 22424 images belonging to 10 classes.\n",
      "Found 79726 images belonging to 1 classes.\n",
      "generating training transfer-value\n",
      "training set shape: (22424, 512)\n",
      "generating test transfer-value\n",
      "test set shape: (79726, 512)\n",
      "start writing h5 file.\n"
     ]
    }
   ],
   "source": [
    "write_tfv(VGG19, (224, 224))"
   ]
  },
  {
   "cell_type": "code",
   "execution_count": null,
   "metadata": {
    "collapsed": true
   },
   "outputs": [],
   "source": []
  }
 ],
 "metadata": {
  "kernelspec": {
   "display_name": "Python 3",
   "language": "python",
   "name": "python3"
  },
  "language_info": {
   "codemirror_mode": {
    "name": "ipython",
    "version": 3
   },
   "file_extension": ".py",
   "mimetype": "text/x-python",
   "name": "python",
   "nbconvert_exporter": "python",
   "pygments_lexer": "ipython3",
   "version": "3.6.2"
  }
 },
 "nbformat": 4,
 "nbformat_minor": 2
}
