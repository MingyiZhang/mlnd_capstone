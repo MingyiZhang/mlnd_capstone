{
 "cells": [
  {
   "cell_type": "markdown",
   "metadata": {},
   "source": [
    "### Load modules"
   ]
  },
  {
   "cell_type": "code",
   "execution_count": 1,
   "metadata": {},
   "outputs": [
    {
     "name": "stderr",
     "output_type": "stream",
     "text": [
      "Using TensorFlow backend.\n"
     ]
    }
   ],
   "source": [
    "from keras.models import *\n",
    "from keras.layers import *\n",
    "from keras.applications import *\n",
    "from keras.preprocessing.image import *"
   ]
  },
  {
   "cell_type": "code",
   "execution_count": 2,
   "metadata": {
    "collapsed": true
   },
   "outputs": [],
   "source": [
    "import os\n",
    "import numpy as np\n",
    "import pandas as pd\n",
    "\n",
    "from sklearn.utils import shuffle\n",
    "from sklearn.model_selection import KFold"
   ]
  },
  {
   "cell_type": "code",
   "execution_count": 3,
   "metadata": {
    "collapsed": true
   },
   "outputs": [],
   "source": [
    "import h5py"
   ]
  },
  {
   "cell_type": "markdown",
   "metadata": {},
   "source": [
    "### Load train image list"
   ]
  },
  {
   "cell_type": "code",
   "execution_count": 4,
   "metadata": {
    "collapsed": true
   },
   "outputs": [],
   "source": [
    "df = pd.read_csv('driver_imgs_list.csv')\n",
    "# drivers' names\n",
    "subjects = np.unique(df['subject'])\n",
    "# classes\n",
    "classnames = np.unique(df['classname'])"
   ]
  },
  {
   "cell_type": "markdown",
   "metadata": {},
   "source": [
    "### 5-fold train-val split in terms of drivers: "
   ]
  },
  {
   "cell_type": "code",
   "execution_count": 5,
   "metadata": {
    "collapsed": true
   },
   "outputs": [],
   "source": [
    "kf = KFold(n_splits=5, random_state=42, shuffle=True)\n",
    "subjects_t = []\n",
    "subjects_v = []\n",
    "for sub_t, sub_v in kf.split(subjects):\n",
    "    subjects_t.append(list(subjects[sub_t]))\n",
    "    subjects_v.append(list(subjects[sub_v]))"
   ]
  },
  {
   "cell_type": "markdown",
   "metadata": {},
   "source": [
    "split the train image list"
   ]
  },
  {
   "cell_type": "code",
   "execution_count": 6,
   "metadata": {
    "collapsed": true
   },
   "outputs": [],
   "source": [
    "def split_list(subjects_t, subjects_v):\n",
    "    df_t = df.loc[df.subject.isin(subjects_t)]\n",
    "    df_v = df.loc[df.subject.isin(subjects_v)]\n",
    "    return df_t, df_v"
   ]
  },
  {
   "cell_type": "markdown",
   "metadata": {},
   "source": [
    "### original dataset dir."
   ]
  },
  {
   "cell_type": "code",
   "execution_count": 7,
   "metadata": {
    "collapsed": true
   },
   "outputs": [],
   "source": [
    "dataset_dir = '/dataset_dir'\n",
    "# dataset_dir = '../../dataset_resized'\n",
    "\n",
    "train_raw_dir = dataset_dir + '/train'\n",
    "test_dir = dataset_dir + '/test'"
   ]
  },
  {
   "cell_type": "markdown",
   "metadata": {},
   "source": [
    "### make dirs of train and validation"
   ]
  },
  {
   "cell_type": "code",
   "execution_count": 8,
   "metadata": {
    "collapsed": true
   },
   "outputs": [],
   "source": [
    "import shutil\n",
    "from shutil import *"
   ]
  },
  {
   "cell_type": "code",
   "execution_count": 9,
   "metadata": {
    "collapsed": true
   },
   "outputs": [],
   "source": [
    "from tqdm import tqdm"
   ]
  },
  {
   "cell_type": "code",
   "execution_count": 10,
   "metadata": {
    "collapsed": true
   },
   "outputs": [],
   "source": [
    "def mkdir_train_val(fold):\n",
    "    if 'train'+str(fold) in os.listdir():\n",
    "        shutil.rmtree('train'+str(fold))\n",
    "    if 'validation'+str(fold) in os.listdir():\n",
    "        shutil.rmtree('validation'+str(fold))\n",
    "    for split_name in ['train', 'validation']:\n",
    "        for cls in classnames:\n",
    "            os.makedirs(split_name+str(fold) + '/' + cls)"
   ]
  },
  {
   "cell_type": "code",
   "execution_count": 11,
   "metadata": {
    "collapsed": true
   },
   "outputs": [],
   "source": [
    "def symlink_train_val(df_t, df_v, fold, train_dir):\n",
    "    mkdir_train_val(fold)\n",
    "    for i in tqdm(range(len(df_t))):\n",
    "        cls = df_t.iloc[i]['classname']\n",
    "        img = df_t.iloc[i]['img']\n",
    "        os.symlink(train_dir+'/'+cls+'/'+img, 'train'+str(fold)+'/'+cls+'/'+img)\n",
    "    for i in tqdm(range(len(df_v))):\n",
    "        cls = df_v.iloc[i]['classname']\n",
    "        img = df_v.iloc[i]['img']\n",
    "        os.symlink(train_dir+'/'+cls+'/'+img, 'validation'+str(fold)+'/'+cls+'/'+img)"
   ]
  },
  {
   "cell_type": "code",
   "execution_count": 12,
   "metadata": {
    "collapsed": true
   },
   "outputs": [],
   "source": [
    "def copy_train_val(df_t, df_v, fold, train_dir):\n",
    "    mkdir_train_val(fold)\n",
    "    for i in tqdm(range(len(df_t))):\n",
    "        cls = df_t.iloc[i]['classname']\n",
    "        img = df_t.iloc[i]['img']\n",
    "        copyfile(train_dir+'/'+cls+'/'+img, 'train'+str(fold)+'/'+cls+'/'+img)\n",
    "    for i in tqdm(range(len(df_v))):\n",
    "        cls = df_v.iloc[i]['classname']\n",
    "        img = df_v.iloc[i]['img']\n",
    "        copyfile(train_dir+'/'+cls+'/'+img, 'validation'+str(fold)+'/'+cls+'/'+img)"
   ]
  },
  {
   "cell_type": "code",
   "execution_count": 13,
   "metadata": {},
   "outputs": [
    {
     "name": "stderr",
     "output_type": "stream",
     "text": [
      "100%|██████████| 18418/18418 [03:16<00:00, 98.74it/s] \n",
      "100%|██████████| 4006/4006 [00:43<00:00, 92.72it/s] \n"
     ]
    }
   ],
   "source": [
    "for fold in range(1,2):\n",
    "    df_t, df_v = split_list(subjects_t[fold], subjects_v[fold])\n",
    "    symlink_train_val(df_t, df_v, fold, train_raw_dir)"
   ]
  },
  {
   "cell_type": "code",
   "execution_count": 14,
   "metadata": {
    "collapsed": true
   },
   "outputs": [],
   "source": [
    "train_dir = 'train1'\n",
    "val_dir = 'validation1'"
   ]
  },
  {
   "cell_type": "markdown",
   "metadata": {},
   "source": [
    "### preprocessing images"
   ]
  },
  {
   "cell_type": "code",
   "execution_count": 15,
   "metadata": {
    "collapsed": true
   },
   "outputs": [],
   "source": [
    "# preprocess function of VGG and ResNet50\n",
    "def preprocess_fn(x):\n",
    "    # RGB >> BGR\n",
    "    x = img_to_array(x)\n",
    "    x = x[:, :, ::-1]\n",
    "    # Zero-center by mean pixel\n",
    "    x[:, :, 0] -= 103.939\n",
    "    x[:, :, 1] -= 116.779\n",
    "    x[:, :, 2] -= 123.68\n",
    "    return x"
   ]
  },
  {
   "cell_type": "code",
   "execution_count": 16,
   "metadata": {
    "collapsed": true
   },
   "outputs": [],
   "source": [
    "# default image size of VGG and ResNet50\n",
    "img_width, img_height = 224, 224"
   ]
  },
  {
   "cell_type": "code",
   "execution_count": 17,
   "metadata": {
    "collapsed": true
   },
   "outputs": [],
   "source": [
    "batch_size = 32"
   ]
  },
  {
   "cell_type": "code",
   "execution_count": 18,
   "metadata": {
    "collapsed": true
   },
   "outputs": [],
   "source": [
    "data_gen = ImageDataGenerator(preprocessing_function=preprocess_fn)"
   ]
  },
  {
   "cell_type": "markdown",
   "metadata": {},
   "source": [
    "original generator"
   ]
  },
  {
   "cell_type": "code",
   "execution_count": 22,
   "metadata": {
    "scrolled": true
   },
   "outputs": [
    {
     "name": "stdout",
     "output_type": "stream",
     "text": [
      "Found 17446 images belonging to 10 classes.\n"
     ]
    }
   ],
   "source": [
    "train_generator = data_gen.flow_from_directory(train_dir, \n",
    "                                               target_size=(img_height, img_width), \n",
    "                                               class_mode='categorical',\n",
    "                                               batch_size=batch_size)"
   ]
  },
  {
   "cell_type": "code",
   "execution_count": 19,
   "metadata": {},
   "outputs": [
    {
     "name": "stdout",
     "output_type": "stream",
     "text": [
      "Found 4006 images belonging to 10 classes.\n"
     ]
    }
   ],
   "source": [
    "val_generator = data_gen.flow_from_directory(val_dir, \n",
    "                                             target_size=(img_height, img_width), \n",
    "                                             class_mode='categorical',\n",
    "                                             batch_size=batch_size)"
   ]
  },
  {
   "cell_type": "code",
   "execution_count": 31,
   "metadata": {},
   "outputs": [
    {
     "name": "stdout",
     "output_type": "stream",
     "text": [
      "Found 79726 images belonging to 1 classes.\n"
     ]
    }
   ],
   "source": [
    "test_generator = data_gen.flow_from_directory(test_dir, \n",
    "                                              target_size=(img_height, img_width), \n",
    "                                              class_mode=None,\n",
    "                                              shuffle=False,\n",
    "                                              batch_size=batch_size)"
   ]
  },
  {
   "cell_type": "markdown",
   "metadata": {},
   "source": [
    "transfer generator"
   ]
  },
  {
   "cell_type": "code",
   "execution_count": null,
   "metadata": {
    "collapsed": true
   },
   "outputs": [],
   "source": [
    "train_tf_generator = data_gen.flow_from_directory(train_dir, \n",
    "                                                  target_size=(img_height, img_width), \n",
    "                                                  class_mode='categorical',\n",
    "                                                  shuffle=False,\n",
    "                                                  batch_size=batch_size)"
   ]
  },
  {
   "cell_type": "code",
   "execution_count": null,
   "metadata": {
    "collapsed": true
   },
   "outputs": [],
   "source": [
    "val_tf_generator = data_gen.flow_from_directory(val_dir,\n",
    "                                                target_size=(img_height, img_width), \n",
    "                                                class_mode='categorical',\n",
    "                                                shuffle=False,\n",
    "                                                batch_size=batch_size)"
   ]
  },
  {
   "cell_type": "markdown",
   "metadata": {},
   "source": [
    "augment generator"
   ]
  },
  {
   "cell_type": "code",
   "execution_count": 20,
   "metadata": {
    "collapsed": true
   },
   "outputs": [],
   "source": [
    "data_gen_aug = ImageDataGenerator(rotation_range=30.,\n",
    "                                  width_shift_range=0.1,\n",
    "                                  height_shift_range=0.1,\n",
    "                                  preprocessing_function=preprocess_fn)"
   ]
  },
  {
   "cell_type": "code",
   "execution_count": 21,
   "metadata": {},
   "outputs": [
    {
     "name": "stdout",
     "output_type": "stream",
     "text": [
      "Found 18418 images belonging to 10 classes.\n"
     ]
    }
   ],
   "source": [
    "train_aug_generator = data_gen_aug.flow_from_directory(train_dir, \n",
    "                                                       target_size=(img_height, img_width), \n",
    "                                                       class_mode='categorical',\n",
    "                                                       batch_size=batch_size)"
   ]
  },
  {
   "cell_type": "code",
   "execution_count": 42,
   "metadata": {},
   "outputs": [
    {
     "name": "stdout",
     "output_type": "stream",
     "text": [
      "Found 4978 images belonging to 10 classes.\n"
     ]
    }
   ],
   "source": [
    "val_aug_generator = data_gen_aug.flow_from_directory(val_dir, \n",
    "                                                     target_size=(img_height, img_width), \n",
    "                                                     class_mode='categorical',\n",
    "                                                     batch_size=batch_size)"
   ]
  },
  {
   "cell_type": "code",
   "execution_count": 44,
   "metadata": {},
   "outputs": [
    {
     "name": "stdout",
     "output_type": "stream",
     "text": [
      "Found 79726 images belonging to 1 classes.\n"
     ]
    }
   ],
   "source": [
    "test_aug_generator = data_gen_aug.flow_from_directory(test_dir, \n",
    "                                                      target_size=(img_height, img_width), \n",
    "                                                      class_mode=None,\n",
    "                                                      shuffle=False,\n",
    "                                                      batch_size=batch_size)"
   ]
  },
  {
   "cell_type": "markdown",
   "metadata": {},
   "source": [
    "### Fine-tuning VGG16"
   ]
  },
  {
   "cell_type": "code",
   "execution_count": 22,
   "metadata": {
    "collapsed": true
   },
   "outputs": [],
   "source": [
    "from keras.optimizers import *\n",
    "from keras.callbacks import *"
   ]
  },
  {
   "cell_type": "code",
   "execution_count": 23,
   "metadata": {
    "collapsed": true
   },
   "outputs": [],
   "source": [
    "adam = Adam(lr=1e-4, beta_1=0.9, beta_2=0.999, epsilon=1e-08, decay=1e-6)\n",
    "sgd = SGD(lr=1e-4, decay=1e-6, momentum=0.9, nesterov=True)"
   ]
  },
  {
   "cell_type": "code",
   "execution_count": 24,
   "metadata": {
    "collapsed": true
   },
   "outputs": [],
   "source": [
    "def model_build(MODEL, optimizer, layer_num_fix, top_dropout=False):\n",
    "    base_model = MODEL(weights='imagenet', include_top=True)\n",
    "    if top_dropout:\n",
    "        x = Dropout(0.4, name='top_dropout')(base_model.layers[-2].output)\n",
    "        x = Dense(10, activation='softmax', name='top_prediction')(x)\n",
    "    else:\n",
    "        x = Dense(10, activation='softmax', name='top_prediction')(base_model.layers[-2].output)\n",
    "        \n",
    "    model_ft = Model(base_model.input, x, name=MODEL.__name__)\n",
    "    model_ft.compile(optimizer=optimizer, \n",
    "                     loss='categorical_crossentropy', \n",
    "                     metrics=['accuracy'])\n",
    "    for layer in model_ft.layers[:layer_num_fix]:\n",
    "        layer.trainable = False\n",
    "    return model_ft"
   ]
  },
  {
   "cell_type": "code",
   "execution_count": 25,
   "metadata": {},
   "outputs": [
    {
     "name": "stdout",
     "output_type": "stream",
     "text": [
      "Downloading data from https://github.com/fchollet/deep-learning-models/releases/download/v0.1/vgg16_weights_tf_dim_ordering_tf_kernels.h5\n",
      "553353216/553467096 [============================>.] - ETA: 0s"
     ]
    }
   ],
   "source": [
    "model_vgg16_ft = model_build(VGG16, adam, 10, False)"
   ]
  },
  {
   "cell_type": "code",
   "execution_count": 26,
   "metadata": {
    "collapsed": true,
    "scrolled": true
   },
   "outputs": [],
   "source": [
    "tensorboard_cb = TensorBoard(log_dir='log/vgg16', histogram_freq=0, batch_size=batch_size, write_graph=True, write_images=True)\n",
    "ckpt_cb = ModelCheckpoint('vgg16_ft1_aug_weights.{epoch:02d}-{val_loss:.3f}.hdf5', monitor='val_loss', verbose=1, save_best_only=True)"
   ]
  },
  {
   "cell_type": "code",
   "execution_count": 27,
   "metadata": {
    "collapsed": true
   },
   "outputs": [],
   "source": [
    "num_epochs = 50"
   ]
  },
  {
   "cell_type": "code",
   "execution_count": 28,
   "metadata": {
    "scrolled": false
   },
   "outputs": [
    {
     "name": "stdout",
     "output_type": "stream",
     "text": [
      "Epoch 1/50\n",
      "49/50 [============================>.] - ETA: 2s - loss: 2.4540 - acc: 0.1084Epoch 00000: val_loss improved from inf to 2.32938, saving model to vgg16_ft1_aug_weights.00-2.329.hdf5\n",
      "50/50 [==============================] - 236s - loss: 2.4507 - acc: 0.1087 - val_loss: 2.3294 - val_acc: 0.1141\n",
      "Epoch 2/50\n",
      "49/50 [============================>.] - ETA: 1s - loss: 2.2940 - acc: 0.1282Epoch 00001: val_loss improved from 2.32938 to 2.24080, saving model to vgg16_ft1_aug_weights.01-2.241.hdf5\n",
      "50/50 [==============================] - 181s - loss: 2.2942 - acc: 0.1269 - val_loss: 2.2408 - val_acc: 0.1670\n",
      "Epoch 3/50\n",
      "49/50 [============================>.] - ETA: 1s - loss: 2.1367 - acc: 0.2156Epoch 00002: val_loss improved from 2.24080 to 1.95077, saving model to vgg16_ft1_aug_weights.02-1.951.hdf5\n",
      "50/50 [==============================] - 191s - loss: 2.1339 - acc: 0.2150 - val_loss: 1.9508 - val_acc: 0.3305\n",
      "Epoch 4/50\n",
      "49/50 [============================>.] - ETA: 1s - loss: 1.7191 - acc: 0.3259Epoch 00003: val_loss improved from 1.95077 to 1.44688, saving model to vgg16_ft1_aug_weights.03-1.447.hdf5\n",
      "50/50 [==============================] - 182s - loss: 1.7154 - acc: 0.3269 - val_loss: 1.4469 - val_acc: 0.4299\n",
      "Epoch 5/50\n",
      "49/50 [============================>.] - ETA: 1s - loss: 1.2176 - acc: 0.5223Epoch 00004: val_loss improved from 1.44688 to 1.12945, saving model to vgg16_ft1_aug_weights.04-1.129.hdf5\n",
      "50/50 [==============================] - 182s - loss: 1.2214 - acc: 0.5225 - val_loss: 1.1295 - val_acc: 0.5971\n",
      "Epoch 6/50\n",
      "49/50 [============================>.] - ETA: 1s - loss: 0.9696 - acc: 0.6365Epoch 00005: val_loss did not improve\n",
      "50/50 [==============================] - 172s - loss: 0.9703 - acc: 0.6369 - val_loss: 1.1326 - val_acc: 0.6680\n",
      "Epoch 7/50\n",
      "49/50 [============================>.] - ETA: 1s - loss: 0.7311 - acc: 0.7385Epoch 00006: val_loss did not improve\n",
      "50/50 [==============================] - 168s - loss: 0.7253 - acc: 0.7388 - val_loss: 1.2042 - val_acc: 0.6390\n",
      "Epoch 8/50\n",
      "49/50 [============================>.] - ETA: 1s - loss: 0.4040 - acc: 0.8603Epoch 00007: val_loss improved from 1.12945 to 0.97190, saving model to vgg16_ft1_aug_weights.07-0.972.hdf5\n",
      "50/50 [==============================] - 181s - loss: 0.4012 - acc: 0.8600 - val_loss: 0.9719 - val_acc: 0.7019\n",
      "Epoch 9/50\n",
      "49/50 [============================>.] - ETA: 1s - loss: 0.3510 - acc: 0.8929Epoch 00008: val_loss improved from 0.97190 to 0.63333, saving model to vgg16_ft1_aug_weights.08-0.633.hdf5\n",
      "50/50 [==============================] - 180s - loss: 0.3500 - acc: 0.8937 - val_loss: 0.6333 - val_acc: 0.8220\n",
      "Epoch 10/50\n",
      "49/50 [============================>.] - ETA: 1s - loss: 0.2511 - acc: 0.9184Epoch 00009: val_loss improved from 0.63333 to 0.51415, saving model to vgg16_ft1_aug_weights.09-0.514.hdf5\n",
      "50/50 [==============================] - 181s - loss: 0.2493 - acc: 0.9188 - val_loss: 0.5142 - val_acc: 0.8662\n",
      "Epoch 11/50\n",
      "49/50 [============================>.] - ETA: 1s - loss: 0.2362 - acc: 0.9260Epoch 00010: val_loss did not improve\n",
      "50/50 [==============================] - 169s - loss: 0.2333 - acc: 0.9269 - val_loss: 0.8877 - val_acc: 0.7853\n",
      "Epoch 12/50\n",
      "49/50 [============================>.] - ETA: 1s - loss: 0.2375 - acc: 0.9260Epoch 00011: val_loss improved from 0.51415 to 0.49959, saving model to vgg16_ft1_aug_weights.11-0.500.hdf5\n",
      "50/50 [==============================] - 185s - loss: 0.2395 - acc: 0.9256 - val_loss: 0.4996 - val_acc: 0.8729\n",
      "Epoch 13/50\n",
      "49/50 [============================>.] - ETA: 1s - loss: 0.2207 - acc: 0.9394Epoch 00012: val_loss did not improve\n",
      "50/50 [==============================] - 170s - loss: 0.2219 - acc: 0.9400 - val_loss: 0.7462 - val_acc: 0.8075\n",
      "Epoch 14/50\n",
      "49/50 [============================>.] - ETA: 1s - loss: 0.2145 - acc: 0.9388Epoch 00013: val_loss did not improve\n",
      "50/50 [==============================] - 172s - loss: 0.2123 - acc: 0.9394 - val_loss: 0.5232 - val_acc: 0.8337\n",
      "Epoch 15/50\n",
      "49/50 [============================>.] - ETA: 1s - loss: 0.1330 - acc: 0.9598Epoch 00014: val_loss did not improve\n",
      "50/50 [==============================] - 167s - loss: 0.1338 - acc: 0.9600 - val_loss: 0.5975 - val_acc: 0.8487\n",
      "Epoch 16/50\n",
      "49/50 [============================>.] - ETA: 1s - loss: 0.1746 - acc: 0.9483Epoch 00015: val_loss did not improve\n",
      "50/50 [==============================] - 168s - loss: 0.1757 - acc: 0.9481 - val_loss: 0.9745 - val_acc: 0.7114\n",
      "Epoch 17/50\n",
      "49/50 [============================>.] - ETA: 1s - loss: 0.1855 - acc: 0.9439Epoch 00016: val_loss improved from 0.49959 to 0.48903, saving model to vgg16_ft1_aug_weights.16-0.489.hdf5\n",
      "50/50 [==============================] - 179s - loss: 0.1841 - acc: 0.9444 - val_loss: 0.4890 - val_acc: 0.8702\n",
      "Epoch 18/50\n",
      "49/50 [============================>.] - ETA: 1s - loss: 0.1434 - acc: 0.9617Epoch 00017: val_loss did not improve\n",
      "50/50 [==============================] - 167s - loss: 0.1448 - acc: 0.9613 - val_loss: 0.6624 - val_acc: 0.8425\n",
      "Epoch 19/50\n",
      "49/50 [============================>.] - ETA: 1s - loss: 0.1592 - acc: 0.9464Epoch 00018: val_loss did not improve\n",
      "50/50 [==============================] - 167s - loss: 0.1561 - acc: 0.9475 - val_loss: 0.6523 - val_acc: 0.8782\n",
      "Epoch 20/50\n",
      "49/50 [============================>.] - ETA: 1s - loss: 0.1389 - acc: 0.9566Epoch 00019: val_loss did not improve\n",
      "50/50 [==============================] - 167s - loss: 0.1396 - acc: 0.9569 - val_loss: 0.7735 - val_acc: 0.7534\n",
      "Epoch 21/50\n",
      "49/50 [============================>.] - ETA: 1s - loss: 0.1291 - acc: 0.9605Epoch 00020: val_loss did not improve\n",
      "50/50 [==============================] - 167s - loss: 0.1293 - acc: 0.9606 - val_loss: 0.6176 - val_acc: 0.8592\n",
      "Epoch 22/50\n",
      "49/50 [============================>.] - ETA: 1s - loss: 0.1178 - acc: 0.9592Epoch 00021: val_loss did not improve\n",
      "50/50 [==============================] - 166s - loss: 0.1167 - acc: 0.9594 - val_loss: 0.5859 - val_acc: 0.8305\n",
      "Epoch 23/50\n",
      "49/50 [============================>.] - ETA: 1s - loss: 0.1433 - acc: 0.9592Epoch 00022: val_loss did not improve\n",
      "50/50 [==============================] - 166s - loss: 0.1407 - acc: 0.9600 - val_loss: 0.6656 - val_acc: 0.8285\n",
      "Epoch 24/50\n",
      "49/50 [============================>.] - ETA: 1s - loss: 0.0991 - acc: 0.9714Epoch 00023: val_loss improved from 0.48903 to 0.45137, saving model to vgg16_ft1_aug_weights.23-0.451.hdf5\n",
      "50/50 [==============================] - 178s - loss: 0.0974 - acc: 0.9720 - val_loss: 0.4514 - val_acc: 0.8627\n",
      "Epoch 25/50\n",
      "49/50 [============================>.] - ETA: 1s - loss: 0.0895 - acc: 0.9713Epoch 00024: val_loss did not improve\n",
      "50/50 [==============================] - 167s - loss: 0.0895 - acc: 0.9712 - val_loss: 0.6737 - val_acc: 0.8243\n",
      "Epoch 26/50\n",
      "49/50 [============================>.] - ETA: 1s - loss: 0.0888 - acc: 0.9726Epoch 00025: val_loss did not improve\n",
      "50/50 [==============================] - 166s - loss: 0.0871 - acc: 0.9731 - val_loss: 0.5449 - val_acc: 0.8630\n",
      "Epoch 27/50\n",
      "49/50 [============================>.] - ETA: 1s - loss: 0.1101 - acc: 0.9688Epoch 00026: val_loss improved from 0.45137 to 0.42469, saving model to vgg16_ft1_aug_weights.26-0.425.hdf5\n",
      "50/50 [==============================] - 178s - loss: 0.1110 - acc: 0.9681 - val_loss: 0.4247 - val_acc: 0.8987\n",
      "Epoch 28/50\n",
      "49/50 [============================>.] - ETA: 1s - loss: 0.0957 - acc: 0.9726Epoch 00027: val_loss did not improve\n",
      "50/50 [==============================] - 168s - loss: 0.0988 - acc: 0.9725 - val_loss: 0.6655 - val_acc: 0.8310\n",
      "Epoch 29/50\n",
      "49/50 [============================>.] - ETA: 1s - loss: 0.1167 - acc: 0.9656Epoch 00028: val_loss did not improve\n",
      "50/50 [==============================] - 167s - loss: 0.1184 - acc: 0.9650 - val_loss: 0.5655 - val_acc: 0.8537\n",
      "Epoch 30/50\n",
      "49/50 [============================>.] - ETA: 1s - loss: 0.1274 - acc: 0.9605Epoch 00029: val_loss did not improve\n",
      "50/50 [==============================] - 166s - loss: 0.1256 - acc: 0.9606 - val_loss: 0.6089 - val_acc: 0.8630\n",
      "Epoch 31/50\n",
      "49/50 [============================>.] - ETA: 1s - loss: 0.1084 - acc: 0.9656Epoch 00030: val_loss did not improve\n",
      "50/50 [==============================] - 167s - loss: 0.1068 - acc: 0.9663 - val_loss: 0.4496 - val_acc: 0.8610\n",
      "Epoch 32/50\n",
      "49/50 [============================>.] - ETA: 1s - loss: 0.0876 - acc: 0.9751Epoch 00031: val_loss did not improve\n",
      "50/50 [==============================] - 166s - loss: 0.0884 - acc: 0.9744 - val_loss: 0.5665 - val_acc: 0.8627\n",
      "Epoch 33/50\n",
      "49/50 [============================>.] - ETA: 1s - loss: 0.0853 - acc: 0.9777Epoch 00032: val_loss did not improve\n",
      "50/50 [==============================] - 166s - loss: 0.0837 - acc: 0.9781 - val_loss: 0.5514 - val_acc: 0.8427\n",
      "Epoch 34/50\n",
      "49/50 [============================>.] - ETA: 1s - loss: 0.1014 - acc: 0.9739Epoch 00033: val_loss did not improve\n",
      "50/50 [==============================] - 165s - loss: 0.0995 - acc: 0.9744 - val_loss: 0.9239 - val_acc: 0.7791\n",
      "Epoch 35/50\n",
      "49/50 [============================>.] - ETA: 1s - loss: 0.0926 - acc: 0.9759Epoch 00034: val_loss did not improve\n",
      "50/50 [==============================] - 166s - loss: 0.0941 - acc: 0.9745 - val_loss: 0.5993 - val_acc: 0.8270\n",
      "Epoch 36/50\n",
      "49/50 [============================>.] - ETA: 1s - loss: 0.0768 - acc: 0.9707Epoch 00035: val_loss did not improve\n",
      "50/50 [==============================] - 166s - loss: 0.0782 - acc: 0.9700 - val_loss: 0.5511 - val_acc: 0.8919\n",
      "Epoch 37/50\n",
      "49/50 [============================>.] - ETA: 1s - loss: 0.1014 - acc: 0.9707Epoch 00036: val_loss did not improve\n",
      "50/50 [==============================] - 165s - loss: 0.0997 - acc: 0.9712 - val_loss: 0.4936 - val_acc: 0.8672\n",
      "Epoch 38/50\n",
      "49/50 [============================>.] - ETA: 1s - loss: 0.0534 - acc: 0.9847Epoch 00037: val_loss did not improve\n",
      "50/50 [==============================] - 165s - loss: 0.0550 - acc: 0.9844 - val_loss: 0.6088 - val_acc: 0.8655\n",
      "Epoch 39/50\n",
      "49/50 [============================>.] - ETA: 1s - loss: 0.0822 - acc: 0.9770Epoch 00038: val_loss did not improve\n",
      "50/50 [==============================] - 165s - loss: 0.0810 - acc: 0.9775 - val_loss: 0.5644 - val_acc: 0.8834\n",
      "Epoch 40/50\n",
      "49/50 [============================>.] - ETA: 1s - loss: 0.0772 - acc: 0.9777Epoch 00039: val_loss did not improve\n",
      "50/50 [==============================] - 166s - loss: 0.0839 - acc: 0.9769 - val_loss: 0.4635 - val_acc: 0.8769\n",
      "Epoch 41/50\n",
      "49/50 [============================>.] - ETA: 1s - loss: 0.0947 - acc: 0.9688Epoch 00040: val_loss did not improve\n",
      "50/50 [==============================] - 166s - loss: 0.0944 - acc: 0.9688 - val_loss: 0.6385 - val_acc: 0.8325\n",
      "Epoch 42/50\n",
      "49/50 [============================>.] - ETA: 1s - loss: 0.1120 - acc: 0.9688Epoch 00041: val_loss did not improve\n",
      "50/50 [==============================] - 167s - loss: 0.1105 - acc: 0.9694 - val_loss: 0.4770 - val_acc: 0.8889\n",
      "Epoch 43/50\n",
      "49/50 [============================>.] - ETA: 1s - loss: 0.0786 - acc: 0.9764Epoch 00042: val_loss did not improve\n",
      "50/50 [==============================] - 165s - loss: 0.0816 - acc: 0.9762 - val_loss: 0.5685 - val_acc: 0.8929\n",
      "Epoch 44/50\n",
      "49/50 [============================>.] - ETA: 1s - loss: 0.0683 - acc: 0.9828Epoch 00043: val_loss improved from 0.42469 to 0.37955, saving model to vgg16_ft1_aug_weights.43-0.380.hdf5\n",
      "50/50 [==============================] - 177s - loss: 0.0687 - acc: 0.9819 - val_loss: 0.3795 - val_acc: 0.9186\n",
      "Epoch 45/50\n",
      "49/50 [============================>.] - ETA: 1s - loss: 0.0762 - acc: 0.9809Epoch 00044: val_loss did not improve\n",
      "50/50 [==============================] - 164s - loss: 0.0753 - acc: 0.9813 - val_loss: 0.6889 - val_acc: 0.8530\n",
      "Epoch 46/50\n",
      "49/50 [============================>.] - ETA: 1s - loss: 0.0572 - acc: 0.9834Epoch 00045: val_loss did not improve\n",
      "50/50 [==============================] - 166s - loss: 0.0568 - acc: 0.9831 - val_loss: 0.5704 - val_acc: 0.8660\n",
      "Epoch 47/50\n",
      "49/50 [============================>.] - ETA: 1s - loss: 0.0684 - acc: 0.9834Epoch 00046: val_loss did not improve\n",
      "50/50 [==============================] - 169s - loss: 0.0672 - acc: 0.9837 - val_loss: 0.5068 - val_acc: 0.9011\n",
      "Epoch 48/50\n",
      "49/50 [============================>.] - ETA: 1s - loss: 0.0608 - acc: 0.9841Epoch 00047: val_loss did not improve\n",
      "50/50 [==============================] - 165s - loss: 0.0609 - acc: 0.9838 - val_loss: 0.7148 - val_acc: 0.8140\n",
      "Epoch 49/50\n",
      "49/50 [============================>.] - ETA: 1s - loss: 0.0663 - acc: 0.9809Epoch 00048: val_loss did not improve\n",
      "50/50 [==============================] - 167s - loss: 0.0665 - acc: 0.9806 - val_loss: 0.5142 - val_acc: 0.8929\n",
      "Epoch 50/50\n",
      "49/50 [============================>.] - ETA: 1s - loss: 0.0515 - acc: 0.9879Epoch 00049: val_loss did not improve\n",
      "50/50 [==============================] - 165s - loss: 0.0516 - acc: 0.9875 - val_loss: 0.4179 - val_acc: 0.9051\n"
     ]
    },
    {
     "data": {
      "text/plain": [
       "<keras.callbacks.History at 0x7fafd2d15198>"
      ]
     },
     "execution_count": 28,
     "metadata": {},
     "output_type": "execute_result"
    }
   ],
   "source": [
    "model_vgg16_ft.fit_generator(train_aug_generator, \n",
    "                             50,\n",
    "                             num_epochs, \n",
    "                             validation_data=val_generator, \n",
    "                             validation_steps=val_generator.samples//batch_size+1,\n",
    "                             callbacks=[tensorboard_cb, ckpt_cb])"
   ]
  },
  {
   "cell_type": "code",
   "execution_count": 30,
   "metadata": {
    "collapsed": true
   },
   "outputs": [],
   "source": [
    "model_vgg16_ft.load_weights('vgg16_ft1_aug_weights.43-0.380.hdf5')"
   ]
  },
  {
   "cell_type": "code",
   "execution_count": 29,
   "metadata": {
    "collapsed": true
   },
   "outputs": [],
   "source": [
    "def write_predicts_gen(test_gen, batch_size, sub_fname):\n",
    "    y_pred = model_vgg16_ft.predict_generator(test_gen, \n",
    "                                              test_gen.samples//batch_size+1, \n",
    "                                              verbose=1)\n",
    "\n",
    "    y_pred_df = pd.DataFrame(y_pred, columns=classnames)\n",
    "    \n",
    "    img_name = []\n",
    "    for i, fname in enumerate(test_gen.filenames):\n",
    "        img_name.append(os.path.basename(fname))\n",
    "\n",
    "    img_name_df = pd.DataFrame(img_name, columns=['img'])\n",
    "    predictions = pd.concat([img_name_df, y_pred_df], axis=1)\n",
    "    print(predictions.shape)\n",
    "    predictions.to_csv(sub_fname, index=False)\n",
    "    print('submission file {} is ready.'.format(sub_fname))"
   ]
  },
  {
   "cell_type": "code",
   "execution_count": 32,
   "metadata": {
    "scrolled": true
   },
   "outputs": [
    {
     "name": "stdout",
     "output_type": "stream",
     "text": [
      "2492/2492 [==============================] - 2123s  \n",
      "(79726, 11)\n",
      "submission file submission_vgg16_ft1_aug.csv is ready.\n"
     ]
    }
   ],
   "source": [
    "write_predicts_gen(test_generator, batch_size, 'submission_vgg16_ft1_aug.csv')"
   ]
  },
  {
   "cell_type": "code",
   "execution_count": null,
   "metadata": {
    "collapsed": true
   },
   "outputs": [],
   "source": []
  }
 ],
 "metadata": {
  "kernelspec": {
   "display_name": "Python 3",
   "language": "python",
   "name": "python3"
  },
  "language_info": {
   "codemirror_mode": {
    "name": "ipython",
    "version": 3
   },
   "file_extension": ".py",
   "mimetype": "text/x-python",
   "name": "python",
   "nbconvert_exporter": "python",
   "pygments_lexer": "ipython3",
   "version": "3.6.2"
  }
 },
 "nbformat": 4,
 "nbformat_minor": 2
}
