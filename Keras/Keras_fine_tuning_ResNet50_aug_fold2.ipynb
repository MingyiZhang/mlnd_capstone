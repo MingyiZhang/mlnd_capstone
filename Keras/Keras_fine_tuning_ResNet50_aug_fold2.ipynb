{
 "cells": [
  {
   "cell_type": "markdown",
   "metadata": {},
   "source": [
    "### Load modules"
   ]
  },
  {
   "cell_type": "code",
   "execution_count": 1,
   "metadata": {},
   "outputs": [
    {
     "name": "stderr",
     "output_type": "stream",
     "text": [
      "Using TensorFlow backend.\n"
     ]
    }
   ],
   "source": [
    "from keras.models import *\n",
    "from keras.layers import *\n",
    "from keras.applications import *\n",
    "from keras.preprocessing.image import *"
   ]
  },
  {
   "cell_type": "code",
   "execution_count": 2,
   "metadata": {
    "collapsed": true
   },
   "outputs": [],
   "source": [
    "import os\n",
    "import numpy as np\n",
    "import pandas as pd\n",
    "\n",
    "from sklearn.utils import shuffle\n",
    "from sklearn.model_selection import KFold"
   ]
  },
  {
   "cell_type": "code",
   "execution_count": 3,
   "metadata": {
    "collapsed": true
   },
   "outputs": [],
   "source": [
    "import h5py"
   ]
  },
  {
   "cell_type": "markdown",
   "metadata": {},
   "source": [
    "### Load train image list"
   ]
  },
  {
   "cell_type": "code",
   "execution_count": 4,
   "metadata": {
    "collapsed": true
   },
   "outputs": [],
   "source": [
    "df = pd.read_csv('driver_imgs_list.csv')\n",
    "# drivers' names\n",
    "subjects = np.unique(df['subject'])\n",
    "# classes\n",
    "classnames = np.unique(df['classname'])"
   ]
  },
  {
   "cell_type": "markdown",
   "metadata": {},
   "source": [
    "### 5-fold train-val split in terms of drivers: "
   ]
  },
  {
   "cell_type": "code",
   "execution_count": 5,
   "metadata": {
    "collapsed": true
   },
   "outputs": [],
   "source": [
    "kf = KFold(n_splits=5, random_state=42, shuffle=True)\n",
    "subjects_t = []\n",
    "subjects_v = []\n",
    "for sub_t, sub_v in kf.split(subjects):\n",
    "    subjects_t.append(list(subjects[sub_t]))\n",
    "    subjects_v.append(list(subjects[sub_v]))"
   ]
  },
  {
   "cell_type": "markdown",
   "metadata": {},
   "source": [
    "split the train image list"
   ]
  },
  {
   "cell_type": "code",
   "execution_count": 6,
   "metadata": {
    "collapsed": true
   },
   "outputs": [],
   "source": [
    "def split_list(subjects_t, subjects_v):\n",
    "    df_t = df.loc[df.subject.isin(subjects_t)]\n",
    "    df_v = df.loc[df.subject.isin(subjects_v)]\n",
    "    return df_t, df_v"
   ]
  },
  {
   "cell_type": "markdown",
   "metadata": {},
   "source": [
    "### original dataset dir."
   ]
  },
  {
   "cell_type": "code",
   "execution_count": 7,
   "metadata": {
    "collapsed": true
   },
   "outputs": [],
   "source": [
    "dataset_dir = '/dataset_dir'\n",
    "# dataset_dir = '../../dataset_resized'\n",
    "\n",
    "train_raw_dir = dataset_dir + '/train'\n",
    "test_dir = dataset_dir + '/test'"
   ]
  },
  {
   "cell_type": "markdown",
   "metadata": {},
   "source": [
    "### make dirs of train and validation"
   ]
  },
  {
   "cell_type": "code",
   "execution_count": 8,
   "metadata": {
    "collapsed": true
   },
   "outputs": [],
   "source": [
    "import shutil\n",
    "from shutil import *"
   ]
  },
  {
   "cell_type": "code",
   "execution_count": 9,
   "metadata": {
    "collapsed": true
   },
   "outputs": [],
   "source": [
    "from tqdm import tqdm"
   ]
  },
  {
   "cell_type": "code",
   "execution_count": 10,
   "metadata": {
    "collapsed": true
   },
   "outputs": [],
   "source": [
    "def mkdir_train_val(fold):\n",
    "    if 'train'+str(fold) in os.listdir():\n",
    "        shutil.rmtree('train'+str(fold))\n",
    "    if 'validation'+str(fold) in os.listdir():\n",
    "        shutil.rmtree('validation'+str(fold))\n",
    "    for split_name in ['train', 'validation']:\n",
    "        for cls in classnames:\n",
    "            os.makedirs(split_name+str(fold) + '/' + cls)"
   ]
  },
  {
   "cell_type": "code",
   "execution_count": 11,
   "metadata": {
    "collapsed": true
   },
   "outputs": [],
   "source": [
    "def symlink_train_val(df_t, df_v, fold, train_dir):\n",
    "    mkdir_train_val(fold)\n",
    "    for i in tqdm(range(len(df_t))):\n",
    "        cls = df_t.iloc[i]['classname']\n",
    "        img = df_t.iloc[i]['img']\n",
    "        os.symlink(train_dir+'/'+cls+'/'+img, 'train'+str(fold)+'/'+cls+'/'+img)\n",
    "    for i in tqdm(range(len(df_v))):\n",
    "        cls = df_v.iloc[i]['classname']\n",
    "        img = df_v.iloc[i]['img']\n",
    "        os.symlink(train_dir+'/'+cls+'/'+img, 'validation'+str(fold)+'/'+cls+'/'+img)"
   ]
  },
  {
   "cell_type": "code",
   "execution_count": 12,
   "metadata": {
    "collapsed": true
   },
   "outputs": [],
   "source": [
    "def copy_train_val(df_t, df_v, fold, train_dir):\n",
    "    mkdir_train_val(fold)\n",
    "    for i in tqdm(range(len(df_t))):\n",
    "        cls = df_t.iloc[i]['classname']\n",
    "        img = df_t.iloc[i]['img']\n",
    "        copyfile(train_dir+'/'+cls+'/'+img, 'train'+str(fold)+'/'+cls+'/'+img)\n",
    "    for i in tqdm(range(len(df_v))):\n",
    "        cls = df_v.iloc[i]['classname']\n",
    "        img = df_v.iloc[i]['img']\n",
    "        copyfile(train_dir+'/'+cls+'/'+img, 'validation'+str(fold)+'/'+cls+'/'+img)"
   ]
  },
  {
   "cell_type": "code",
   "execution_count": 13,
   "metadata": {},
   "outputs": [
    {
     "name": "stderr",
     "output_type": "stream",
     "text": [
      "100%|██████████| 18049/18049 [02:55<00:00, 102.97it/s]\n",
      "100%|██████████| 4375/4375 [00:43<00:00, 101.61it/s]\n"
     ]
    }
   ],
   "source": [
    "for fold in range(2,3):\n",
    "    df_t, df_v = split_list(subjects_t[fold], subjects_v[fold])\n",
    "    symlink_train_val(df_t, df_v, fold, train_raw_dir)"
   ]
  },
  {
   "cell_type": "code",
   "execution_count": 14,
   "metadata": {
    "collapsed": true
   },
   "outputs": [],
   "source": [
    "train_dir = 'train2'\n",
    "val_dir = 'validation2'"
   ]
  },
  {
   "cell_type": "markdown",
   "metadata": {},
   "source": [
    "### preprocessing images"
   ]
  },
  {
   "cell_type": "code",
   "execution_count": 15,
   "metadata": {
    "collapsed": true
   },
   "outputs": [],
   "source": [
    "# preprocess function of VGG and ResNet50\n",
    "def preprocess_fn(x):\n",
    "    # RGB >> BGR\n",
    "    x = img_to_array(x)\n",
    "    x = x[:, :, ::-1]\n",
    "    # Zero-center by mean pixel\n",
    "    x[:, :, 0] -= 103.939\n",
    "    x[:, :, 1] -= 116.779\n",
    "    x[:, :, 2] -= 123.68\n",
    "    return x"
   ]
  },
  {
   "cell_type": "code",
   "execution_count": 16,
   "metadata": {
    "collapsed": true
   },
   "outputs": [],
   "source": [
    "# default image size of VGG and ResNet50\n",
    "img_width, img_height = 224, 224"
   ]
  },
  {
   "cell_type": "code",
   "execution_count": 17,
   "metadata": {
    "collapsed": true
   },
   "outputs": [],
   "source": [
    "batch_size = 32"
   ]
  },
  {
   "cell_type": "code",
   "execution_count": 18,
   "metadata": {
    "collapsed": true
   },
   "outputs": [],
   "source": [
    "data_gen = ImageDataGenerator(preprocessing_function=preprocess_fn)"
   ]
  },
  {
   "cell_type": "markdown",
   "metadata": {},
   "source": [
    "original generator"
   ]
  },
  {
   "cell_type": "code",
   "execution_count": 22,
   "metadata": {
    "scrolled": true
   },
   "outputs": [
    {
     "name": "stdout",
     "output_type": "stream",
     "text": [
      "Found 17446 images belonging to 10 classes.\n"
     ]
    }
   ],
   "source": [
    "train_generator = data_gen.flow_from_directory(train_dir, \n",
    "                                               target_size=(img_height, img_width), \n",
    "                                               class_mode='categorical',\n",
    "                                               batch_size=batch_size)"
   ]
  },
  {
   "cell_type": "code",
   "execution_count": 19,
   "metadata": {},
   "outputs": [
    {
     "name": "stdout",
     "output_type": "stream",
     "text": [
      "Found 4375 images belonging to 10 classes.\n"
     ]
    }
   ],
   "source": [
    "val_generator = data_gen.flow_from_directory(val_dir, \n",
    "                                             target_size=(img_height, img_width), \n",
    "                                             class_mode='categorical',\n",
    "                                             batch_size=batch_size)"
   ]
  },
  {
   "cell_type": "code",
   "execution_count": 20,
   "metadata": {},
   "outputs": [
    {
     "name": "stdout",
     "output_type": "stream",
     "text": [
      "Found 79726 images belonging to 1 classes.\n"
     ]
    }
   ],
   "source": [
    "test_generator = data_gen.flow_from_directory(test_dir, \n",
    "                                              target_size=(img_height, img_width), \n",
    "                                              class_mode=None,\n",
    "                                              shuffle=False,\n",
    "                                              batch_size=batch_size)"
   ]
  },
  {
   "cell_type": "markdown",
   "metadata": {},
   "source": [
    "transfer generator"
   ]
  },
  {
   "cell_type": "code",
   "execution_count": null,
   "metadata": {
    "collapsed": true
   },
   "outputs": [],
   "source": [
    "train_tf_generator = data_gen.flow_from_directory(train_dir, \n",
    "                                                  target_size=(img_height, img_width), \n",
    "                                                  class_mode='categorical',\n",
    "                                                  shuffle=False,\n",
    "                                                  batch_size=batch_size)"
   ]
  },
  {
   "cell_type": "code",
   "execution_count": null,
   "metadata": {
    "collapsed": true
   },
   "outputs": [],
   "source": [
    "val_tf_generator = data_gen.flow_from_directory(val_dir,\n",
    "                                                target_size=(img_height, img_width), \n",
    "                                                class_mode='categorical',\n",
    "                                                shuffle=False,\n",
    "                                                batch_size=batch_size)"
   ]
  },
  {
   "cell_type": "markdown",
   "metadata": {},
   "source": [
    "augment generator"
   ]
  },
  {
   "cell_type": "code",
   "execution_count": 21,
   "metadata": {
    "collapsed": true
   },
   "outputs": [],
   "source": [
    "data_gen_aug = ImageDataGenerator(rotation_range=30.,\n",
    "                                  width_shift_range=0.1,\n",
    "                                  height_shift_range=0.1,\n",
    "                                  preprocessing_function=preprocess_fn)"
   ]
  },
  {
   "cell_type": "code",
   "execution_count": 22,
   "metadata": {},
   "outputs": [
    {
     "name": "stdout",
     "output_type": "stream",
     "text": [
      "Found 18049 images belonging to 10 classes.\n"
     ]
    }
   ],
   "source": [
    "train_aug_generator = data_gen_aug.flow_from_directory(train_dir, \n",
    "                                                       target_size=(img_height, img_width), \n",
    "                                                       class_mode='categorical',\n",
    "                                                       batch_size=batch_size)"
   ]
  },
  {
   "cell_type": "code",
   "execution_count": 42,
   "metadata": {},
   "outputs": [
    {
     "name": "stdout",
     "output_type": "stream",
     "text": [
      "Found 4978 images belonging to 10 classes.\n"
     ]
    }
   ],
   "source": [
    "val_aug_generator = data_gen_aug.flow_from_directory(val_dir, \n",
    "                                                     target_size=(img_height, img_width), \n",
    "                                                     class_mode='categorical',\n",
    "                                                     batch_size=batch_size)"
   ]
  },
  {
   "cell_type": "code",
   "execution_count": 44,
   "metadata": {},
   "outputs": [
    {
     "name": "stdout",
     "output_type": "stream",
     "text": [
      "Found 79726 images belonging to 1 classes.\n"
     ]
    }
   ],
   "source": [
    "test_aug_generator = data_gen_aug.flow_from_directory(test_dir, \n",
    "                                                      target_size=(img_height, img_width), \n",
    "                                                      class_mode=None,\n",
    "                                                      shuffle=False,\n",
    "                                                      batch_size=batch_size)"
   ]
  },
  {
   "cell_type": "markdown",
   "metadata": {},
   "source": [
    "### Fine-tuning ResNet50"
   ]
  },
  {
   "cell_type": "code",
   "execution_count": 23,
   "metadata": {
    "collapsed": true
   },
   "outputs": [],
   "source": [
    "from keras.optimizers import *\n",
    "from keras.callbacks import *"
   ]
  },
  {
   "cell_type": "code",
   "execution_count": 24,
   "metadata": {
    "collapsed": true
   },
   "outputs": [],
   "source": [
    "adam = Adam(lr=1e-4, beta_1=0.9, beta_2=0.999, epsilon=1e-08, decay=1e-6)\n",
    "sgd = SGD(lr=1e-4, decay=1e-6, momentum=0.9, nesterov=True)"
   ]
  },
  {
   "cell_type": "code",
   "execution_count": 25,
   "metadata": {
    "collapsed": true
   },
   "outputs": [],
   "source": [
    "def model_build(MODEL, optimizer, layer_num_fix, top_dropout=False):\n",
    "    base_model = MODEL(weights='imagenet', include_top=True)\n",
    "    if top_dropout:\n",
    "        x = Dropout(0.4, name='top_dropout')(base_model.layers[-2].output)\n",
    "        x = Dense(10, activation='softmax', name='top_prediction')(x)\n",
    "    else:\n",
    "        x = Dense(10, activation='softmax', name='top_prediction')(base_model.layers[-2].output)\n",
    "        \n",
    "    model_ft = Model(base_model.input, x, name=MODEL.__name__)\n",
    "    model_ft.compile(optimizer=optimizer, \n",
    "                     loss='categorical_crossentropy', \n",
    "                     metrics=['accuracy'])\n",
    "    for layer in model_ft.layers[:layer_num_fix]:\n",
    "        layer.trainable = False\n",
    "    return model_ft"
   ]
  },
  {
   "cell_type": "code",
   "execution_count": 26,
   "metadata": {},
   "outputs": [
    {
     "name": "stdout",
     "output_type": "stream",
     "text": [
      "Downloading data from https://github.com/fchollet/deep-learning-models/releases/download/v0.2/resnet50_weights_tf_dim_ordering_tf_kernels.h5\n",
      "101294080/102853048 [============================>.] - ETA: 0s"
     ]
    }
   ],
   "source": [
    "model_resnet50_ft = model_build(ResNet50, adam, 142, False)"
   ]
  },
  {
   "cell_type": "code",
   "execution_count": 27,
   "metadata": {
    "collapsed": true,
    "scrolled": true
   },
   "outputs": [],
   "source": [
    "tensorboard_cb = TensorBoard(log_dir='log/resnet50', histogram_freq=0, batch_size=batch_size, write_graph=True, write_images=True)\n",
    "ckpt_cb = ModelCheckpoint('resnet50_ft2_aug_weights.{epoch:02d}-{val_loss:.3f}.hdf5', monitor='val_loss', verbose=1, save_best_only=True)\n",
    "stp_cb = EarlyStopping(monitor='val_loss', min_delta=0.001, patience=10, verbose=1, mode='auto')"
   ]
  },
  {
   "cell_type": "code",
   "execution_count": 28,
   "metadata": {
    "collapsed": true
   },
   "outputs": [],
   "source": [
    "num_epochs = 50"
   ]
  },
  {
   "cell_type": "code",
   "execution_count": 29,
   "metadata": {
    "scrolled": false
   },
   "outputs": [
    {
     "name": "stdout",
     "output_type": "stream",
     "text": [
      "Epoch 1/50\n",
      "49/50 [============================>.] - ETA: 1s - loss: 1.2668 - acc: 0.6020Epoch 00000: val_loss improved from inf to 0.83572, saving model to resnet50_ft1_aug_weights.00-0.836.hdf5\n",
      "50/50 [==============================] - 190s - loss: 1.2524 - acc: 0.6069 - val_loss: 0.8357 - val_acc: 0.7465\n",
      "Epoch 2/50\n",
      "49/50 [============================>.] - ETA: 1s - loss: 0.3053 - acc: 0.9152Epoch 00001: val_loss improved from 0.83572 to 0.56130, saving model to resnet50_ft1_aug_weights.01-0.561.hdf5\n",
      "50/50 [==============================] - 140s - loss: 0.3069 - acc: 0.9137 - val_loss: 0.5613 - val_acc: 0.8139\n",
      "Epoch 3/50\n",
      "49/50 [============================>.] - ETA: 1s - loss: 0.1379 - acc: 0.9611Epoch 00002: val_loss did not improve\n",
      "50/50 [==============================] - 138s - loss: 0.1387 - acc: 0.9606 - val_loss: 0.7145 - val_acc: 0.7931\n",
      "Epoch 4/50\n",
      "49/50 [============================>.] - ETA: 1s - loss: 0.1343 - acc: 0.9573Epoch 00003: val_loss improved from 0.56130 to 0.39178, saving model to resnet50_ft1_aug_weights.03-0.392.hdf5\n",
      "50/50 [==============================] - 140s - loss: 0.1339 - acc: 0.9569 - val_loss: 0.3918 - val_acc: 0.8729\n",
      "Epoch 5/50\n",
      "49/50 [============================>.] - ETA: 1s - loss: 0.1288 - acc: 0.9554Epoch 00004: val_loss did not improve\n",
      "50/50 [==============================] - 138s - loss: 0.1279 - acc: 0.9556 - val_loss: 0.4246 - val_acc: 0.8555\n",
      "Epoch 6/50\n",
      "49/50 [============================>.] - ETA: 1s - loss: 0.1313 - acc: 0.9605Epoch 00005: val_loss did not improve\n",
      "50/50 [==============================] - 137s - loss: 0.1299 - acc: 0.9606 - val_loss: 0.4849 - val_acc: 0.8471\n",
      "Epoch 7/50\n",
      "49/50 [============================>.] - ETA: 1s - loss: 0.0999 - acc: 0.9732Epoch 00006: val_loss did not improve\n",
      "50/50 [==============================] - 137s - loss: 0.0992 - acc: 0.9731 - val_loss: 0.4549 - val_acc: 0.8706\n",
      "Epoch 8/50\n",
      "49/50 [============================>.] - ETA: 1s - loss: 0.0864 - acc: 0.9739Epoch 00007: val_loss improved from 0.39178 to 0.30932, saving model to resnet50_ft1_aug_weights.07-0.309.hdf5\n",
      "50/50 [==============================] - 140s - loss: 0.0852 - acc: 0.9744 - val_loss: 0.3093 - val_acc: 0.9022\n",
      "Epoch 9/50\n",
      "49/50 [============================>.] - ETA: 1s - loss: 0.0758 - acc: 0.9809Epoch 00008: val_loss did not improve\n",
      "50/50 [==============================] - 137s - loss: 0.0746 - acc: 0.9813 - val_loss: 0.3481 - val_acc: 0.8839\n",
      "Epoch 10/50\n",
      "49/50 [============================>.] - ETA: 1s - loss: 0.0831 - acc: 0.9751Epoch 00009: val_loss improved from 0.30932 to 0.29812, saving model to resnet50_ft1_aug_weights.09-0.298.hdf5\n",
      "50/50 [==============================] - 140s - loss: 0.0827 - acc: 0.9750 - val_loss: 0.2981 - val_acc: 0.8953\n",
      "Epoch 11/50\n",
      "49/50 [============================>.] - ETA: 1s - loss: 0.0885 - acc: 0.9707Epoch 00010: val_loss did not improve\n",
      "50/50 [==============================] - 136s - loss: 0.0894 - acc: 0.9700 - val_loss: 0.4204 - val_acc: 0.8773\n",
      "Epoch 12/50\n",
      "49/50 [============================>.] - ETA: 1s - loss: 0.1005 - acc: 0.9732Epoch 00011: val_loss did not improve\n",
      "50/50 [==============================] - 136s - loss: 0.0988 - acc: 0.9737 - val_loss: 0.3749 - val_acc: 0.8661\n",
      "Epoch 13/50\n",
      "49/50 [============================>.] - ETA: 1s - loss: 0.0515 - acc: 0.9828Epoch 00012: val_loss did not improve\n",
      "50/50 [==============================] - 137s - loss: 0.0512 - acc: 0.9831 - val_loss: 0.4357 - val_acc: 0.8768\n",
      "Epoch 14/50\n",
      "49/50 [============================>.] - ETA: 1s - loss: 0.0477 - acc: 0.9860Epoch 00013: val_loss did not improve\n",
      "50/50 [==============================] - 137s - loss: 0.0470 - acc: 0.9862 - val_loss: 0.4111 - val_acc: 0.8763\n",
      "Epoch 15/50\n",
      "49/50 [============================>.] - ETA: 1s - loss: 0.0433 - acc: 0.9872Epoch 00014: val_loss did not improve\n",
      "50/50 [==============================] - 137s - loss: 0.0427 - acc: 0.9875 - val_loss: 0.3884 - val_acc: 0.8971\n",
      "Epoch 16/50\n",
      "49/50 [============================>.] - ETA: 1s - loss: 0.0591 - acc: 0.9815Epoch 00015: val_loss improved from 0.29812 to 0.28919, saving model to resnet50_ft1_aug_weights.15-0.289.hdf5\n",
      "50/50 [==============================] - 139s - loss: 0.0586 - acc: 0.9819 - val_loss: 0.2892 - val_acc: 0.9074\n",
      "Epoch 17/50\n",
      "49/50 [============================>.] - ETA: 1s - loss: 0.0670 - acc: 0.9796Epoch 00016: val_loss did not improve\n",
      "50/50 [==============================] - 139s - loss: 0.0657 - acc: 0.9800 - val_loss: 0.5318 - val_acc: 0.8414\n",
      "Epoch 18/50\n",
      "49/50 [============================>.] - ETA: 1s - loss: 0.0435 - acc: 0.9885Epoch 00017: val_loss did not improve\n",
      "50/50 [==============================] - 141s - loss: 0.0467 - acc: 0.9881 - val_loss: 0.5220 - val_acc: 0.8272\n",
      "Epoch 19/50\n",
      "49/50 [============================>.] - ETA: 1s - loss: 0.0422 - acc: 0.9892Epoch 00018: val_loss improved from 0.28919 to 0.28519, saving model to resnet50_ft1_aug_weights.18-0.285.hdf5\n",
      "50/50 [==============================] - 139s - loss: 0.0415 - acc: 0.9894 - val_loss: 0.2852 - val_acc: 0.9104\n",
      "Epoch 20/50\n",
      "49/50 [============================>.] - ETA: 1s - loss: 0.0540 - acc: 0.9872Epoch 00019: val_loss did not improve\n",
      "50/50 [==============================] - 135s - loss: 0.0537 - acc: 0.9875 - val_loss: 0.3028 - val_acc: 0.9026\n",
      "Epoch 21/50\n",
      "49/50 [============================>.] - ETA: 1s - loss: 0.0373 - acc: 0.9898Epoch 00020: val_loss did not improve\n",
      "50/50 [==============================] - 136s - loss: 0.0381 - acc: 0.9894 - val_loss: 0.5628 - val_acc: 0.8615\n",
      "Epoch 22/50\n",
      "49/50 [============================>.] - ETA: 1s - loss: 0.0436 - acc: 0.9885Epoch 00021: val_loss did not improve\n",
      "50/50 [==============================] - 135s - loss: 0.0436 - acc: 0.9881 - val_loss: 0.5828 - val_acc: 0.8407\n",
      "Epoch 23/50\n",
      "49/50 [============================>.] - ETA: 1s - loss: 0.0668 - acc: 0.9892Epoch 00022: val_loss did not improve\n",
      "50/50 [==============================] - 136s - loss: 0.0654 - acc: 0.9894 - val_loss: 0.4735 - val_acc: 0.8761\n",
      "Epoch 24/50\n",
      "49/50 [============================>.] - ETA: 1s - loss: 0.0423 - acc: 0.9847Epoch 00023: val_loss did not improve\n",
      "50/50 [==============================] - 135s - loss: 0.0435 - acc: 0.9844 - val_loss: 0.3029 - val_acc: 0.9006\n",
      "Epoch 25/50\n",
      "49/50 [============================>.] - ETA: 1s - loss: 0.0405 - acc: 0.9911Epoch 00024: val_loss did not improve\n",
      "50/50 [==============================] - 135s - loss: 0.0411 - acc: 0.9906 - val_loss: 0.9504 - val_acc: 0.7838\n",
      "Epoch 26/50\n",
      "49/50 [============================>.] - ETA: 1s - loss: 0.0297 - acc: 0.9892Epoch 00025: val_loss did not improve\n",
      "50/50 [==============================] - 137s - loss: 0.0311 - acc: 0.9888 - val_loss: 0.5614 - val_acc: 0.8651\n",
      "Epoch 27/50\n",
      "49/50 [============================>.] - ETA: 1s - loss: 0.0291 - acc: 0.9911Epoch 00026: val_loss did not improve\n",
      "50/50 [==============================] - 136s - loss: 0.0286 - acc: 0.9912 - val_loss: 0.7124 - val_acc: 0.8066\n",
      "Epoch 28/50\n",
      "49/50 [============================>.] - ETA: 1s - loss: 0.0521 - acc: 0.9815Epoch 00027: val_loss did not improve\n",
      "50/50 [==============================] - 135s - loss: 0.0521 - acc: 0.9813 - val_loss: 0.3677 - val_acc: 0.8889\n",
      "Epoch 29/50\n",
      "49/50 [============================>.] - ETA: 1s - loss: 0.0256 - acc: 0.9936Epoch 00028: val_loss did not improve\n",
      "50/50 [==============================] - 135s - loss: 0.0264 - acc: 0.9931 - val_loss: 0.2922 - val_acc: 0.8965\n",
      "Epoch 30/50\n",
      "49/50 [============================>.] - ETA: 1s - loss: 0.0200 - acc: 0.9936Epoch 00029: val_loss did not improve\n",
      "50/50 [==============================] - 135s - loss: 0.0199 - acc: 0.9938 - val_loss: 0.3637 - val_acc: 0.8912\n",
      "Epoch 00029: early stopping\n"
     ]
    },
    {
     "data": {
      "text/plain": [
       "<keras.callbacks.History at 0x7f2b20038860>"
      ]
     },
     "execution_count": 29,
     "metadata": {},
     "output_type": "execute_result"
    }
   ],
   "source": [
    "model_resnet50_ft.fit_generator(train_aug_generator, \n",
    "                             50,\n",
    "                             num_epochs, \n",
    "                             validation_data=val_generator, \n",
    "                             validation_steps=val_generator.samples//batch_size+1,\n",
    "                             callbacks=[tensorboard_cb, ckpt_cb, stp_cb])"
   ]
  },
  {
   "cell_type": "code",
   "execution_count": 30,
   "metadata": {
    "collapsed": true
   },
   "outputs": [],
   "source": [
    "model_resnet50_ft.load_weights('resnet50_ft2_aug_weights.18-0.285.hdf5')"
   ]
  },
  {
   "cell_type": "code",
   "execution_count": 31,
   "metadata": {
    "collapsed": true
   },
   "outputs": [],
   "source": [
    "def write_predicts_gen(test_gen, batch_size, sub_fname):\n",
    "    y_pred = model_resnet50_ft.predict_generator(test_gen, \n",
    "                                              test_gen.samples//batch_size+1, \n",
    "                                              verbose=1)\n",
    "\n",
    "    y_pred_df = pd.DataFrame(y_pred, columns=classnames)\n",
    "    \n",
    "    img_name = []\n",
    "    for i, fname in enumerate(test_gen.filenames):\n",
    "        img_name.append(os.path.basename(fname))\n",
    "\n",
    "    img_name_df = pd.DataFrame(img_name, columns=['img'])\n",
    "    predictions = pd.concat([img_name_df, y_pred_df], axis=1)\n",
    "    print(predictions.shape)\n",
    "    predictions.to_csv(sub_fname, index=False)\n",
    "    print('submission file {} is ready.'.format(sub_fname))"
   ]
  },
  {
   "cell_type": "code",
   "execution_count": 32,
   "metadata": {
    "scrolled": true
   },
   "outputs": [
    {
     "name": "stdout",
     "output_type": "stream",
     "text": [
      "2492/2492 [==============================] - 1872s  \n",
      "(79726, 11)\n",
      "submission file submission_resnet50_ft2_aug.csv is ready.\n"
     ]
    }
   ],
   "source": [
    "write_predicts_gen(test_generator, batch_size, 'submission_resnet50_ft2_aug.csv')"
   ]
  },
  {
   "cell_type": "code",
   "execution_count": null,
   "metadata": {
    "collapsed": true
   },
   "outputs": [],
   "source": []
  }
 ],
 "metadata": {
  "kernelspec": {
   "display_name": "Python 3",
   "language": "python",
   "name": "python3"
  },
  "language_info": {
   "codemirror_mode": {
    "name": "ipython",
    "version": 3
   },
   "file_extension": ".py",
   "mimetype": "text/x-python",
   "name": "python",
   "nbconvert_exporter": "python",
   "pygments_lexer": "ipython3",
   "version": "3.6.2"
  }
 },
 "nbformat": 4,
 "nbformat_minor": 2
}
