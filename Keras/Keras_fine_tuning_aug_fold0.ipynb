{
 "cells": [
  {
   "cell_type": "markdown",
   "metadata": {},
   "source": [
    "### Load modules"
   ]
  },
  {
   "cell_type": "code",
   "execution_count": 1,
   "metadata": {},
   "outputs": [
    {
     "name": "stderr",
     "output_type": "stream",
     "text": [
      "Using TensorFlow backend.\n"
     ]
    }
   ],
   "source": [
    "from keras.models import *\n",
    "from keras.layers import *\n",
    "from keras.applications import *\n",
    "from keras.preprocessing.image import *"
   ]
  },
  {
   "cell_type": "code",
   "execution_count": 2,
   "metadata": {
    "collapsed": true
   },
   "outputs": [],
   "source": [
    "import os\n",
    "import numpy as np\n",
    "import pandas as pd\n",
    "\n",
    "from sklearn.utils import shuffle\n",
    "from sklearn.model_selection import KFold"
   ]
  },
  {
   "cell_type": "code",
   "execution_count": 3,
   "metadata": {
    "collapsed": true
   },
   "outputs": [],
   "source": [
    "import h5py"
   ]
  },
  {
   "cell_type": "markdown",
   "metadata": {},
   "source": [
    "### Load train image list"
   ]
  },
  {
   "cell_type": "code",
   "execution_count": 4,
   "metadata": {
    "collapsed": true
   },
   "outputs": [],
   "source": [
    "df = pd.read_csv('driver_imgs_list.csv')\n",
    "# drivers' names\n",
    "subjects = np.unique(df['subject'])\n",
    "# classes\n",
    "classnames = np.unique(df['classname'])"
   ]
  },
  {
   "cell_type": "markdown",
   "metadata": {},
   "source": [
    "### 5-fold train-val split in terms of drivers: "
   ]
  },
  {
   "cell_type": "code",
   "execution_count": 5,
   "metadata": {
    "collapsed": true
   },
   "outputs": [],
   "source": [
    "kf = KFold(n_splits=5, random_state=42, shuffle=True)\n",
    "subjects_t = []\n",
    "subjects_v = []\n",
    "for sub_t, sub_v in kf.split(subjects):\n",
    "    subjects_t.append(list(subjects[sub_t]))\n",
    "    subjects_v.append(list(subjects[sub_v]))"
   ]
  },
  {
   "cell_type": "markdown",
   "metadata": {},
   "source": [
    "split the train image list"
   ]
  },
  {
   "cell_type": "code",
   "execution_count": 6,
   "metadata": {
    "collapsed": true
   },
   "outputs": [],
   "source": [
    "def split_list(subjects_t, subjects_v):\n",
    "    df_t = df.loc[df.subject.isin(subjects_t)]\n",
    "    df_v = df.loc[df.subject.isin(subjects_v)]\n",
    "    return df_t, df_v"
   ]
  },
  {
   "cell_type": "markdown",
   "metadata": {},
   "source": [
    "### original dataset dir."
   ]
  },
  {
   "cell_type": "code",
   "execution_count": 7,
   "metadata": {
    "collapsed": true
   },
   "outputs": [],
   "source": [
    "dataset_dir = '/dataset_dir'\n",
    "# dataset_dir = '../../dataset_resized'\n",
    "\n",
    "train_raw_dir = dataset_dir + '/train'\n",
    "test_dir = dataset_dir + '/test'"
   ]
  },
  {
   "cell_type": "markdown",
   "metadata": {},
   "source": [
    "### make dirs of train and validation"
   ]
  },
  {
   "cell_type": "code",
   "execution_count": 8,
   "metadata": {
    "collapsed": true
   },
   "outputs": [],
   "source": [
    "import shutil\n",
    "from shutil import *"
   ]
  },
  {
   "cell_type": "code",
   "execution_count": 9,
   "metadata": {
    "collapsed": true
   },
   "outputs": [],
   "source": [
    "from tqdm import tqdm"
   ]
  },
  {
   "cell_type": "code",
   "execution_count": 10,
   "metadata": {
    "collapsed": true
   },
   "outputs": [],
   "source": [
    "def mkdir_train_val(fold):\n",
    "    if 'train'+str(fold) in os.listdir():\n",
    "        shutil.rmtree('train'+str(fold))\n",
    "    if 'validation'+str(fold) in os.listdir():\n",
    "        shutil.rmtree('validation'+str(fold))\n",
    "    for split_name in ['train', 'validation']:\n",
    "        for cls in classnames:\n",
    "            os.makedirs(split_name+str(fold) + '/' + cls)"
   ]
  },
  {
   "cell_type": "code",
   "execution_count": 11,
   "metadata": {
    "collapsed": true
   },
   "outputs": [],
   "source": [
    "def symlink_train_val(df_t, df_v, fold, train_dir):\n",
    "    mkdir_train_val(fold)\n",
    "    for i in tqdm(range(len(df_t))):\n",
    "        cls = df_t.iloc[i]['classname']\n",
    "        img = df_t.iloc[i]['img']\n",
    "        os.symlink(train_dir+'/'+cls+'/'+img, 'train'+str(fold)+'/'+cls+'/'+img)\n",
    "    for i in tqdm(range(len(df_v))):\n",
    "        cls = df_v.iloc[i]['classname']\n",
    "        img = df_v.iloc[i]['img']\n",
    "        os.symlink(train_dir+'/'+cls+'/'+img, 'validation'+str(fold)+'/'+cls+'/'+img)"
   ]
  },
  {
   "cell_type": "code",
   "execution_count": 12,
   "metadata": {
    "collapsed": true
   },
   "outputs": [],
   "source": [
    "def copy_train_val(df_t, df_v, fold, train_dir):\n",
    "    mkdir_train_val(fold)\n",
    "    for i in tqdm(range(len(df_t))):\n",
    "        cls = df_t.iloc[i]['classname']\n",
    "        img = df_t.iloc[i]['img']\n",
    "        copyfile(train_dir+'/'+cls+'/'+img, 'train'+str(fold)+'/'+cls+'/'+img)\n",
    "    for i in tqdm(range(len(df_v))):\n",
    "        cls = df_v.iloc[i]['classname']\n",
    "        img = df_v.iloc[i]['img']\n",
    "        copyfile(train_dir+'/'+cls+'/'+img, 'validation'+str(fold)+'/'+cls+'/'+img)"
   ]
  },
  {
   "cell_type": "code",
   "execution_count": 13,
   "metadata": {},
   "outputs": [
    {
     "name": "stderr",
     "output_type": "stream",
     "text": [
      "100%|██████████| 17446/17446 [02:05<00:00, 138.61it/s]\n",
      "100%|██████████| 4978/4978 [00:34<00:00, 142.38it/s]\n"
     ]
    }
   ],
   "source": [
    "for fold in range(1):\n",
    "    df_t, df_v = split_list(subjects_t[fold], subjects_v[fold])\n",
    "    symlink_train_val(df_t, df_v, fold, train_raw_dir)"
   ]
  },
  {
   "cell_type": "code",
   "execution_count": 14,
   "metadata": {
    "collapsed": true
   },
   "outputs": [],
   "source": [
    "train_dir = 'train0'\n",
    "val_dir = 'validation0'"
   ]
  },
  {
   "cell_type": "markdown",
   "metadata": {},
   "source": [
    "### preprocessing images"
   ]
  },
  {
   "cell_type": "code",
   "execution_count": 10,
   "metadata": {
    "collapsed": true
   },
   "outputs": [],
   "source": [
    "# preprocess function of VGG and ResNet50\n",
    "def preprocess_fn(x):\n",
    "    # RGB >> BGR\n",
    "    x = img_to_array(x)\n",
    "    x = x[:, :, ::-1]\n",
    "    # Zero-center by mean pixel\n",
    "    x[:, :, 0] -= 103.939\n",
    "    x[:, :, 1] -= 116.779\n",
    "    x[:, :, 2] -= 123.68\n",
    "    return x"
   ]
  },
  {
   "cell_type": "code",
   "execution_count": 11,
   "metadata": {
    "collapsed": true
   },
   "outputs": [],
   "source": [
    "# default image size of VGG and ResNet50\n",
    "img_width, img_height = 224, 224"
   ]
  },
  {
   "cell_type": "code",
   "execution_count": 12,
   "metadata": {
    "collapsed": true
   },
   "outputs": [],
   "source": [
    "batch_size = 32"
   ]
  },
  {
   "cell_type": "code",
   "execution_count": 13,
   "metadata": {
    "collapsed": true
   },
   "outputs": [],
   "source": [
    "data_gen = ImageDataGenerator(preprocessing_function=preprocess_fn)"
   ]
  },
  {
   "cell_type": "markdown",
   "metadata": {},
   "source": [
    "original generator"
   ]
  },
  {
   "cell_type": "code",
   "execution_count": 19,
   "metadata": {
    "scrolled": true
   },
   "outputs": [
    {
     "name": "stdout",
     "output_type": "stream",
     "text": [
      "Found 17446 images belonging to 10 classes.\n"
     ]
    }
   ],
   "source": [
    "train_generator = data_gen.flow_from_directory(train_dir, \n",
    "                                               target_size=(img_height, img_width), \n",
    "                                               class_mode='categorical',\n",
    "                                               batch_size=batch_size)"
   ]
  },
  {
   "cell_type": "code",
   "execution_count": 19,
   "metadata": {},
   "outputs": [
    {
     "name": "stdout",
     "output_type": "stream",
     "text": [
      "Found 4978 images belonging to 10 classes.\n"
     ]
    }
   ],
   "source": [
    "val_generator = data_gen.flow_from_directory(val_dir, \n",
    "                                             target_size=(img_height, img_width), \n",
    "                                             class_mode='categorical',\n",
    "                                             batch_size=batch_size)"
   ]
  },
  {
   "cell_type": "code",
   "execution_count": 14,
   "metadata": {},
   "outputs": [
    {
     "name": "stdout",
     "output_type": "stream",
     "text": [
      "Found 79726 images belonging to 1 classes.\n"
     ]
    }
   ],
   "source": [
    "test_generator = data_gen.flow_from_directory(test_dir, \n",
    "                                              target_size=(img_height, img_width), \n",
    "                                              class_mode=None,\n",
    "                                              shuffle=False,\n",
    "                                              batch_size=batch_size)"
   ]
  },
  {
   "cell_type": "markdown",
   "metadata": {},
   "source": [
    "transfer generator"
   ]
  },
  {
   "cell_type": "code",
   "execution_count": null,
   "metadata": {
    "collapsed": true
   },
   "outputs": [],
   "source": [
    "train_tf_generator = data_gen.flow_from_directory(train_dir, \n",
    "                                                  target_size=(img_height, img_width), \n",
    "                                                  class_mode='categorical',\n",
    "                                                  shuffle=False,\n",
    "                                                  batch_size=batch_size)"
   ]
  },
  {
   "cell_type": "code",
   "execution_count": null,
   "metadata": {
    "collapsed": true
   },
   "outputs": [],
   "source": [
    "val_tf_generator = data_gen.flow_from_directory(val_dir,\n",
    "                                                target_size=(img_height, img_width), \n",
    "                                                class_mode='categorical',\n",
    "                                                shuffle=False,\n",
    "                                                batch_size=batch_size)"
   ]
  },
  {
   "cell_type": "markdown",
   "metadata": {},
   "source": [
    "augment generator"
   ]
  },
  {
   "cell_type": "code",
   "execution_count": 21,
   "metadata": {
    "collapsed": true
   },
   "outputs": [],
   "source": [
    "data_gen_aug = ImageDataGenerator(rotation_range=30.,\n",
    "                                  width_shift_range=0.1,\n",
    "                                  height_shift_range=0.1,\n",
    "                                  preprocessing_function=preprocess_fn)"
   ]
  },
  {
   "cell_type": "code",
   "execution_count": 22,
   "metadata": {},
   "outputs": [
    {
     "name": "stdout",
     "output_type": "stream",
     "text": [
      "Found 17446 images belonging to 10 classes.\n"
     ]
    }
   ],
   "source": [
    "train_aug_generator = data_gen_aug.flow_from_directory(train_dir, \n",
    "                                                       target_size=(img_height, img_width), \n",
    "                                                       class_mode='categorical',\n",
    "                                                       batch_size=batch_size)"
   ]
  },
  {
   "cell_type": "code",
   "execution_count": 42,
   "metadata": {},
   "outputs": [
    {
     "name": "stdout",
     "output_type": "stream",
     "text": [
      "Found 4978 images belonging to 10 classes.\n"
     ]
    }
   ],
   "source": [
    "val_aug_generator = data_gen_aug.flow_from_directory(val_dir, \n",
    "                                                     target_size=(img_height, img_width), \n",
    "                                                     class_mode='categorical',\n",
    "                                                     batch_size=batch_size)"
   ]
  },
  {
   "cell_type": "code",
   "execution_count": 44,
   "metadata": {},
   "outputs": [
    {
     "name": "stdout",
     "output_type": "stream",
     "text": [
      "Found 79726 images belonging to 1 classes.\n"
     ]
    }
   ],
   "source": [
    "test_aug_generator = data_gen_aug.flow_from_directory(test_dir, \n",
    "                                                      target_size=(img_height, img_width), \n",
    "                                                      class_mode=None,\n",
    "                                                      shuffle=False,\n",
    "                                                      batch_size=batch_size)"
   ]
  },
  {
   "cell_type": "markdown",
   "metadata": {},
   "source": [
    "### Fine-tuning VGG16"
   ]
  },
  {
   "cell_type": "code",
   "execution_count": 15,
   "metadata": {
    "collapsed": true
   },
   "outputs": [],
   "source": [
    "from keras.optimizers import *\n",
    "from keras.callbacks import *"
   ]
  },
  {
   "cell_type": "code",
   "execution_count": 16,
   "metadata": {
    "collapsed": true
   },
   "outputs": [],
   "source": [
    "adam = Adam(lr=1e-4, beta_1=0.9, beta_2=0.999, epsilon=1e-08, decay=1e-6)\n",
    "sgd = SGD(lr=1e-4, decay=1e-6, momentum=0.9, nesterov=True)"
   ]
  },
  {
   "cell_type": "code",
   "execution_count": 17,
   "metadata": {
    "collapsed": true
   },
   "outputs": [],
   "source": [
    "def model_build(MODEL, optimizer, layer_num_fix, top_dropout=False):\n",
    "    base_model = MODEL(weights='imagenet', include_top=True)\n",
    "    if top_dropout:\n",
    "        x = Dropout(0.4, name='top_dropout')(base_model.layers[-2].output)\n",
    "        x = Dense(10, activation='softmax', name='top_prediction')(x)\n",
    "    else:\n",
    "        x = Dense(10, activation='softmax', name='top_prediction')(base_model.layers[-2].output)\n",
    "        \n",
    "    model_ft = Model(base_model.input, x, name=MODEL.__name__)\n",
    "    model_ft.compile(optimizer=optimizer, \n",
    "                     loss='categorical_crossentropy', \n",
    "                     metrics=['accuracy'])\n",
    "    for layer in model_ft.layers[:layer_num_fix]:\n",
    "        layer.trainable = False\n",
    "    return model_ft"
   ]
  },
  {
   "cell_type": "code",
   "execution_count": 18,
   "metadata": {
    "collapsed": true
   },
   "outputs": [],
   "source": [
    "model_vgg16_ft = model_build(VGG16, adam, 10, False)"
   ]
  },
  {
   "cell_type": "code",
   "execution_count": 27,
   "metadata": {
    "collapsed": true,
    "scrolled": true
   },
   "outputs": [],
   "source": [
    "tensorboard_cb = TensorBoard(log_dir='log/vgg16', histogram_freq=0, batch_size=batch_size, write_graph=True, write_images=True)\n",
    "ckpt_cb = ModelCheckpoint('vgg16_ft0_aug_weights.{epoch:02d}-{val_loss:.3f}.hdf5', monitor='val_loss', verbose=1, save_best_only=True)\n",
    "stp_cb = EarlyStopping(monitor='val_loss', min_delta=0.001, patience=10, verbose=1, mode='auto')"
   ]
  },
  {
   "cell_type": "code",
   "execution_count": null,
   "metadata": {
    "collapsed": true
   },
   "outputs": [],
   "source": [
    "num_epochs = 80"
   ]
  },
  {
   "cell_type": "code",
   "execution_count": null,
   "metadata": {
    "scrolled": false
   },
   "outputs": [
    {
     "name": "stdout",
     "output_type": "stream",
     "text": [
      "Epoch 1/80\n",
      "49/50 [============================>.] - ETA: 1s - loss: 2.4458 - acc: 0.1122Epoch 00000: val_loss improved from inf to 2.25705, saving model to vgg16_ft0_aug_weights.00-2.257.hdf5\n",
      "50/50 [==============================] - 188s - loss: 2.4422 - acc: 0.1113 - val_loss: 2.2570 - val_acc: 0.1687\n",
      "Epoch 2/80\n",
      "49/50 [============================>.] - ETA: 1s - loss: 2.0894 - acc: 0.2181Epoch 00001: val_loss improved from 2.25705 to 1.80262, saving model to vgg16_ft0_aug_weights.01-1.803.hdf5\n",
      "50/50 [==============================] - 178s - loss: 2.0875 - acc: 0.2200 - val_loss: 1.8026 - val_acc: 0.3823\n",
      "Epoch 3/80\n",
      "49/50 [============================>.] - ETA: 1s - loss: 1.3761 - acc: 0.4719Epoch 00002: val_loss improved from 1.80262 to 1.56949, saving model to vgg16_ft0_aug_weights.02-1.569.hdf5\n",
      "50/50 [==============================] - 178s - loss: 1.3650 - acc: 0.4769 - val_loss: 1.5695 - val_acc: 0.4516\n",
      "Epoch 4/80\n",
      "49/50 [============================>.] - ETA: 1s - loss: 1.0380 - acc: 0.6059Epoch 00003: val_loss improved from 1.56949 to 1.50537, saving model to vgg16_ft0_aug_weights.03-1.505.hdf5\n",
      "50/50 [==============================] - 178s - loss: 1.0367 - acc: 0.6069 - val_loss: 1.5054 - val_acc: 0.4994\n",
      "Epoch 5/80\n",
      "49/50 [============================>.] - ETA: 1s - loss: 0.7024 - acc: 0.7315Epoch 00004: val_loss improved from 1.50537 to 1.06495, saving model to vgg16_ft0_aug_weights.04-1.065.hdf5\n",
      "50/50 [==============================] - 178s - loss: 0.7031 - acc: 0.7288 - val_loss: 1.0649 - val_acc: 0.6181\n",
      "Epoch 6/80\n",
      "49/50 [============================>.] - ETA: 1s - loss: 0.5649 - acc: 0.8106Epoch 00005: val_loss improved from 1.06495 to 0.99890, saving model to vgg16_ft0_aug_weights.05-0.999.hdf5\n",
      "50/50 [==============================] - 178s - loss: 0.5636 - acc: 0.8106 - val_loss: 0.9989 - val_acc: 0.7091\n",
      "Epoch 7/80\n",
      "49/50 [============================>.] - ETA: 1s - loss: 0.4575 - acc: 0.8418Epoch 00006: val_loss improved from 0.99890 to 0.60671, saving model to vgg16_ft0_aug_weights.06-0.607.hdf5\n",
      "50/50 [==============================] - 178s - loss: 0.4695 - acc: 0.8400 - val_loss: 0.6067 - val_acc: 0.8092\n",
      "Epoch 8/80\n",
      "49/50 [============================>.] - ETA: 1s - loss: 0.3303 - acc: 0.8865Epoch 00007: val_loss did not improve\n",
      "50/50 [==============================] - 167s - loss: 0.3322 - acc: 0.8869 - val_loss: 0.7312 - val_acc: 0.8029\n",
      "Epoch 9/80\n",
      "49/50 [============================>.] - ETA: 1s - loss: 0.2431 - acc: 0.9196Epoch 00008: val_loss did not improve\n",
      "50/50 [==============================] - 167s - loss: 0.2461 - acc: 0.9188 - val_loss: 0.8120 - val_acc: 0.8021\n",
      "Epoch 10/80\n",
      "49/50 [============================>.] - ETA: 1s - loss: 0.2798 - acc: 0.9043Epoch 00009: val_loss did not improve\n",
      "50/50 [==============================] - 167s - loss: 0.2792 - acc: 0.9050 - val_loss: 1.3155 - val_acc: 0.7125\n",
      "Epoch 11/80\n",
      "49/50 [============================>.] - ETA: 1s - loss: 0.2569 - acc: 0.9203Epoch 00010: val_loss did not improve\n",
      "50/50 [==============================] - 168s - loss: 0.2554 - acc: 0.9212 - val_loss: 0.6670 - val_acc: 0.8015\n",
      "Epoch 12/80\n",
      "49/50 [============================>.] - ETA: 1s - loss: 0.1910 - acc: 0.9413Epoch 00011: val_loss improved from 0.60671 to 0.49562, saving model to vgg16_ft0_aug_weights.11-0.496.hdf5\n",
      "50/50 [==============================] - 177s - loss: 0.1884 - acc: 0.9425 - val_loss: 0.4956 - val_acc: 0.8566\n",
      "Epoch 13/80\n",
      "49/50 [============================>.] - ETA: 1s - loss: 0.1660 - acc: 0.9471Epoch 00012: val_loss did not improve\n",
      "50/50 [==============================] - 167s - loss: 0.1647 - acc: 0.9475 - val_loss: 0.6747 - val_acc: 0.8513\n",
      "Epoch 14/80\n",
      "49/50 [============================>.] - ETA: 1s - loss: 0.1811 - acc: 0.9452Epoch 00013: val_loss did not improve\n",
      "50/50 [==============================] - 167s - loss: 0.1789 - acc: 0.9456 - val_loss: 0.7459 - val_acc: 0.8272\n",
      "Epoch 15/80\n",
      "49/50 [============================>.] - ETA: 1s - loss: 0.1619 - acc: 0.9541Epoch 00014: val_loss did not improve\n",
      "50/50 [==============================] - 167s - loss: 0.1594 - acc: 0.9550 - val_loss: 0.6258 - val_acc: 0.8345\n",
      "Epoch 16/80\n",
      "49/50 [============================>.] - ETA: 1s - loss: 0.2116 - acc: 0.9381Epoch 00015: val_loss did not improve\n",
      "50/50 [==============================] - 167s - loss: 0.2088 - acc: 0.9387 - val_loss: 0.6788 - val_acc: 0.8232\n",
      "Epoch 17/80\n",
      "49/50 [============================>.] - ETA: 1s - loss: 0.1330 - acc: 0.9605Epoch 00016: val_loss did not improve\n",
      "50/50 [==============================] - 167s - loss: 0.1312 - acc: 0.9613 - val_loss: 0.8047 - val_acc: 0.8202\n",
      "Epoch 18/80\n",
      "49/50 [============================>.] - ETA: 1s - loss: 0.1589 - acc: 0.9560Epoch 00017: val_loss did not improve\n",
      "50/50 [==============================] - 167s - loss: 0.1593 - acc: 0.9562 - val_loss: 0.9350 - val_acc: 0.7577\n",
      "Epoch 19/80\n",
      "49/50 [============================>.] - ETA: 1s - loss: 0.1711 - acc: 0.9452Epoch 00018: val_loss did not improve\n",
      "50/50 [==============================] - 167s - loss: 0.1709 - acc: 0.9444 - val_loss: 0.6634 - val_acc: 0.8158\n",
      "Epoch 20/80\n",
      "49/50 [============================>.] - ETA: 1s - loss: 0.1420 - acc: 0.9585Epoch 00019: val_loss did not improve\n",
      "50/50 [==============================] - 167s - loss: 0.1446 - acc: 0.9575 - val_loss: 0.7571 - val_acc: 0.8377\n",
      "Epoch 21/80\n",
      "49/50 [============================>.] - ETA: 1s - loss: 0.1366 - acc: 0.9534Epoch 00020: val_loss did not improve\n",
      "50/50 [==============================] - 167s - loss: 0.1355 - acc: 0.9537 - val_loss: 0.9531 - val_acc: 0.7650\n",
      "Epoch 22/80\n",
      "49/50 [============================>.] - ETA: 1s - loss: 0.1512 - acc: 0.9494Epoch 00021: val_loss did not improve\n",
      "50/50 [==============================] - 166s - loss: 0.1504 - acc: 0.9498 - val_loss: 1.1087 - val_acc: 0.7847\n",
      "Epoch 23/80\n",
      "49/50 [============================>.] - ETA: 1s - loss: 0.1062 - acc: 0.9668Epoch 00022: val_loss did not improve\n",
      "50/50 [==============================] - 167s - loss: 0.1041 - acc: 0.9675 - val_loss: 0.7847 - val_acc: 0.8076\n",
      "Epoch 24/80\n",
      "49/50 [============================>.] - ETA: 1s - loss: 0.1069 - acc: 0.9694Epoch 00023: val_loss did not improve\n",
      "50/50 [==============================] - 167s - loss: 0.1059 - acc: 0.9694 - val_loss: 0.7465 - val_acc: 0.8387\n",
      "Epoch 25/80\n",
      "49/50 [============================>.] - ETA: 1s - loss: 0.1309 - acc: 0.9630Epoch 00024: val_loss did not improve\n",
      "50/50 [==============================] - 167s - loss: 0.1324 - acc: 0.9625 - val_loss: 0.8517 - val_acc: 0.8049\n",
      "Epoch 26/80\n",
      "49/50 [============================>.] - ETA: 1s - loss: 0.0861 - acc: 0.9700Epoch 00025: val_loss did not improve\n",
      "50/50 [==============================] - 167s - loss: 0.0956 - acc: 0.9688 - val_loss: 1.4199 - val_acc: 0.7186\n",
      "Epoch 27/80\n",
      "49/50 [============================>.] - ETA: 1s - loss: 0.0837 - acc: 0.9694Epoch 00026: val_loss did not improve\n",
      "50/50 [==============================] - 167s - loss: 0.0824 - acc: 0.9700 - val_loss: 0.9294 - val_acc: 0.8297\n",
      "Epoch 28/80\n",
      "49/50 [============================>.] - ETA: 1s - loss: 0.0917 - acc: 0.9713Epoch 00027: val_loss did not improve\n",
      "50/50 [==============================] - 167s - loss: 0.0902 - acc: 0.9719 - val_loss: 0.8879 - val_acc: 0.8082\n",
      "Epoch 29/80\n",
      "49/50 [============================>.] - ETA: 1s - loss: 0.0946 - acc: 0.9770Epoch 00028: val_loss did not improve\n",
      "50/50 [==============================] - 167s - loss: 0.0939 - acc: 0.9769 - val_loss: 0.7031 - val_acc: 0.8327\n",
      "Epoch 30/80\n",
      "49/50 [============================>.] - ETA: 1s - loss: 0.0975 - acc: 0.9694Epoch 00029: val_loss did not improve\n",
      "50/50 [==============================] - 167s - loss: 0.1008 - acc: 0.9681 - val_loss: 1.0069 - val_acc: 0.8039\n",
      "Epoch 31/80\n",
      "49/50 [============================>.] - ETA: 1s - loss: 0.1053 - acc: 0.9649Epoch 00030: val_loss did not improve\n",
      "50/50 [==============================] - 167s - loss: 0.1034 - acc: 0.9656 - val_loss: 0.7842 - val_acc: 0.7993\n",
      "Epoch 32/80\n",
      "49/50 [============================>.] - ETA: 1s - loss: 0.0995 - acc: 0.9719Epoch 00031: val_loss improved from 0.49562 to 0.48517, saving model to vgg16_ft0_aug_weights.31-0.485.hdf5\n",
      "50/50 [==============================] - 177s - loss: 0.1009 - acc: 0.9712 - val_loss: 0.4852 - val_acc: 0.8945\n",
      "Epoch 33/80\n",
      "49/50 [============================>.] - ETA: 1s - loss: 0.2117 - acc: 0.9354Epoch 00032: val_loss did not improve\n",
      "50/50 [==============================] - 166s - loss: 0.2157 - acc: 0.9336 - val_loss: 1.2143 - val_acc: 0.6675\n",
      "Epoch 34/80\n",
      "49/50 [============================>.] - ETA: 1s - loss: 0.2149 - acc: 0.9286Epoch 00033: val_loss did not improve\n",
      "50/50 [==============================] - 167s - loss: 0.2134 - acc: 0.9287 - val_loss: 1.4772 - val_acc: 0.6553\n",
      "Epoch 35/80\n",
      "49/50 [============================>.] - ETA: 1s - loss: 0.1817 - acc: 0.9426Epoch 00034: val_loss did not improve\n",
      "50/50 [==============================] - 167s - loss: 0.1819 - acc: 0.9431 - val_loss: 0.7780 - val_acc: 0.8152\n",
      "Epoch 36/80\n",
      "49/50 [============================>.] - ETA: 1s - loss: 0.1017 - acc: 0.9726Epoch 00035: val_loss did not improve\n",
      "50/50 [==============================] - 167s - loss: 0.1003 - acc: 0.9731 - val_loss: 1.0314 - val_acc: 0.8061\n",
      "Epoch 37/80\n",
      "49/50 [============================>.] - ETA: 1s - loss: 0.0992 - acc: 0.9688Epoch 00036: val_loss did not improve\n",
      "50/50 [==============================] - 167s - loss: 0.1065 - acc: 0.9669 - val_loss: 1.4354 - val_acc: 0.7804\n",
      "Epoch 38/80\n",
      "49/50 [============================>.] - ETA: 1s - loss: 0.1098 - acc: 0.9668Epoch 00037: val_loss did not improve\n",
      "50/50 [==============================] - 167s - loss: 0.1083 - acc: 0.9675 - val_loss: 0.8114 - val_acc: 0.8186\n",
      "Epoch 39/80\n",
      "49/50 [============================>.] - ETA: 1s - loss: 0.1089 - acc: 0.9662Epoch 00038: val_loss did not improve\n",
      "50/50 [==============================] - 169s - loss: 0.1085 - acc: 0.9663 - val_loss: 0.6900 - val_acc: 0.8389\n",
      "Epoch 40/80\n",
      "49/50 [============================>.] - ETA: 1s - loss: 0.0987 - acc: 0.9739Epoch 00039: val_loss did not improve\n",
      "50/50 [==============================] - 166s - loss: 0.0979 - acc: 0.9738 - val_loss: 0.7168 - val_acc: 0.8246\n",
      "Epoch 41/80\n",
      "49/50 [============================>.] - ETA: 1s - loss: 0.0852 - acc: 0.9745Epoch 00040: val_loss did not improve\n",
      "50/50 [==============================] - 167s - loss: 0.0852 - acc: 0.9744 - val_loss: 0.5983 - val_acc: 0.8809\n",
      "Epoch 42/80\n",
      "49/50 [============================>.] - ETA: 1s - loss: 0.0887 - acc: 0.9739Epoch 00041: val_loss did not improve\n",
      "50/50 [==============================] - 166s - loss: 0.0870 - acc: 0.9744 - val_loss: 0.9267 - val_acc: 0.8363\n",
      "Epoch 43/80\n",
      "49/50 [============================>.] - ETA: 1s - loss: 0.0613 - acc: 0.9790Epoch 00042: val_loss did not improve\n",
      "50/50 [==============================] - 166s - loss: 0.0603 - acc: 0.9794 - val_loss: 0.7317 - val_acc: 0.8823\n",
      "Epoch 44/80\n",
      "49/50 [============================>.] - ETA: 1s - loss: 0.0752 - acc: 0.9751Epoch 00043: val_loss did not improve\n",
      "50/50 [==============================] - 165s - loss: 0.0768 - acc: 0.9744 - val_loss: 0.8383 - val_acc: 0.8280\n",
      "Epoch 45/80\n",
      "49/50 [============================>.] - ETA: 1s - loss: 0.0563 - acc: 0.9853Epoch 00044: val_loss did not improve\n",
      "50/50 [==============================] - 166s - loss: 0.0558 - acc: 0.9856 - val_loss: 0.5807 - val_acc: 0.8839\n",
      "Epoch 46/80\n",
      "49/50 [============================>.] - ETA: 1s - loss: 0.0480 - acc: 0.9841Epoch 00045: val_loss did not improve\n",
      "50/50 [==============================] - 166s - loss: 0.0477 - acc: 0.9844 - val_loss: 0.9658 - val_acc: 0.7826\n",
      "Epoch 47/80\n",
      "49/50 [============================>.] - ETA: 1s - loss: 0.0846 - acc: 0.9790Epoch 00046: val_loss did not improve\n",
      "50/50 [==============================] - 167s - loss: 0.0842 - acc: 0.9788 - val_loss: 0.9058 - val_acc: 0.7712\n",
      "Epoch 48/80\n",
      "49/50 [============================>.] - ETA: 1s - loss: 0.0392 - acc: 0.9892Epoch 00047: val_loss did not improve\n",
      "50/50 [==============================] - 167s - loss: 0.0410 - acc: 0.9888 - val_loss: 0.9273 - val_acc: 0.8096\n",
      "Epoch 49/80\n",
      "49/50 [============================>.] - ETA: 1s - loss: 0.0314 - acc: 0.9904Epoch 00048: val_loss did not improve\n",
      "50/50 [==============================] - 166s - loss: 0.0308 - acc: 0.9906 - val_loss: 0.6298 - val_acc: 0.8684\n",
      "Epoch 50/80\n",
      "49/50 [============================>.] - ETA: 1s - loss: 0.0379 - acc: 0.9898Epoch 00049: val_loss did not improve\n",
      "50/50 [==============================] - 166s - loss: 0.0373 - acc: 0.9900 - val_loss: 0.5791 - val_acc: 0.8668\n",
      "Epoch 51/80\n",
      "49/50 [============================>.] - ETA: 1s - loss: 0.0953 - acc: 0.9764Epoch 00050: val_loss did not improve\n",
      "50/50 [==============================] - 166s - loss: 0.0936 - acc: 0.9769 - val_loss: 0.8052 - val_acc: 0.8043\n",
      "Epoch 52/80\n",
      "49/50 [============================>.] - ETA: 1s - loss: 0.0584 - acc: 0.9796Epoch 00051: val_loss did not improve\n",
      "50/50 [==============================] - 166s - loss: 0.0578 - acc: 0.9800 - val_loss: 0.7575 - val_acc: 0.8252\n",
      "Epoch 53/80\n",
      "49/50 [============================>.] - ETA: 1s - loss: 0.0395 - acc: 0.9904Epoch 00052: val_loss did not improve\n",
      "50/50 [==============================] - 167s - loss: 0.0418 - acc: 0.9900 - val_loss: 0.9345 - val_acc: 0.7895\n",
      "Epoch 54/80\n",
      "49/50 [============================>.] - ETA: 1s - loss: 0.0194 - acc: 0.9917Epoch 00053: val_loss did not improve\n",
      "50/50 [==============================] - 166s - loss: 0.0195 - acc: 0.9919 - val_loss: 0.8462 - val_acc: 0.8262\n",
      "Epoch 55/80\n",
      "49/50 [============================>.] - ETA: 1s - loss: 0.0620 - acc: 0.9809Epoch 00054: val_loss did not improve\n",
      "50/50 [==============================] - 165s - loss: 0.0610 - acc: 0.9812 - val_loss: 0.9159 - val_acc: 0.7975\n",
      "Epoch 56/80\n",
      "49/50 [============================>.] - ETA: 1s - loss: 0.0810 - acc: 0.9790Epoch 00055: val_loss did not improve\n",
      "50/50 [==============================] - 166s - loss: 0.0802 - acc: 0.9794 - val_loss: 0.6586 - val_acc: 0.8411\n",
      "Epoch 57/80\n",
      "49/50 [============================>.] - ETA: 1s - loss: 0.0635 - acc: 0.9809Epoch 00056: val_loss did not improve\n",
      "50/50 [==============================] - 166s - loss: 0.0630 - acc: 0.9806 - val_loss: 0.7655 - val_acc: 0.8240\n",
      "Epoch 58/80\n",
      "49/50 [============================>.] - ETA: 1s - loss: 0.0364 - acc: 0.9904Epoch 00057: val_loss did not improve\n",
      "50/50 [==============================] - 167s - loss: 0.0358 - acc: 0.9906 - val_loss: 0.8085 - val_acc: 0.8483\n",
      "Epoch 59/80\n",
      "49/50 [============================>.] - ETA: 1s - loss: 0.0455 - acc: 0.9911Epoch 00058: val_loss did not improve\n",
      "50/50 [==============================] - 166s - loss: 0.0446 - acc: 0.9912 - val_loss: 0.7002 - val_acc: 0.8530\n",
      "Epoch 60/80\n",
      "49/50 [============================>.] - ETA: 1s - loss: 0.0394 - acc: 0.9885Epoch 00059: val_loss did not improve\n",
      "50/50 [==============================] - 166s - loss: 0.0386 - acc: 0.9888 - val_loss: 1.3613 - val_acc: 0.7762\n",
      "Epoch 61/80\n",
      "49/50 [============================>.] - ETA: 1s - loss: 0.0593 - acc: 0.9809Epoch 00060: val_loss did not improve\n",
      "50/50 [==============================] - 166s - loss: 0.0581 - acc: 0.9813 - val_loss: 0.7383 - val_acc: 0.8345\n",
      "Epoch 62/80\n",
      "49/50 [============================>.] - ETA: 1s - loss: 0.0577 - acc: 0.9828Epoch 00061: val_loss did not improve\n",
      "50/50 [==============================] - 166s - loss: 0.0567 - acc: 0.9831 - val_loss: 0.6704 - val_acc: 0.8755\n",
      "Epoch 63/80\n",
      "49/50 [============================>.] - ETA: 1s - loss: 0.0371 - acc: 0.9917Epoch 00062: val_loss did not improve\n",
      "50/50 [==============================] - 166s - loss: 0.0420 - acc: 0.9906 - val_loss: 0.8270 - val_acc: 0.8208\n",
      "Epoch 64/80\n",
      "49/50 [============================>.] - ETA: 1s - loss: 0.0771 - acc: 0.9783Epoch 00063: val_loss did not improve\n",
      "50/50 [==============================] - 166s - loss: 0.0768 - acc: 0.9781 - val_loss: 0.7453 - val_acc: 0.8194\n",
      "Epoch 65/80\n",
      "49/50 [============================>.] - ETA: 1s - loss: 0.0553 - acc: 0.9834Epoch 00064: val_loss did not improve\n",
      "50/50 [==============================] - 166s - loss: 0.0561 - acc: 0.9831 - val_loss: 0.5525 - val_acc: 0.8726\n",
      "Epoch 66/80\n",
      "49/50 [============================>.] - ETA: 1s - loss: 0.1013 - acc: 0.9726Epoch 00065: val_loss did not improve\n"
     ]
    },
    {
     "name": "stdout",
     "output_type": "stream",
     "text": [
      "50/50 [==============================] - 165s - loss: 0.1048 - acc: 0.9719 - val_loss: 0.9270 - val_acc: 0.7836\n",
      "Epoch 67/80\n",
      "49/50 [============================>.] - ETA: 1s - loss: 0.0793 - acc: 0.9802Epoch 00066: val_loss did not improve\n",
      "50/50 [==============================] - 166s - loss: 0.0790 - acc: 0.9800 - val_loss: 0.7932 - val_acc: 0.8582\n",
      "Epoch 68/80\n",
      "49/50 [============================>.] - ETA: 1s - loss: 0.0759 - acc: 0.9790Epoch 00067: val_loss did not improve\n",
      "50/50 [==============================] - 166s - loss: 0.0745 - acc: 0.9794 - val_loss: 0.9371 - val_acc: 0.8114\n",
      "Epoch 69/80\n",
      "49/50 [============================>.] - ETA: 1s - loss: 0.0659 - acc: 0.9796Epoch 00068: val_loss did not improve\n",
      "50/50 [==============================] - 166s - loss: 0.0649 - acc: 0.9800 - val_loss: 1.1489 - val_acc: 0.8240\n",
      "Epoch 70/80\n",
      "49/50 [============================>.] - ETA: 1s - loss: 0.0784 - acc: 0.9809Epoch 00069: val_loss did not improve\n",
      "50/50 [==============================] - 166s - loss: 0.0770 - acc: 0.9813 - val_loss: 0.6556 - val_acc: 0.8813\n",
      "Epoch 71/80\n",
      "49/50 [============================>.] - ETA: 1s - loss: 0.0541 - acc: 0.9841Epoch 00070: val_loss did not improve\n",
      "50/50 [==============================] - 166s - loss: 0.0550 - acc: 0.9838 - val_loss: 0.9787 - val_acc: 0.8542\n",
      "Epoch 72/80\n",
      "49/50 [============================>.] - ETA: 1s - loss: 0.0440 - acc: 0.9885Epoch 00071: val_loss did not improve\n",
      "50/50 [==============================] - 166s - loss: 0.0432 - acc: 0.9888 - val_loss: 0.7563 - val_acc: 0.8576\n",
      "Epoch 73/80\n",
      "49/50 [============================>.] - ETA: 1s - loss: 0.0494 - acc: 0.9879Epoch 00072: val_loss did not improve\n",
      "50/50 [==============================] - 166s - loss: 0.0486 - acc: 0.9881 - val_loss: 0.6778 - val_acc: 0.8746\n",
      "Epoch 74/80\n",
      "49/50 [============================>.] - ETA: 1s - loss: 0.0230 - acc: 0.9930Epoch 00073: val_loss did not improve\n",
      "50/50 [==============================] - 166s - loss: 0.0238 - acc: 0.9925 - val_loss: 1.0971 - val_acc: 0.8049\n",
      "Epoch 75/80\n",
      "49/50 [============================>.] - ETA: 1s - loss: 0.0631 - acc: 0.9815Epoch 00074: val_loss did not improve\n",
      "50/50 [==============================] - 166s - loss: 0.0620 - acc: 0.9819 - val_loss: 0.9460 - val_acc: 0.7875\n",
      "Epoch 76/80\n",
      "49/50 [============================>.] - ETA: 1s - loss: 0.0450 - acc: 0.9866Epoch 00075: val_loss did not improve\n",
      "50/50 [==============================] - 166s - loss: 0.0444 - acc: 0.9869 - val_loss: 0.7007 - val_acc: 0.8413\n",
      "Epoch 77/80\n",
      "49/50 [============================>.] - ETA: 1s - loss: 0.1601 - acc: 0.9579Epoch 00076: val_loss did not improve\n",
      "50/50 [==============================] - 165s - loss: 0.1607 - acc: 0.9575 - val_loss: 1.1711 - val_acc: 0.7708\n",
      "Epoch 78/80\n",
      "49/50 [============================>.] - ETA: 1s - loss: 0.0924 - acc: 0.9726Epoch 00077: val_loss did not improve\n",
      "50/50 [==============================] - 166s - loss: 0.0914 - acc: 0.9725 - val_loss: 0.8281 - val_acc: 0.8419\n",
      "Epoch 79/80\n",
      "49/50 [============================>.] - ETA: 1s - loss: 0.1346 - acc: 0.9630Epoch 00078: val_loss did not improve\n",
      "50/50 [==============================] - 166s - loss: 0.1345 - acc: 0.9631 - val_loss: 1.0614 - val_acc: 0.7985\n",
      "Epoch 80/80\n",
      "49/50 [============================>.] - ETA: 1s - loss: 0.0880 - acc: 0.9726Epoch 00079: val_loss did not improve\n",
      "50/50 [==============================] - 166s - loss: 0.0870 - acc: 0.9731 - val_loss: 0.9287 - val_acc: 0.8483\n"
     ]
    },
    {
     "data": {
      "text/plain": [
       "<keras.callbacks.History at 0x7f08d85eaac8>"
      ]
     },
     "execution_count": 29,
     "metadata": {},
     "output_type": "execute_result"
    }
   ],
   "source": [
    "model_vgg16_ft.fit_generator(train_aug_generator, \n",
    "                             50,\n",
    "                             num_epochs, \n",
    "                             validation_data=val_generator, \n",
    "                             validation_steps=val_generator.samples//batch_size+1,\n",
    "                             callbacks=[tensorboard_cb, ckpt_cb])"
   ]
  },
  {
   "cell_type": "code",
   "execution_count": 19,
   "metadata": {
    "collapsed": true
   },
   "outputs": [],
   "source": [
    "model_vgg16_ft.load_weights('vgg16_ft0_aug_weights.31-0.485.hdf5')"
   ]
  },
  {
   "cell_type": "code",
   "execution_count": 20,
   "metadata": {
    "collapsed": true
   },
   "outputs": [],
   "source": [
    "def write_predicts_gen(test_gen, batch_size, sub_fname):\n",
    "    y_pred = model_vgg16_ft.predict_generator(test_gen, \n",
    "                                              test_gen.samples//batch_size+1, \n",
    "                                              verbose=1)\n",
    "\n",
    "    y_pred_df = pd.DataFrame(y_pred, columns=classnames)\n",
    "    \n",
    "    img_name = []\n",
    "    for i, fname in enumerate(test_gen.filenames):\n",
    "        img_name.append(os.path.basename(fname))\n",
    "\n",
    "    img_name_df = pd.DataFrame(img_name, columns=['img'])\n",
    "    predictions = pd.concat([img_name_df, y_pred_df], axis=1)\n",
    "    print(predictions.shape)\n",
    "    predictions.to_csv(sub_fname, index=False)\n",
    "    print('submission file {} is ready.'.format(sub_fname))"
   ]
  },
  {
   "cell_type": "code",
   "execution_count": 21,
   "metadata": {
    "scrolled": true
   },
   "outputs": [
    {
     "name": "stdout",
     "output_type": "stream",
     "text": [
      "2492/2492 [==============================] - 1263s  \n",
      "(79726, 11)\n",
      "submission file submission_vgg16_ft0_aug.csv is ready.\n"
     ]
    }
   ],
   "source": [
    "write_predicts_gen(test_generator, batch_size, 'submission_vgg16_ft0_aug.csv')"
   ]
  },
  {
   "cell_type": "code",
   "execution_count": null,
   "metadata": {
    "collapsed": true
   },
   "outputs": [],
   "source": []
  }
 ],
 "metadata": {
  "kernelspec": {
   "display_name": "Python 3",
   "language": "python",
   "name": "python3"
  },
  "language_info": {
   "codemirror_mode": {
    "name": "ipython",
    "version": 3
   },
   "file_extension": ".py",
   "mimetype": "text/x-python",
   "name": "python",
   "nbconvert_exporter": "python",
   "pygments_lexer": "ipython3",
   "version": "3.6.2"
  }
 },
 "nbformat": 4,
 "nbformat_minor": 2
}
